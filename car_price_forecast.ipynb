{
 "cells": [
  {
   "cell_type": "markdown",
   "metadata": {},
   "source": [
    "# Определение стоимости автомобилей"
   ]
  },
  {
   "cell_type": "markdown",
   "metadata": {},
   "source": [
    "Сервис по продаже автомобилей с пробегом «Не бит, не крашен» разрабатывает приложение для привлечения новых клиентов. В нём можно быстро узнать рыночную стоимость своего автомобиля. В вашем распоряжении исторические данные: технические характеристики, комплектации и цены автомобилей. Вам нужно построить модель для определения стоимости. \n",
    "\n",
    "Заказчику важны:\n",
    "\n",
    "- качество предсказания;\n",
    "- скорость предсказания;\n",
    "- время обучения."
   ]
  },
  {
   "cell_type": "markdown",
   "metadata": {},
   "source": [
    "## Подготовка данных"
   ]
  },
  {
   "cell_type": "code",
   "execution_count": 1,
   "metadata": {},
   "outputs": [],
   "source": [
    "import pandas as pd\n",
    "import numpy as np\n",
    "\n",
    "import matplotlib.pyplot as plt\n",
    "import time\n",
    "from sklearn.preprocessing import OrdinalEncoder\n",
    "from sklearn.tree import DecisionTreeRegressor\n",
    "from sklearn.linear_model import LinearRegression\n",
    "from sklearn.ensemble import RandomForestRegressor\n",
    "from sklearn.model_selection import GridSearchCV\n",
    "from sklearn.metrics import mean_squared_error\n",
    "from sklearn.model_selection import train_test_split\n",
    "from sklearn.preprocessing import StandardScaler \n",
    "from lightgbm.sklearn import LGBMRegressor\n",
    "from sklearn.model_selection import cross_val_score"
   ]
  },
  {
   "cell_type": "code",
   "execution_count": 2,
   "metadata": {
    "scrolled": false
   },
   "outputs": [
    {
     "name": "stdout",
     "output_type": "stream",
     "text": [
      "<class 'pandas.core.frame.DataFrame'>\n",
      "RangeIndex: 354369 entries, 0 to 354368\n",
      "Data columns (total 16 columns):\n",
      " #   Column             Non-Null Count   Dtype \n",
      "---  ------             --------------   ----- \n",
      " 0   DateCrawled        354369 non-null  object\n",
      " 1   Price              354369 non-null  int64 \n",
      " 2   VehicleType        316879 non-null  object\n",
      " 3   RegistrationYear   354369 non-null  int64 \n",
      " 4   Gearbox            334536 non-null  object\n",
      " 5   Power              354369 non-null  int64 \n",
      " 6   Model              334664 non-null  object\n",
      " 7   Kilometer          354369 non-null  int64 \n",
      " 8   RegistrationMonth  354369 non-null  int64 \n",
      " 9   FuelType           321474 non-null  object\n",
      " 10  Brand              354369 non-null  object\n",
      " 11  NotRepaired        283215 non-null  object\n",
      " 12  DateCreated        354369 non-null  object\n",
      " 13  NumberOfPictures   354369 non-null  int64 \n",
      " 14  PostalCode         354369 non-null  int64 \n",
      " 15  LastSeen           354369 non-null  object\n",
      "dtypes: int64(7), object(9)\n",
      "memory usage: 43.3+ MB\n"
     ]
    }
   ],
   "source": [
    "df = pd.read_csv('/datasets/autos.csv')\n",
    "df.info()"
   ]
  },
  {
   "cell_type": "markdown",
   "metadata": {},
   "source": [
    "Познакомимся с данными, выведем на экран первых 20 строк:"
   ]
  },
  {
   "cell_type": "code",
   "execution_count": 3,
   "metadata": {
    "scrolled": false
   },
   "outputs": [
    {
     "data": {
      "text/html": [
       "<div>\n",
       "<style scoped>\n",
       "    .dataframe tbody tr th:only-of-type {\n",
       "        vertical-align: middle;\n",
       "    }\n",
       "\n",
       "    .dataframe tbody tr th {\n",
       "        vertical-align: top;\n",
       "    }\n",
       "\n",
       "    .dataframe thead th {\n",
       "        text-align: right;\n",
       "    }\n",
       "</style>\n",
       "<table border=\"1\" class=\"dataframe\">\n",
       "  <thead>\n",
       "    <tr style=\"text-align: right;\">\n",
       "      <th></th>\n",
       "      <th>DateCrawled</th>\n",
       "      <th>Price</th>\n",
       "      <th>VehicleType</th>\n",
       "      <th>RegistrationYear</th>\n",
       "      <th>Gearbox</th>\n",
       "      <th>Power</th>\n",
       "      <th>Model</th>\n",
       "      <th>Kilometer</th>\n",
       "      <th>RegistrationMonth</th>\n",
       "      <th>FuelType</th>\n",
       "      <th>Brand</th>\n",
       "      <th>NotRepaired</th>\n",
       "      <th>DateCreated</th>\n",
       "      <th>NumberOfPictures</th>\n",
       "      <th>PostalCode</th>\n",
       "      <th>LastSeen</th>\n",
       "    </tr>\n",
       "  </thead>\n",
       "  <tbody>\n",
       "    <tr>\n",
       "      <th>0</th>\n",
       "      <td>2016-03-24 11:52:17</td>\n",
       "      <td>480</td>\n",
       "      <td>NaN</td>\n",
       "      <td>1993</td>\n",
       "      <td>manual</td>\n",
       "      <td>0</td>\n",
       "      <td>golf</td>\n",
       "      <td>150000</td>\n",
       "      <td>0</td>\n",
       "      <td>petrol</td>\n",
       "      <td>volkswagen</td>\n",
       "      <td>NaN</td>\n",
       "      <td>2016-03-24 00:00:00</td>\n",
       "      <td>0</td>\n",
       "      <td>70435</td>\n",
       "      <td>2016-04-07 03:16:57</td>\n",
       "    </tr>\n",
       "    <tr>\n",
       "      <th>1</th>\n",
       "      <td>2016-03-24 10:58:45</td>\n",
       "      <td>18300</td>\n",
       "      <td>coupe</td>\n",
       "      <td>2011</td>\n",
       "      <td>manual</td>\n",
       "      <td>190</td>\n",
       "      <td>NaN</td>\n",
       "      <td>125000</td>\n",
       "      <td>5</td>\n",
       "      <td>gasoline</td>\n",
       "      <td>audi</td>\n",
       "      <td>yes</td>\n",
       "      <td>2016-03-24 00:00:00</td>\n",
       "      <td>0</td>\n",
       "      <td>66954</td>\n",
       "      <td>2016-04-07 01:46:50</td>\n",
       "    </tr>\n",
       "    <tr>\n",
       "      <th>2</th>\n",
       "      <td>2016-03-14 12:52:21</td>\n",
       "      <td>9800</td>\n",
       "      <td>suv</td>\n",
       "      <td>2004</td>\n",
       "      <td>auto</td>\n",
       "      <td>163</td>\n",
       "      <td>grand</td>\n",
       "      <td>125000</td>\n",
       "      <td>8</td>\n",
       "      <td>gasoline</td>\n",
       "      <td>jeep</td>\n",
       "      <td>NaN</td>\n",
       "      <td>2016-03-14 00:00:00</td>\n",
       "      <td>0</td>\n",
       "      <td>90480</td>\n",
       "      <td>2016-04-05 12:47:46</td>\n",
       "    </tr>\n",
       "    <tr>\n",
       "      <th>3</th>\n",
       "      <td>2016-03-17 16:54:04</td>\n",
       "      <td>1500</td>\n",
       "      <td>small</td>\n",
       "      <td>2001</td>\n",
       "      <td>manual</td>\n",
       "      <td>75</td>\n",
       "      <td>golf</td>\n",
       "      <td>150000</td>\n",
       "      <td>6</td>\n",
       "      <td>petrol</td>\n",
       "      <td>volkswagen</td>\n",
       "      <td>no</td>\n",
       "      <td>2016-03-17 00:00:00</td>\n",
       "      <td>0</td>\n",
       "      <td>91074</td>\n",
       "      <td>2016-03-17 17:40:17</td>\n",
       "    </tr>\n",
       "    <tr>\n",
       "      <th>4</th>\n",
       "      <td>2016-03-31 17:25:20</td>\n",
       "      <td>3600</td>\n",
       "      <td>small</td>\n",
       "      <td>2008</td>\n",
       "      <td>manual</td>\n",
       "      <td>69</td>\n",
       "      <td>fabia</td>\n",
       "      <td>90000</td>\n",
       "      <td>7</td>\n",
       "      <td>gasoline</td>\n",
       "      <td>skoda</td>\n",
       "      <td>no</td>\n",
       "      <td>2016-03-31 00:00:00</td>\n",
       "      <td>0</td>\n",
       "      <td>60437</td>\n",
       "      <td>2016-04-06 10:17:21</td>\n",
       "    </tr>\n",
       "    <tr>\n",
       "      <th>5</th>\n",
       "      <td>2016-04-04 17:36:23</td>\n",
       "      <td>650</td>\n",
       "      <td>sedan</td>\n",
       "      <td>1995</td>\n",
       "      <td>manual</td>\n",
       "      <td>102</td>\n",
       "      <td>3er</td>\n",
       "      <td>150000</td>\n",
       "      <td>10</td>\n",
       "      <td>petrol</td>\n",
       "      <td>bmw</td>\n",
       "      <td>yes</td>\n",
       "      <td>2016-04-04 00:00:00</td>\n",
       "      <td>0</td>\n",
       "      <td>33775</td>\n",
       "      <td>2016-04-06 19:17:07</td>\n",
       "    </tr>\n",
       "    <tr>\n",
       "      <th>6</th>\n",
       "      <td>2016-04-01 20:48:51</td>\n",
       "      <td>2200</td>\n",
       "      <td>convertible</td>\n",
       "      <td>2004</td>\n",
       "      <td>manual</td>\n",
       "      <td>109</td>\n",
       "      <td>2_reihe</td>\n",
       "      <td>150000</td>\n",
       "      <td>8</td>\n",
       "      <td>petrol</td>\n",
       "      <td>peugeot</td>\n",
       "      <td>no</td>\n",
       "      <td>2016-04-01 00:00:00</td>\n",
       "      <td>0</td>\n",
       "      <td>67112</td>\n",
       "      <td>2016-04-05 18:18:39</td>\n",
       "    </tr>\n",
       "    <tr>\n",
       "      <th>7</th>\n",
       "      <td>2016-03-21 18:54:38</td>\n",
       "      <td>0</td>\n",
       "      <td>sedan</td>\n",
       "      <td>1980</td>\n",
       "      <td>manual</td>\n",
       "      <td>50</td>\n",
       "      <td>other</td>\n",
       "      <td>40000</td>\n",
       "      <td>7</td>\n",
       "      <td>petrol</td>\n",
       "      <td>volkswagen</td>\n",
       "      <td>no</td>\n",
       "      <td>2016-03-21 00:00:00</td>\n",
       "      <td>0</td>\n",
       "      <td>19348</td>\n",
       "      <td>2016-03-25 16:47:58</td>\n",
       "    </tr>\n",
       "    <tr>\n",
       "      <th>8</th>\n",
       "      <td>2016-04-04 23:42:13</td>\n",
       "      <td>14500</td>\n",
       "      <td>bus</td>\n",
       "      <td>2014</td>\n",
       "      <td>manual</td>\n",
       "      <td>125</td>\n",
       "      <td>c_max</td>\n",
       "      <td>30000</td>\n",
       "      <td>8</td>\n",
       "      <td>petrol</td>\n",
       "      <td>ford</td>\n",
       "      <td>NaN</td>\n",
       "      <td>2016-04-04 00:00:00</td>\n",
       "      <td>0</td>\n",
       "      <td>94505</td>\n",
       "      <td>2016-04-04 23:42:13</td>\n",
       "    </tr>\n",
       "    <tr>\n",
       "      <th>9</th>\n",
       "      <td>2016-03-17 10:53:50</td>\n",
       "      <td>999</td>\n",
       "      <td>small</td>\n",
       "      <td>1998</td>\n",
       "      <td>manual</td>\n",
       "      <td>101</td>\n",
       "      <td>golf</td>\n",
       "      <td>150000</td>\n",
       "      <td>0</td>\n",
       "      <td>NaN</td>\n",
       "      <td>volkswagen</td>\n",
       "      <td>NaN</td>\n",
       "      <td>2016-03-17 00:00:00</td>\n",
       "      <td>0</td>\n",
       "      <td>27472</td>\n",
       "      <td>2016-03-31 17:17:06</td>\n",
       "    </tr>\n",
       "    <tr>\n",
       "      <th>10</th>\n",
       "      <td>2016-03-26 19:54:18</td>\n",
       "      <td>2000</td>\n",
       "      <td>sedan</td>\n",
       "      <td>2004</td>\n",
       "      <td>manual</td>\n",
       "      <td>105</td>\n",
       "      <td>3_reihe</td>\n",
       "      <td>150000</td>\n",
       "      <td>12</td>\n",
       "      <td>petrol</td>\n",
       "      <td>mazda</td>\n",
       "      <td>no</td>\n",
       "      <td>2016-03-26 00:00:00</td>\n",
       "      <td>0</td>\n",
       "      <td>96224</td>\n",
       "      <td>2016-04-06 10:45:34</td>\n",
       "    </tr>\n",
       "    <tr>\n",
       "      <th>11</th>\n",
       "      <td>2016-04-07 10:06:22</td>\n",
       "      <td>2799</td>\n",
       "      <td>wagon</td>\n",
       "      <td>2005</td>\n",
       "      <td>manual</td>\n",
       "      <td>140</td>\n",
       "      <td>passat</td>\n",
       "      <td>150000</td>\n",
       "      <td>12</td>\n",
       "      <td>gasoline</td>\n",
       "      <td>volkswagen</td>\n",
       "      <td>yes</td>\n",
       "      <td>2016-04-07 00:00:00</td>\n",
       "      <td>0</td>\n",
       "      <td>57290</td>\n",
       "      <td>2016-04-07 10:25:17</td>\n",
       "    </tr>\n",
       "    <tr>\n",
       "      <th>12</th>\n",
       "      <td>2016-03-15 22:49:09</td>\n",
       "      <td>999</td>\n",
       "      <td>wagon</td>\n",
       "      <td>1995</td>\n",
       "      <td>manual</td>\n",
       "      <td>115</td>\n",
       "      <td>passat</td>\n",
       "      <td>150000</td>\n",
       "      <td>11</td>\n",
       "      <td>petrol</td>\n",
       "      <td>volkswagen</td>\n",
       "      <td>NaN</td>\n",
       "      <td>2016-03-15 00:00:00</td>\n",
       "      <td>0</td>\n",
       "      <td>37269</td>\n",
       "      <td>2016-04-01 13:16:16</td>\n",
       "    </tr>\n",
       "    <tr>\n",
       "      <th>13</th>\n",
       "      <td>2016-03-21 21:37:40</td>\n",
       "      <td>2500</td>\n",
       "      <td>wagon</td>\n",
       "      <td>2004</td>\n",
       "      <td>manual</td>\n",
       "      <td>131</td>\n",
       "      <td>passat</td>\n",
       "      <td>150000</td>\n",
       "      <td>2</td>\n",
       "      <td>NaN</td>\n",
       "      <td>volkswagen</td>\n",
       "      <td>no</td>\n",
       "      <td>2016-03-21 00:00:00</td>\n",
       "      <td>0</td>\n",
       "      <td>90762</td>\n",
       "      <td>2016-03-23 02:50:54</td>\n",
       "    </tr>\n",
       "    <tr>\n",
       "      <th>14</th>\n",
       "      <td>2016-03-21 12:57:01</td>\n",
       "      <td>17999</td>\n",
       "      <td>suv</td>\n",
       "      <td>2011</td>\n",
       "      <td>manual</td>\n",
       "      <td>190</td>\n",
       "      <td>navara</td>\n",
       "      <td>70000</td>\n",
       "      <td>3</td>\n",
       "      <td>gasoline</td>\n",
       "      <td>nissan</td>\n",
       "      <td>no</td>\n",
       "      <td>2016-03-21 00:00:00</td>\n",
       "      <td>0</td>\n",
       "      <td>4177</td>\n",
       "      <td>2016-04-06 07:45:42</td>\n",
       "    </tr>\n",
       "    <tr>\n",
       "      <th>15</th>\n",
       "      <td>2016-03-11 21:39:15</td>\n",
       "      <td>450</td>\n",
       "      <td>small</td>\n",
       "      <td>1910</td>\n",
       "      <td>NaN</td>\n",
       "      <td>0</td>\n",
       "      <td>ka</td>\n",
       "      <td>5000</td>\n",
       "      <td>0</td>\n",
       "      <td>petrol</td>\n",
       "      <td>ford</td>\n",
       "      <td>NaN</td>\n",
       "      <td>2016-03-11 00:00:00</td>\n",
       "      <td>0</td>\n",
       "      <td>24148</td>\n",
       "      <td>2016-03-19 08:46:47</td>\n",
       "    </tr>\n",
       "    <tr>\n",
       "      <th>16</th>\n",
       "      <td>2016-04-01 12:46:46</td>\n",
       "      <td>300</td>\n",
       "      <td>NaN</td>\n",
       "      <td>2016</td>\n",
       "      <td>NaN</td>\n",
       "      <td>60</td>\n",
       "      <td>polo</td>\n",
       "      <td>150000</td>\n",
       "      <td>0</td>\n",
       "      <td>petrol</td>\n",
       "      <td>volkswagen</td>\n",
       "      <td>NaN</td>\n",
       "      <td>2016-04-01 00:00:00</td>\n",
       "      <td>0</td>\n",
       "      <td>38871</td>\n",
       "      <td>2016-04-01 12:46:46</td>\n",
       "    </tr>\n",
       "    <tr>\n",
       "      <th>17</th>\n",
       "      <td>2016-03-20 10:25:19</td>\n",
       "      <td>1750</td>\n",
       "      <td>small</td>\n",
       "      <td>2004</td>\n",
       "      <td>auto</td>\n",
       "      <td>75</td>\n",
       "      <td>twingo</td>\n",
       "      <td>150000</td>\n",
       "      <td>2</td>\n",
       "      <td>petrol</td>\n",
       "      <td>renault</td>\n",
       "      <td>no</td>\n",
       "      <td>2016-03-20 00:00:00</td>\n",
       "      <td>0</td>\n",
       "      <td>65599</td>\n",
       "      <td>2016-04-06 13:16:07</td>\n",
       "    </tr>\n",
       "    <tr>\n",
       "      <th>18</th>\n",
       "      <td>2016-03-23 15:48:05</td>\n",
       "      <td>7550</td>\n",
       "      <td>bus</td>\n",
       "      <td>2007</td>\n",
       "      <td>manual</td>\n",
       "      <td>136</td>\n",
       "      <td>c_max</td>\n",
       "      <td>150000</td>\n",
       "      <td>6</td>\n",
       "      <td>gasoline</td>\n",
       "      <td>ford</td>\n",
       "      <td>no</td>\n",
       "      <td>2016-03-23 00:00:00</td>\n",
       "      <td>0</td>\n",
       "      <td>88361</td>\n",
       "      <td>2016-04-05 18:45:11</td>\n",
       "    </tr>\n",
       "    <tr>\n",
       "      <th>19</th>\n",
       "      <td>2016-04-01 22:55:47</td>\n",
       "      <td>1850</td>\n",
       "      <td>bus</td>\n",
       "      <td>2004</td>\n",
       "      <td>manual</td>\n",
       "      <td>102</td>\n",
       "      <td>a_klasse</td>\n",
       "      <td>150000</td>\n",
       "      <td>1</td>\n",
       "      <td>petrol</td>\n",
       "      <td>mercedes_benz</td>\n",
       "      <td>no</td>\n",
       "      <td>2016-04-01 00:00:00</td>\n",
       "      <td>0</td>\n",
       "      <td>49565</td>\n",
       "      <td>2016-04-05 22:46:05</td>\n",
       "    </tr>\n",
       "  </tbody>\n",
       "</table>\n",
       "</div>"
      ],
      "text/plain": [
       "            DateCrawled  Price  VehicleType  RegistrationYear Gearbox  Power  \\\n",
       "0   2016-03-24 11:52:17    480          NaN              1993  manual      0   \n",
       "1   2016-03-24 10:58:45  18300        coupe              2011  manual    190   \n",
       "2   2016-03-14 12:52:21   9800          suv              2004    auto    163   \n",
       "3   2016-03-17 16:54:04   1500        small              2001  manual     75   \n",
       "4   2016-03-31 17:25:20   3600        small              2008  manual     69   \n",
       "5   2016-04-04 17:36:23    650        sedan              1995  manual    102   \n",
       "6   2016-04-01 20:48:51   2200  convertible              2004  manual    109   \n",
       "7   2016-03-21 18:54:38      0        sedan              1980  manual     50   \n",
       "8   2016-04-04 23:42:13  14500          bus              2014  manual    125   \n",
       "9   2016-03-17 10:53:50    999        small              1998  manual    101   \n",
       "10  2016-03-26 19:54:18   2000        sedan              2004  manual    105   \n",
       "11  2016-04-07 10:06:22   2799        wagon              2005  manual    140   \n",
       "12  2016-03-15 22:49:09    999        wagon              1995  manual    115   \n",
       "13  2016-03-21 21:37:40   2500        wagon              2004  manual    131   \n",
       "14  2016-03-21 12:57:01  17999          suv              2011  manual    190   \n",
       "15  2016-03-11 21:39:15    450        small              1910     NaN      0   \n",
       "16  2016-04-01 12:46:46    300          NaN              2016     NaN     60   \n",
       "17  2016-03-20 10:25:19   1750        small              2004    auto     75   \n",
       "18  2016-03-23 15:48:05   7550          bus              2007  manual    136   \n",
       "19  2016-04-01 22:55:47   1850          bus              2004  manual    102   \n",
       "\n",
       "       Model  Kilometer  RegistrationMonth  FuelType          Brand  \\\n",
       "0       golf     150000                  0    petrol     volkswagen   \n",
       "1        NaN     125000                  5  gasoline           audi   \n",
       "2      grand     125000                  8  gasoline           jeep   \n",
       "3       golf     150000                  6    petrol     volkswagen   \n",
       "4      fabia      90000                  7  gasoline          skoda   \n",
       "5        3er     150000                 10    petrol            bmw   \n",
       "6    2_reihe     150000                  8    petrol        peugeot   \n",
       "7      other      40000                  7    petrol     volkswagen   \n",
       "8      c_max      30000                  8    petrol           ford   \n",
       "9       golf     150000                  0       NaN     volkswagen   \n",
       "10   3_reihe     150000                 12    petrol          mazda   \n",
       "11    passat     150000                 12  gasoline     volkswagen   \n",
       "12    passat     150000                 11    petrol     volkswagen   \n",
       "13    passat     150000                  2       NaN     volkswagen   \n",
       "14    navara      70000                  3  gasoline         nissan   \n",
       "15        ka       5000                  0    petrol           ford   \n",
       "16      polo     150000                  0    petrol     volkswagen   \n",
       "17    twingo     150000                  2    petrol        renault   \n",
       "18     c_max     150000                  6  gasoline           ford   \n",
       "19  a_klasse     150000                  1    petrol  mercedes_benz   \n",
       "\n",
       "   NotRepaired          DateCreated  NumberOfPictures  PostalCode  \\\n",
       "0          NaN  2016-03-24 00:00:00                 0       70435   \n",
       "1          yes  2016-03-24 00:00:00                 0       66954   \n",
       "2          NaN  2016-03-14 00:00:00                 0       90480   \n",
       "3           no  2016-03-17 00:00:00                 0       91074   \n",
       "4           no  2016-03-31 00:00:00                 0       60437   \n",
       "5          yes  2016-04-04 00:00:00                 0       33775   \n",
       "6           no  2016-04-01 00:00:00                 0       67112   \n",
       "7           no  2016-03-21 00:00:00                 0       19348   \n",
       "8          NaN  2016-04-04 00:00:00                 0       94505   \n",
       "9          NaN  2016-03-17 00:00:00                 0       27472   \n",
       "10          no  2016-03-26 00:00:00                 0       96224   \n",
       "11         yes  2016-04-07 00:00:00                 0       57290   \n",
       "12         NaN  2016-03-15 00:00:00                 0       37269   \n",
       "13          no  2016-03-21 00:00:00                 0       90762   \n",
       "14          no  2016-03-21 00:00:00                 0        4177   \n",
       "15         NaN  2016-03-11 00:00:00                 0       24148   \n",
       "16         NaN  2016-04-01 00:00:00                 0       38871   \n",
       "17          no  2016-03-20 00:00:00                 0       65599   \n",
       "18          no  2016-03-23 00:00:00                 0       88361   \n",
       "19          no  2016-04-01 00:00:00                 0       49565   \n",
       "\n",
       "               LastSeen  \n",
       "0   2016-04-07 03:16:57  \n",
       "1   2016-04-07 01:46:50  \n",
       "2   2016-04-05 12:47:46  \n",
       "3   2016-03-17 17:40:17  \n",
       "4   2016-04-06 10:17:21  \n",
       "5   2016-04-06 19:17:07  \n",
       "6   2016-04-05 18:18:39  \n",
       "7   2016-03-25 16:47:58  \n",
       "8   2016-04-04 23:42:13  \n",
       "9   2016-03-31 17:17:06  \n",
       "10  2016-04-06 10:45:34  \n",
       "11  2016-04-07 10:25:17  \n",
       "12  2016-04-01 13:16:16  \n",
       "13  2016-03-23 02:50:54  \n",
       "14  2016-04-06 07:45:42  \n",
       "15  2016-03-19 08:46:47  \n",
       "16  2016-04-01 12:46:46  \n",
       "17  2016-04-06 13:16:07  \n",
       "18  2016-04-05 18:45:11  \n",
       "19  2016-04-05 22:46:05  "
      ]
     },
     "execution_count": 3,
     "metadata": {},
     "output_type": "execute_result"
    }
   ],
   "source": [
    "df.head(20)"
   ]
  },
  {
   "cell_type": "markdown",
   "metadata": {},
   "source": [
    "Произведем поиск дубликатов:"
   ]
  },
  {
   "cell_type": "code",
   "execution_count": 4,
   "metadata": {
    "scrolled": true
   },
   "outputs": [
    {
     "data": {
      "text/html": [
       "<div>\n",
       "<style scoped>\n",
       "    .dataframe tbody tr th:only-of-type {\n",
       "        vertical-align: middle;\n",
       "    }\n",
       "\n",
       "    .dataframe tbody tr th {\n",
       "        vertical-align: top;\n",
       "    }\n",
       "\n",
       "    .dataframe thead th {\n",
       "        text-align: right;\n",
       "    }\n",
       "</style>\n",
       "<table border=\"1\" class=\"dataframe\">\n",
       "  <thead>\n",
       "    <tr style=\"text-align: right;\">\n",
       "      <th></th>\n",
       "      <th>DateCrawled</th>\n",
       "      <th>Price</th>\n",
       "      <th>VehicleType</th>\n",
       "      <th>RegistrationYear</th>\n",
       "      <th>Gearbox</th>\n",
       "      <th>Power</th>\n",
       "      <th>Model</th>\n",
       "      <th>Kilometer</th>\n",
       "      <th>RegistrationMonth</th>\n",
       "      <th>FuelType</th>\n",
       "      <th>Brand</th>\n",
       "      <th>NotRepaired</th>\n",
       "      <th>DateCreated</th>\n",
       "      <th>NumberOfPictures</th>\n",
       "      <th>PostalCode</th>\n",
       "      <th>LastSeen</th>\n",
       "    </tr>\n",
       "  </thead>\n",
       "  <tbody>\n",
       "    <tr>\n",
       "      <th>171088</th>\n",
       "      <td>2016-03-08 18:42:48</td>\n",
       "      <td>1799</td>\n",
       "      <td>coupe</td>\n",
       "      <td>1999</td>\n",
       "      <td>auto</td>\n",
       "      <td>193</td>\n",
       "      <td>clk</td>\n",
       "      <td>20000</td>\n",
       "      <td>7</td>\n",
       "      <td>petrol</td>\n",
       "      <td>mercedes_benz</td>\n",
       "      <td>no</td>\n",
       "      <td>2016-03-08 00:00:00</td>\n",
       "      <td>0</td>\n",
       "      <td>89518</td>\n",
       "      <td>2016-03-09 09:46:57</td>\n",
       "    </tr>\n",
       "    <tr>\n",
       "      <th>231258</th>\n",
       "      <td>2016-03-28 00:56:10</td>\n",
       "      <td>1000</td>\n",
       "      <td>small</td>\n",
       "      <td>2002</td>\n",
       "      <td>manual</td>\n",
       "      <td>83</td>\n",
       "      <td>other</td>\n",
       "      <td>150000</td>\n",
       "      <td>1</td>\n",
       "      <td>petrol</td>\n",
       "      <td>suzuki</td>\n",
       "      <td>no</td>\n",
       "      <td>2016-03-28 00:00:00</td>\n",
       "      <td>0</td>\n",
       "      <td>66589</td>\n",
       "      <td>2016-03-28 08:46:21</td>\n",
       "    </tr>\n",
       "    <tr>\n",
       "      <th>258109</th>\n",
       "      <td>2016-04-03 09:01:15</td>\n",
       "      <td>4699</td>\n",
       "      <td>coupe</td>\n",
       "      <td>2003</td>\n",
       "      <td>auto</td>\n",
       "      <td>218</td>\n",
       "      <td>clk</td>\n",
       "      <td>125000</td>\n",
       "      <td>6</td>\n",
       "      <td>petrol</td>\n",
       "      <td>mercedes_benz</td>\n",
       "      <td>yes</td>\n",
       "      <td>2016-04-03 00:00:00</td>\n",
       "      <td>0</td>\n",
       "      <td>75196</td>\n",
       "      <td>2016-04-07 09:44:54</td>\n",
       "    </tr>\n",
       "    <tr>\n",
       "      <th>325651</th>\n",
       "      <td>2016-03-18 18:46:15</td>\n",
       "      <td>1999</td>\n",
       "      <td>wagon</td>\n",
       "      <td>2001</td>\n",
       "      <td>manual</td>\n",
       "      <td>131</td>\n",
       "      <td>passat</td>\n",
       "      <td>150000</td>\n",
       "      <td>7</td>\n",
       "      <td>gasoline</td>\n",
       "      <td>volkswagen</td>\n",
       "      <td>no</td>\n",
       "      <td>2016-03-18 00:00:00</td>\n",
       "      <td>0</td>\n",
       "      <td>36391</td>\n",
       "      <td>2016-03-18 18:46:15</td>\n",
       "    </tr>\n",
       "  </tbody>\n",
       "</table>\n",
       "</div>"
      ],
      "text/plain": [
       "                DateCrawled  Price VehicleType  RegistrationYear Gearbox  \\\n",
       "171088  2016-03-08 18:42:48   1799       coupe              1999    auto   \n",
       "231258  2016-03-28 00:56:10   1000       small              2002  manual   \n",
       "258109  2016-04-03 09:01:15   4699       coupe              2003    auto   \n",
       "325651  2016-03-18 18:46:15   1999       wagon              2001  manual   \n",
       "\n",
       "        Power   Model  Kilometer  RegistrationMonth  FuelType          Brand  \\\n",
       "171088    193     clk      20000                  7    petrol  mercedes_benz   \n",
       "231258     83   other     150000                  1    petrol         suzuki   \n",
       "258109    218     clk     125000                  6    petrol  mercedes_benz   \n",
       "325651    131  passat     150000                  7  gasoline     volkswagen   \n",
       "\n",
       "       NotRepaired          DateCreated  NumberOfPictures  PostalCode  \\\n",
       "171088          no  2016-03-08 00:00:00                 0       89518   \n",
       "231258          no  2016-03-28 00:00:00                 0       66589   \n",
       "258109         yes  2016-04-03 00:00:00                 0       75196   \n",
       "325651          no  2016-03-18 00:00:00                 0       36391   \n",
       "\n",
       "                   LastSeen  \n",
       "171088  2016-03-09 09:46:57  \n",
       "231258  2016-03-28 08:46:21  \n",
       "258109  2016-04-07 09:44:54  \n",
       "325651  2016-03-18 18:46:15  "
      ]
     },
     "execution_count": 4,
     "metadata": {},
     "output_type": "execute_result"
    }
   ],
   "source": [
    "df[df.duplicated()]"
   ]
  },
  {
   "cell_type": "markdown",
   "metadata": {},
   "source": [
    "Удалим найденные дубликаты"
   ]
  },
  {
   "cell_type": "code",
   "execution_count": 5,
   "metadata": {},
   "outputs": [
    {
     "name": "stdout",
     "output_type": "stream",
     "text": [
      "<class 'pandas.core.frame.DataFrame'>\n",
      "RangeIndex: 354365 entries, 0 to 354364\n",
      "Data columns (total 16 columns):\n",
      " #   Column             Non-Null Count   Dtype \n",
      "---  ------             --------------   ----- \n",
      " 0   DateCrawled        354365 non-null  object\n",
      " 1   Price              354365 non-null  int64 \n",
      " 2   VehicleType        316875 non-null  object\n",
      " 3   RegistrationYear   354365 non-null  int64 \n",
      " 4   Gearbox            334532 non-null  object\n",
      " 5   Power              354365 non-null  int64 \n",
      " 6   Model              334660 non-null  object\n",
      " 7   Kilometer          354365 non-null  int64 \n",
      " 8   RegistrationMonth  354365 non-null  int64 \n",
      " 9   FuelType           321470 non-null  object\n",
      " 10  Brand              354365 non-null  object\n",
      " 11  NotRepaired        283211 non-null  object\n",
      " 12  DateCreated        354365 non-null  object\n",
      " 13  NumberOfPictures   354365 non-null  int64 \n",
      " 14  PostalCode         354365 non-null  int64 \n",
      " 15  LastSeen           354365 non-null  object\n",
      "dtypes: int64(7), object(9)\n",
      "memory usage: 43.3+ MB\n"
     ]
    }
   ],
   "source": [
    "df = df.drop_duplicates().reset_index(drop=True)\n",
    "df.info()"
   ]
  },
  {
   "cell_type": "code",
   "execution_count": 6,
   "metadata": {},
   "outputs": [
    {
     "data": {
      "text/plain": [
       "DateCrawled              0\n",
       "Price                    0\n",
       "VehicleType          37490\n",
       "RegistrationYear         0\n",
       "Gearbox              19833\n",
       "Power                    0\n",
       "Model                19705\n",
       "Kilometer                0\n",
       "RegistrationMonth        0\n",
       "FuelType             32895\n",
       "Brand                    0\n",
       "NotRepaired          71154\n",
       "DateCreated              0\n",
       "NumberOfPictures         0\n",
       "PostalCode               0\n",
       "LastSeen                 0\n",
       "dtype: int64"
      ]
     },
     "execution_count": 6,
     "metadata": {},
     "output_type": "execute_result"
    }
   ],
   "source": [
    "df.isna().sum()"
   ]
  },
  {
   "cell_type": "markdown",
   "metadata": {},
   "source": [
    "Ввиду того, что невозможно корректно восстановить пропущенные значения в столбцах 'VehicleType', 'Gearbox','Model', 'FuelType', 'NotRepaired' заменим их на значения unknown"
   ]
  },
  {
   "cell_type": "code",
   "execution_count": 7,
   "metadata": {},
   "outputs": [
    {
     "data": {
      "text/plain": [
       "DateCrawled          0\n",
       "Price                0\n",
       "VehicleType          0\n",
       "RegistrationYear     0\n",
       "Gearbox              0\n",
       "Power                0\n",
       "Model                0\n",
       "Kilometer            0\n",
       "RegistrationMonth    0\n",
       "FuelType             0\n",
       "Brand                0\n",
       "NotRepaired          0\n",
       "DateCreated          0\n",
       "NumberOfPictures     0\n",
       "PostalCode           0\n",
       "LastSeen             0\n",
       "dtype: int64"
      ]
     },
     "execution_count": 7,
     "metadata": {},
     "output_type": "execute_result"
    }
   ],
   "source": [
    "na_list = ['VehicleType','Gearbox','Model','FuelType','NotRepaired']\n",
    "for item in na_list:\n",
    "    df[item] = df[item].fillna(value='unknown')\n",
    "df.isna().sum()"
   ]
  },
  {
   "cell_type": "markdown",
   "metadata": {},
   "source": [
    "Пропуски исчезли, теперь уберем признаки, которые не пригодятся при прогнозировании, такие как различные даты анкет, месяц регистрации авто(оставим только год), количество фото и почтовый индекс."
   ]
  },
  {
   "cell_type": "code",
   "execution_count": 8,
   "metadata": {
    "scrolled": false
   },
   "outputs": [],
   "source": [
    "df = df.drop(['DateCrawled','RegistrationMonth','DateCreated','NumberOfPictures','PostalCode','LastSeen'],axis=1)"
   ]
  },
  {
   "cell_type": "code",
   "execution_count": 9,
   "metadata": {},
   "outputs": [
    {
     "name": "stdout",
     "output_type": "stream",
     "text": [
      "<class 'pandas.core.frame.DataFrame'>\n",
      "RangeIndex: 354365 entries, 0 to 354364\n",
      "Data columns (total 10 columns):\n",
      " #   Column            Non-Null Count   Dtype \n",
      "---  ------            --------------   ----- \n",
      " 0   Price             354365 non-null  int64 \n",
      " 1   VehicleType       354365 non-null  object\n",
      " 2   RegistrationYear  354365 non-null  int64 \n",
      " 3   Gearbox           354365 non-null  object\n",
      " 4   Power             354365 non-null  int64 \n",
      " 5   Model             354365 non-null  object\n",
      " 6   Kilometer         354365 non-null  int64 \n",
      " 7   FuelType          354365 non-null  object\n",
      " 8   Brand             354365 non-null  object\n",
      " 9   NotRepaired       354365 non-null  object\n",
      "dtypes: int64(4), object(6)\n",
      "memory usage: 27.0+ MB\n"
     ]
    },
    {
     "data": {
      "text/html": [
       "<div>\n",
       "<style scoped>\n",
       "    .dataframe tbody tr th:only-of-type {\n",
       "        vertical-align: middle;\n",
       "    }\n",
       "\n",
       "    .dataframe tbody tr th {\n",
       "        vertical-align: top;\n",
       "    }\n",
       "\n",
       "    .dataframe thead th {\n",
       "        text-align: right;\n",
       "    }\n",
       "</style>\n",
       "<table border=\"1\" class=\"dataframe\">\n",
       "  <thead>\n",
       "    <tr style=\"text-align: right;\">\n",
       "      <th></th>\n",
       "      <th>Price</th>\n",
       "      <th>VehicleType</th>\n",
       "      <th>RegistrationYear</th>\n",
       "      <th>Gearbox</th>\n",
       "      <th>Power</th>\n",
       "      <th>Model</th>\n",
       "      <th>Kilometer</th>\n",
       "      <th>FuelType</th>\n",
       "      <th>Brand</th>\n",
       "      <th>NotRepaired</th>\n",
       "    </tr>\n",
       "  </thead>\n",
       "  <tbody>\n",
       "    <tr>\n",
       "      <th>0</th>\n",
       "      <td>480</td>\n",
       "      <td>unknown</td>\n",
       "      <td>1993</td>\n",
       "      <td>manual</td>\n",
       "      <td>0</td>\n",
       "      <td>golf</td>\n",
       "      <td>150000</td>\n",
       "      <td>petrol</td>\n",
       "      <td>volkswagen</td>\n",
       "      <td>unknown</td>\n",
       "    </tr>\n",
       "    <tr>\n",
       "      <th>1</th>\n",
       "      <td>18300</td>\n",
       "      <td>coupe</td>\n",
       "      <td>2011</td>\n",
       "      <td>manual</td>\n",
       "      <td>190</td>\n",
       "      <td>unknown</td>\n",
       "      <td>125000</td>\n",
       "      <td>gasoline</td>\n",
       "      <td>audi</td>\n",
       "      <td>yes</td>\n",
       "    </tr>\n",
       "    <tr>\n",
       "      <th>2</th>\n",
       "      <td>9800</td>\n",
       "      <td>suv</td>\n",
       "      <td>2004</td>\n",
       "      <td>auto</td>\n",
       "      <td>163</td>\n",
       "      <td>grand</td>\n",
       "      <td>125000</td>\n",
       "      <td>gasoline</td>\n",
       "      <td>jeep</td>\n",
       "      <td>unknown</td>\n",
       "    </tr>\n",
       "    <tr>\n",
       "      <th>3</th>\n",
       "      <td>1500</td>\n",
       "      <td>small</td>\n",
       "      <td>2001</td>\n",
       "      <td>manual</td>\n",
       "      <td>75</td>\n",
       "      <td>golf</td>\n",
       "      <td>150000</td>\n",
       "      <td>petrol</td>\n",
       "      <td>volkswagen</td>\n",
       "      <td>no</td>\n",
       "    </tr>\n",
       "    <tr>\n",
       "      <th>4</th>\n",
       "      <td>3600</td>\n",
       "      <td>small</td>\n",
       "      <td>2008</td>\n",
       "      <td>manual</td>\n",
       "      <td>69</td>\n",
       "      <td>fabia</td>\n",
       "      <td>90000</td>\n",
       "      <td>gasoline</td>\n",
       "      <td>skoda</td>\n",
       "      <td>no</td>\n",
       "    </tr>\n",
       "  </tbody>\n",
       "</table>\n",
       "</div>"
      ],
      "text/plain": [
       "   Price VehicleType  RegistrationYear Gearbox  Power    Model  Kilometer  \\\n",
       "0    480     unknown              1993  manual      0     golf     150000   \n",
       "1  18300       coupe              2011  manual    190  unknown     125000   \n",
       "2   9800         suv              2004    auto    163    grand     125000   \n",
       "3   1500       small              2001  manual     75     golf     150000   \n",
       "4   3600       small              2008  manual     69    fabia      90000   \n",
       "\n",
       "   FuelType       Brand NotRepaired  \n",
       "0    petrol  volkswagen     unknown  \n",
       "1  gasoline        audi         yes  \n",
       "2  gasoline        jeep     unknown  \n",
       "3    petrol  volkswagen          no  \n",
       "4  gasoline       skoda          no  "
      ]
     },
     "execution_count": 9,
     "metadata": {},
     "output_type": "execute_result"
    }
   ],
   "source": [
    "df.info()\n",
    "df.head()"
   ]
  },
  {
   "cell_type": "code",
   "execution_count": 10,
   "metadata": {
    "scrolled": true
   },
   "outputs": [
    {
     "name": "stdout",
     "output_type": "stream",
     "text": [
      "Количество значений признака  Price 3731\n",
      "Количество значений признака  VehicleType 9\n",
      "Количество значений признака  RegistrationYear 151\n",
      "Количество значений признака  Gearbox 3\n",
      "Количество значений признака  Power 712\n",
      "Количество значений признака  Model 251\n",
      "Количество значений признака  Kilometer 13\n",
      "Количество значений признака  FuelType 8\n",
      "Количество значений признака  Brand 40\n",
      "Количество значений признака  NotRepaired 3\n"
     ]
    }
   ],
   "source": [
    "for value in df.columns:\n",
    "    print('Количество значений признака ',value,len(df[value].unique()))"
   ]
  },
  {
   "cell_type": "markdown",
   "metadata": {},
   "source": [
    "Создадим списки признаков таблицы: количественный и категориальный.\n",
    "Изучим значения количественных признаков, избавимся от быбросов."
   ]
  },
  {
   "cell_type": "code",
   "execution_count": 11,
   "metadata": {
    "scrolled": false
   },
   "outputs": [
    {
     "data": {
      "text/plain": [
       "count    354365.000000\n",
       "mean       4416.679830\n",
       "std        4514.176349\n",
       "min           0.000000\n",
       "25%        1050.000000\n",
       "50%        2700.000000\n",
       "75%        6400.000000\n",
       "max       20000.000000\n",
       "Name: Price, dtype: float64"
      ]
     },
     "metadata": {},
     "output_type": "display_data"
    },
    {
     "data": {
      "image/png": "[encoded data removed]",
      "text/plain": [
       "<Figure size 432x288 with 1 Axes>"
      ]
     },
     "metadata": {
      "needs_background": "light"
     },
     "output_type": "display_data"
    },
    {
     "data": {
      "text/plain": [
       "count    354365.000000\n",
       "mean       2004.234481\n",
       "std          90.228466\n",
       "min        1000.000000\n",
       "25%        1999.000000\n",
       "50%        2003.000000\n",
       "75%        2008.000000\n",
       "max        9999.000000\n",
       "Name: RegistrationYear, dtype: float64"
      ]
     },
     "metadata": {},
     "output_type": "display_data"
    },
    {
     "data": {
      "image/png": "[encoded data removed]",
      "text/plain": [
       "<Figure size 432x288 with 1 Axes>"
      ]
     },
     "metadata": {
      "needs_background": "light"
     },
     "output_type": "display_data"
    },
    {
     "data": {
      "text/plain": [
       "count    354365.000000\n",
       "mean        110.093816\n",
       "std         189.851330\n",
       "min           0.000000\n",
       "25%          69.000000\n",
       "50%         105.000000\n",
       "75%         143.000000\n",
       "max       20000.000000\n",
       "Name: Power, dtype: float64"
      ]
     },
     "metadata": {},
     "output_type": "display_data"
    },
    {
     "data": {
      "image/png": "[encoded data removed]",
      "text/plain": [
       "<Figure size 432x288 with 1 Axes>"
      ]
     },
     "metadata": {
      "needs_background": "light"
     },
     "output_type": "display_data"
    },
    {
     "data": {
      "text/plain": [
       "count    354365.000000\n",
       "mean     128211.363989\n",
       "std       37905.083858\n",
       "min        5000.000000\n",
       "25%      125000.000000\n",
       "50%      150000.000000\n",
       "75%      150000.000000\n",
       "max      150000.000000\n",
       "Name: Kilometer, dtype: float64"
      ]
     },
     "metadata": {},
     "output_type": "display_data"
    },
    {
     "data": {
      "image/png": "[encoded data removed]",
      "text/plain": [
       "<Figure size 432x288 with 1 Axes>"
      ]
     },
     "metadata": {
      "needs_background": "light"
     },
     "output_type": "display_data"
    }
   ],
   "source": [
    "numerical_list=['Price','RegistrationYear','Power','Kilometer']\n",
    "category_list = ['VehicleType','Gearbox','Model','FuelType','Brand','NotRepaired']\n",
    "for value in numerical_list:\n",
    "    display(df[value].describe())\n",
    "    df[value].hist(bins=100)\n",
    "    plt.show()"
   ]
  },
  {
   "cell_type": "markdown",
   "metadata": {},
   "source": [
    "В столбце Цена присутствуют нулевые значения, подсчитаем их количество"
   ]
  },
  {
   "cell_type": "code",
   "execution_count": 12,
   "metadata": {},
   "outputs": [
    {
     "data": {
      "text/plain": [
       "Price               10772\n",
       "VehicleType         10772\n",
       "RegistrationYear    10772\n",
       "Gearbox             10772\n",
       "Power               10772\n",
       "Model               10772\n",
       "Kilometer           10772\n",
       "FuelType            10772\n",
       "Brand               10772\n",
       "NotRepaired         10772\n",
       "dtype: int64"
      ]
     },
     "execution_count": 12,
     "metadata": {},
     "output_type": "execute_result"
    }
   ],
   "source": [
    "df[df['Price']==0].count()"
   ]
  },
  {
   "cell_type": "markdown",
   "metadata": {},
   "source": [
    "10772 значения не имеют нулевую цену, что составляет 3% от общего количества значений в таблице. Поскольку нам предстоит прогнозирование цены, а это стоит делать на основе имеющихся фактических данных, а не предположительно-расчетных, поэтому  удалим нулевые значения цены. Крайне низкие значения цен оставим, т.к. часто авто продаются за символическую сумму- продавцы хотят избавиться от старого или разбитого авто."
   ]
  },
  {
   "cell_type": "code",
   "execution_count": 13,
   "metadata": {},
   "outputs": [],
   "source": [
    "df = df.loc[df['Price'] != 0]"
   ]
  },
  {
   "cell_type": "code",
   "execution_count": 14,
   "metadata": {},
   "outputs": [
    {
     "name": "stdout",
     "output_type": "stream",
     "text": [
      "<class 'pandas.core.frame.DataFrame'>\n",
      "Int64Index: 343593 entries, 0 to 354364\n",
      "Data columns (total 10 columns):\n",
      " #   Column            Non-Null Count   Dtype \n",
      "---  ------            --------------   ----- \n",
      " 0   Price             343593 non-null  int64 \n",
      " 1   VehicleType       343593 non-null  object\n",
      " 2   RegistrationYear  343593 non-null  int64 \n",
      " 3   Gearbox           343593 non-null  object\n",
      " 4   Power             343593 non-null  int64 \n",
      " 5   Model             343593 non-null  object\n",
      " 6   Kilometer         343593 non-null  int64 \n",
      " 7   FuelType          343593 non-null  object\n",
      " 8   Brand             343593 non-null  object\n",
      " 9   NotRepaired       343593 non-null  object\n",
      "dtypes: int64(4), object(6)\n",
      "memory usage: 28.8+ MB\n"
     ]
    }
   ],
   "source": [
    "df.info()"
   ]
  },
  {
   "cell_type": "markdown",
   "metadata": {},
   "source": [
    "В столбце Год регистрации присутствуют разничные значения, кажущиеся некорректными. Для визуальной оценки отобразим эти значения в ввиде списка, осортировав их по возрастанию"
   ]
  },
  {
   "cell_type": "code",
   "execution_count": 15,
   "metadata": {},
   "outputs": [
    {
     "data": {
      "text/plain": [
       "[1000,\n",
       " 1001,\n",
       " 1039,\n",
       " 1111,\n",
       " 1234,\n",
       " 1255,\n",
       " 1300,\n",
       " 1400,\n",
       " 1500,\n",
       " 1600,\n",
       " 1602,\n",
       " 1800,\n",
       " 1910,\n",
       " 1923,\n",
       " 1925,\n",
       " 1927,\n",
       " 1928,\n",
       " 1929,\n",
       " 1930,\n",
       " 1931,\n",
       " 1932,\n",
       " 1933,\n",
       " 1934,\n",
       " 1935,\n",
       " 1936,\n",
       " 1937,\n",
       " 1938,\n",
       " 1940,\n",
       " 1941,\n",
       " 1942,\n",
       " 1943,\n",
       " 1944,\n",
       " 1945,\n",
       " 1946,\n",
       " 1947,\n",
       " 1948,\n",
       " 1949,\n",
       " 1950,\n",
       " 1951,\n",
       " 1952,\n",
       " 1953,\n",
       " 1954,\n",
       " 1955,\n",
       " 1956,\n",
       " 1957,\n",
       " 1958,\n",
       " 1959,\n",
       " 1960,\n",
       " 1961,\n",
       " 1962,\n",
       " 1963,\n",
       " 1964,\n",
       " 1965,\n",
       " 1966,\n",
       " 1967,\n",
       " 1968,\n",
       " 1969,\n",
       " 1970,\n",
       " 1971,\n",
       " 1972,\n",
       " 1973,\n",
       " 1974,\n",
       " 1975,\n",
       " 1976,\n",
       " 1977,\n",
       " 1978,\n",
       " 1979,\n",
       " 1980,\n",
       " 1981,\n",
       " 1982,\n",
       " 1983,\n",
       " 1984,\n",
       " 1985,\n",
       " 1986,\n",
       " 1987,\n",
       " 1988,\n",
       " 1989,\n",
       " 1990,\n",
       " 1991,\n",
       " 1992,\n",
       " 1993,\n",
       " 1994,\n",
       " 1995,\n",
       " 1996,\n",
       " 1997,\n",
       " 1998,\n",
       " 1999,\n",
       " 2000,\n",
       " 2001,\n",
       " 2002,\n",
       " 2003,\n",
       " 2004,\n",
       " 2005,\n",
       " 2006,\n",
       " 2007,\n",
       " 2008,\n",
       " 2009,\n",
       " 2010,\n",
       " 2011,\n",
       " 2012,\n",
       " 2013,\n",
       " 2014,\n",
       " 2015,\n",
       " 2016,\n",
       " 2017,\n",
       " 2018,\n",
       " 2019,\n",
       " 2066,\n",
       " 2200,\n",
       " 2222,\n",
       " 2290,\n",
       " 2500,\n",
       " 2800,\n",
       " 2900,\n",
       " 3000,\n",
       " 3200,\n",
       " 3700,\n",
       " 3800,\n",
       " 4000,\n",
       " 4100,\n",
       " 4500,\n",
       " 4800,\n",
       " 5000,\n",
       " 5300,\n",
       " 5555,\n",
       " 5600,\n",
       " 5900,\n",
       " 5911,\n",
       " 6000,\n",
       " 6500,\n",
       " 7000,\n",
       " 7100,\n",
       " 7800,\n",
       " 8000,\n",
       " 8200,\n",
       " 8500,\n",
       " 8888,\n",
       " 9000,\n",
       " 9450,\n",
       " 9999]"
      ]
     },
     "execution_count": 15,
     "metadata": {},
     "output_type": "execute_result"
    }
   ],
   "source": [
    "sorted(df['RegistrationYear'].unique())"
   ]
  },
  {
   "cell_type": "markdown",
   "metadata": {},
   "source": [
    "Очевидно, что в столбце Год регистрации присутвуют некорректные значения. Первые автомобили появились в начале ХХ века, предположим, что раритетные автомобили присутсвуют в базе. А значит все указанные года ниже 1910 года - это некорректные значения. То же самое и с годами регистрации более 2019 года. Подсчитаем количество таких значений, если оно мало (менее 10000 значений), удалим их"
   ]
  },
  {
   "cell_type": "code",
   "execution_count": 16,
   "metadata": {},
   "outputs": [
    {
     "data": {
      "text/plain": [
       "139"
      ]
     },
     "execution_count": 16,
     "metadata": {},
     "output_type": "execute_result"
    }
   ],
   "source": [
    "df[(df['RegistrationYear'] < 1910) | (df['RegistrationYear'] > 2019)]['RegistrationYear'].count()"
   ]
  },
  {
   "cell_type": "markdown",
   "metadata": {},
   "source": [
    "Количество некорректных значений крайне мало, поэтому удаляем их"
   ]
  },
  {
   "cell_type": "code",
   "execution_count": 17,
   "metadata": {},
   "outputs": [],
   "source": [
    "df = df.loc[(df['RegistrationYear'] >= 1910) & (df['RegistrationYear'] <= 2016)]"
   ]
  },
  {
   "cell_type": "code",
   "execution_count": 18,
   "metadata": {},
   "outputs": [
    {
     "name": "stdout",
     "output_type": "stream",
     "text": [
      "<class 'pandas.core.frame.DataFrame'>\n",
      "Int64Index: 329761 entries, 0 to 354364\n",
      "Data columns (total 10 columns):\n",
      " #   Column            Non-Null Count   Dtype \n",
      "---  ------            --------------   ----- \n",
      " 0   Price             329761 non-null  int64 \n",
      " 1   VehicleType       329761 non-null  object\n",
      " 2   RegistrationYear  329761 non-null  int64 \n",
      " 3   Gearbox           329761 non-null  object\n",
      " 4   Power             329761 non-null  int64 \n",
      " 5   Model             329761 non-null  object\n",
      " 6   Kilometer         329761 non-null  int64 \n",
      " 7   FuelType          329761 non-null  object\n",
      " 8   Brand             329761 non-null  object\n",
      " 9   NotRepaired       329761 non-null  object\n",
      "dtypes: int64(4), object(6)\n",
      "memory usage: 27.7+ MB\n"
     ]
    }
   ],
   "source": [
    "df.info()"
   ]
  },
  {
   "cell_type": "markdown",
   "metadata": {},
   "source": [
    "В столбце мощность присутствует явный выбросы. Учитывая, что на сегодня самым мощным автомобилем в мире является электрический гиперкар Owl от японской компании Aspark с мощностью двигателя 2012 л.с.(Источник: https://www.clickme.com.ru/cars/reyting-samyih-moschnyih-v-mire-avtomobiley.html), посчитаем количество значений-выбросов более чем 2012 лс и удалим их"
   ]
  },
  {
   "cell_type": "code",
   "execution_count": 19,
   "metadata": {
    "scrolled": false
   },
   "outputs": [
    {
     "data": {
      "text/plain": [
       "Price               99\n",
       "VehicleType         99\n",
       "RegistrationYear    99\n",
       "Gearbox             99\n",
       "Power               99\n",
       "Model               99\n",
       "Kilometer           99\n",
       "FuelType            99\n",
       "Brand               99\n",
       "NotRepaired         99\n",
       "dtype: int64"
      ]
     },
     "metadata": {},
     "output_type": "display_data"
    },
    {
     "name": "stdout",
     "output_type": "stream",
     "text": [
      "<class 'pandas.core.frame.DataFrame'>\n",
      "Int64Index: 329662 entries, 0 to 354364\n",
      "Data columns (total 10 columns):\n",
      " #   Column            Non-Null Count   Dtype \n",
      "---  ------            --------------   ----- \n",
      " 0   Price             329662 non-null  int64 \n",
      " 1   VehicleType       329662 non-null  object\n",
      " 2   RegistrationYear  329662 non-null  int64 \n",
      " 3   Gearbox           329662 non-null  object\n",
      " 4   Power             329662 non-null  int64 \n",
      " 5   Model             329662 non-null  object\n",
      " 6   Kilometer         329662 non-null  int64 \n",
      " 7   FuelType          329662 non-null  object\n",
      " 8   Brand             329662 non-null  object\n",
      " 9   NotRepaired       329662 non-null  object\n",
      "dtypes: int64(4), object(6)\n",
      "memory usage: 27.7+ MB\n"
     ]
    }
   ],
   "source": [
    "display(df[df['Power']>2012].count())\n",
    "df = df.loc[df['Power'] <=2012]\n",
    "df.info()"
   ]
  },
  {
   "cell_type": "code",
   "execution_count": 20,
   "metadata": {},
   "outputs": [
    {
     "data": {
      "text/plain": [
       "'VehicleType'"
      ]
     },
     "metadata": {},
     "output_type": "display_data"
    },
    {
     "data": {
      "text/plain": [
       "['bus',\n",
       " 'convertible',\n",
       " 'coupe',\n",
       " 'other',\n",
       " 'sedan',\n",
       " 'small',\n",
       " 'suv',\n",
       " 'unknown',\n",
       " 'wagon']"
      ]
     },
     "metadata": {},
     "output_type": "display_data"
    },
    {
     "data": {
      "text/plain": [
       "'Gearbox'"
      ]
     },
     "metadata": {},
     "output_type": "display_data"
    },
    {
     "data": {
      "text/plain": [
       "['auto', 'manual', 'unknown']"
      ]
     },
     "metadata": {},
     "output_type": "display_data"
    },
    {
     "data": {
      "text/plain": [
       "'Model'"
      ]
     },
     "metadata": {},
     "output_type": "display_data"
    },
    {
     "data": {
      "text/plain": [
       "['100',\n",
       " '145',\n",
       " '147',\n",
       " '156',\n",
       " '159',\n",
       " '1_reihe',\n",
       " '1er',\n",
       " '200',\n",
       " '2_reihe',\n",
       " '300c',\n",
       " '3_reihe',\n",
       " '3er',\n",
       " '4_reihe',\n",
       " '500',\n",
       " '5_reihe',\n",
       " '5er',\n",
       " '601',\n",
       " '6_reihe',\n",
       " '6er',\n",
       " '7er',\n",
       " '80',\n",
       " '850',\n",
       " '90',\n",
       " '900',\n",
       " '9000',\n",
       " '911',\n",
       " 'a1',\n",
       " 'a2',\n",
       " 'a3',\n",
       " 'a4',\n",
       " 'a5',\n",
       " 'a6',\n",
       " 'a8',\n",
       " 'a_klasse',\n",
       " 'accord',\n",
       " 'agila',\n",
       " 'alhambra',\n",
       " 'almera',\n",
       " 'altea',\n",
       " 'amarok',\n",
       " 'antara',\n",
       " 'arosa',\n",
       " 'astra',\n",
       " 'auris',\n",
       " 'avensis',\n",
       " 'aveo',\n",
       " 'aygo',\n",
       " 'b_klasse',\n",
       " 'b_max',\n",
       " 'beetle',\n",
       " 'berlingo',\n",
       " 'bora',\n",
       " 'boxster',\n",
       " 'bravo',\n",
       " 'c1',\n",
       " 'c2',\n",
       " 'c3',\n",
       " 'c4',\n",
       " 'c5',\n",
       " 'c_klasse',\n",
       " 'c_max',\n",
       " 'c_reihe',\n",
       " 'caddy',\n",
       " 'calibra',\n",
       " 'captiva',\n",
       " 'carisma',\n",
       " 'carnival',\n",
       " 'cayenne',\n",
       " 'cc',\n",
       " 'ceed',\n",
       " 'charade',\n",
       " 'cherokee',\n",
       " 'citigo',\n",
       " 'civic',\n",
       " 'cl',\n",
       " 'clio',\n",
       " 'clk',\n",
       " 'clubman',\n",
       " 'colt',\n",
       " 'combo',\n",
       " 'cooper',\n",
       " 'cordoba',\n",
       " 'corolla',\n",
       " 'corsa',\n",
       " 'cr_reihe',\n",
       " 'croma',\n",
       " 'crossfire',\n",
       " 'cuore',\n",
       " 'cx_reihe',\n",
       " 'defender',\n",
       " 'delta',\n",
       " 'discovery',\n",
       " 'doblo',\n",
       " 'ducato',\n",
       " 'duster',\n",
       " 'e_klasse',\n",
       " 'elefantino',\n",
       " 'eos',\n",
       " 'escort',\n",
       " 'espace',\n",
       " 'exeo',\n",
       " 'fabia',\n",
       " 'fiesta',\n",
       " 'focus',\n",
       " 'forester',\n",
       " 'forfour',\n",
       " 'fortwo',\n",
       " 'fox',\n",
       " 'freelander',\n",
       " 'fusion',\n",
       " 'g_klasse',\n",
       " 'galant',\n",
       " 'galaxy',\n",
       " 'getz',\n",
       " 'gl',\n",
       " 'glk',\n",
       " 'golf',\n",
       " 'grand',\n",
       " 'i3',\n",
       " 'i_reihe',\n",
       " 'ibiza',\n",
       " 'impreza',\n",
       " 'insignia',\n",
       " 'jazz',\n",
       " 'jetta',\n",
       " 'jimny',\n",
       " 'juke',\n",
       " 'justy',\n",
       " 'ka',\n",
       " 'kadett',\n",
       " 'kaefer',\n",
       " 'kalina',\n",
       " 'kalos',\n",
       " 'kangoo',\n",
       " 'kappa',\n",
       " 'kuga',\n",
       " 'laguna',\n",
       " 'lancer',\n",
       " 'lanos',\n",
       " 'legacy',\n",
       " 'leon',\n",
       " 'lodgy',\n",
       " 'logan',\n",
       " 'lupo',\n",
       " 'lybra',\n",
       " 'm_klasse',\n",
       " 'm_reihe',\n",
       " 'materia',\n",
       " 'matiz',\n",
       " 'megane',\n",
       " 'meriva',\n",
       " 'micra',\n",
       " 'mii',\n",
       " 'modus',\n",
       " 'mondeo',\n",
       " 'move',\n",
       " 'musa',\n",
       " 'mustang',\n",
       " 'mx_reihe',\n",
       " 'navara',\n",
       " 'niva',\n",
       " 'note',\n",
       " 'nubira',\n",
       " 'octavia',\n",
       " 'omega',\n",
       " 'one',\n",
       " 'other',\n",
       " 'outlander',\n",
       " 'pajero',\n",
       " 'panda',\n",
       " 'passat',\n",
       " 'phaeton',\n",
       " 'picanto',\n",
       " 'polo',\n",
       " 'primera',\n",
       " 'ptcruiser',\n",
       " 'punto',\n",
       " 'q3',\n",
       " 'q5',\n",
       " 'q7',\n",
       " 'qashqai',\n",
       " 'r19',\n",
       " 'range_rover',\n",
       " 'range_rover_evoque',\n",
       " 'range_rover_sport',\n",
       " 'rangerover',\n",
       " 'rav',\n",
       " 'rio',\n",
       " 'roadster',\n",
       " 'roomster',\n",
       " 'rx_reihe',\n",
       " 's60',\n",
       " 's_klasse',\n",
       " 's_max',\n",
       " 's_type',\n",
       " 'samara',\n",
       " 'sandero',\n",
       " 'santa',\n",
       " 'scenic',\n",
       " 'scirocco',\n",
       " 'seicento',\n",
       " 'serie_1',\n",
       " 'serie_2',\n",
       " 'serie_3',\n",
       " 'sharan',\n",
       " 'signum',\n",
       " 'sirion',\n",
       " 'sl',\n",
       " 'slk',\n",
       " 'sorento',\n",
       " 'spark',\n",
       " 'spider',\n",
       " 'sportage',\n",
       " 'sprinter',\n",
       " 'stilo',\n",
       " 'superb',\n",
       " 'swift',\n",
       " 'terios',\n",
       " 'tigra',\n",
       " 'tiguan',\n",
       " 'toledo',\n",
       " 'touareg',\n",
       " 'touran',\n",
       " 'transit',\n",
       " 'transporter',\n",
       " 'tt',\n",
       " 'tucson',\n",
       " 'twingo',\n",
       " 'unknown',\n",
       " 'up',\n",
       " 'v40',\n",
       " 'v50',\n",
       " 'v60',\n",
       " 'v70',\n",
       " 'v_klasse',\n",
       " 'vectra',\n",
       " 'verso',\n",
       " 'viano',\n",
       " 'vito',\n",
       " 'vivaro',\n",
       " 'voyager',\n",
       " 'wrangler',\n",
       " 'x_reihe',\n",
       " 'x_trail',\n",
       " 'x_type',\n",
       " 'xc_reihe',\n",
       " 'yaris',\n",
       " 'yeti',\n",
       " 'ypsilon',\n",
       " 'z_reihe',\n",
       " 'zafira']"
      ]
     },
     "metadata": {},
     "output_type": "display_data"
    },
    {
     "data": {
      "text/plain": [
       "'FuelType'"
      ]
     },
     "metadata": {},
     "output_type": "display_data"
    },
    {
     "data": {
      "text/plain": [
       "['cng', 'electric', 'gasoline', 'hybrid', 'lpg', 'other', 'petrol', 'unknown']"
      ]
     },
     "metadata": {},
     "output_type": "display_data"
    },
    {
     "data": {
      "text/plain": [
       "'Brand'"
      ]
     },
     "metadata": {},
     "output_type": "display_data"
    },
    {
     "data": {
      "text/plain": [
       "['alfa_romeo',\n",
       " 'audi',\n",
       " 'bmw',\n",
       " 'chevrolet',\n",
       " 'chrysler',\n",
       " 'citroen',\n",
       " 'dacia',\n",
       " 'daewoo',\n",
       " 'daihatsu',\n",
       " 'fiat',\n",
       " 'ford',\n",
       " 'honda',\n",
       " 'hyundai',\n",
       " 'jaguar',\n",
       " 'jeep',\n",
       " 'kia',\n",
       " 'lada',\n",
       " 'lancia',\n",
       " 'land_rover',\n",
       " 'mazda',\n",
       " 'mercedes_benz',\n",
       " 'mini',\n",
       " 'mitsubishi',\n",
       " 'nissan',\n",
       " 'opel',\n",
       " 'peugeot',\n",
       " 'porsche',\n",
       " 'renault',\n",
       " 'rover',\n",
       " 'saab',\n",
       " 'seat',\n",
       " 'skoda',\n",
       " 'smart',\n",
       " 'sonstige_autos',\n",
       " 'subaru',\n",
       " 'suzuki',\n",
       " 'toyota',\n",
       " 'trabant',\n",
       " 'volkswagen',\n",
       " 'volvo']"
      ]
     },
     "metadata": {},
     "output_type": "display_data"
    },
    {
     "data": {
      "text/plain": [
       "'NotRepaired'"
      ]
     },
     "metadata": {},
     "output_type": "display_data"
    },
    {
     "data": {
      "text/plain": [
       "['no', 'unknown', 'yes']"
      ]
     },
     "metadata": {},
     "output_type": "display_data"
    }
   ],
   "source": [
    "for value in category_list:\n",
    "    display(value, sorted(df[value].unique()))"
   ]
  },
  {
   "cell_type": "markdown",
   "metadata": {},
   "source": [
    "В столбце Мобель найдены схожие названия \"range_rover\" и \"rangerover\".\n",
    "Посчитаем их количество и объединим их.\n",
    "\n",
    "В столбце Топливо присутствуют значения 'gasoline' и 'petrol', что означает \"бензин\" объединим и эти значения"
   ]
  },
  {
   "cell_type": "code",
   "execution_count": 21,
   "metadata": {
    "scrolled": true
   },
   "outputs": [
    {
     "data": {
      "text/plain": [
       "75"
      ]
     },
     "metadata": {},
     "output_type": "display_data"
    },
    {
     "data": {
      "text/plain": [
       "3"
      ]
     },
     "metadata": {},
     "output_type": "display_data"
    },
    {
     "data": {
      "text/plain": [
       "94827"
      ]
     },
     "metadata": {},
     "output_type": "display_data"
    },
    {
     "data": {
      "text/plain": [
       "204657"
      ]
     },
     "metadata": {},
     "output_type": "display_data"
    }
   ],
   "source": [
    "display(df[df['Model']=='range_rover']['Model'].count())\n",
    "display(df[df['Model']=='rangerover']['Model'].count())\n",
    "display(df[df['FuelType']=='gasoline']['FuelType'].count())\n",
    "display(df[df['FuelType']=='petrol']['FuelType'].count())"
   ]
  },
  {
   "cell_type": "code",
   "execution_count": 22,
   "metadata": {},
   "outputs": [],
   "source": [
    "df['Model'] = df['Model'].str.replace('rangerover','range_rover')\n",
    "df['FuelType'] = df['FuelType'].str.replace('gasoline','petrol')"
   ]
  },
  {
   "cell_type": "markdown",
   "metadata": {},
   "source": [
    "В таблице присутствуют значения признаков со статусом unknown, без которых сложно будет идентифицировать авто. Основным таким признаком является Модель автомобиля. Подсчитаем количество пропущенных значений признака Модель авто."
   ]
  },
  {
   "cell_type": "code",
   "execution_count": 23,
   "metadata": {
    "scrolled": true
   },
   "outputs": [
    {
     "data": {
      "text/plain": [
       "15625"
      ]
     },
     "metadata": {},
     "output_type": "display_data"
    }
   ],
   "source": [
    "display(df[df['Model']=='unknown']['Model'].count())"
   ]
  },
  {
   "cell_type": "markdown",
   "metadata": {},
   "source": [
    "17455 значений это 5% от всех значений в таблице. Удалим эти строки"
   ]
  },
  {
   "cell_type": "code",
   "execution_count": 24,
   "metadata": {},
   "outputs": [
    {
     "name": "stdout",
     "output_type": "stream",
     "text": [
      "<class 'pandas.core.frame.DataFrame'>\n",
      "RangeIndex: 314037 entries, 0 to 314036\n",
      "Data columns (total 10 columns):\n",
      " #   Column            Non-Null Count   Dtype \n",
      "---  ------            --------------   ----- \n",
      " 0   Price             314037 non-null  int64 \n",
      " 1   VehicleType       314037 non-null  object\n",
      " 2   RegistrationYear  314037 non-null  int64 \n",
      " 3   Gearbox           314037 non-null  object\n",
      " 4   Power             314037 non-null  int64 \n",
      " 5   Model             314037 non-null  object\n",
      " 6   Kilometer         314037 non-null  int64 \n",
      " 7   FuelType          314037 non-null  object\n",
      " 8   Brand             314037 non-null  object\n",
      " 9   NotRepaired       314037 non-null  object\n",
      "dtypes: int64(4), object(6)\n",
      "memory usage: 24.0+ MB\n"
     ]
    }
   ],
   "source": [
    "df = df.loc[df['Model'] != 'unknown'].reset_index(drop=True)\n",
    "df.info()"
   ]
  },
  {
   "cell_type": "markdown",
   "metadata": {},
   "source": [
    "После произведенных изменений в таблице могли образоваться дубли, произведем их поиск и удаление"
   ]
  },
  {
   "cell_type": "code",
   "execution_count": 25,
   "metadata": {},
   "outputs": [
    {
     "data": {
      "text/html": [
       "<div>\n",
       "<style scoped>\n",
       "    .dataframe tbody tr th:only-of-type {\n",
       "        vertical-align: middle;\n",
       "    }\n",
       "\n",
       "    .dataframe tbody tr th {\n",
       "        vertical-align: top;\n",
       "    }\n",
       "\n",
       "    .dataframe thead th {\n",
       "        text-align: right;\n",
       "    }\n",
       "</style>\n",
       "<table border=\"1\" class=\"dataframe\">\n",
       "  <thead>\n",
       "    <tr style=\"text-align: right;\">\n",
       "      <th></th>\n",
       "      <th>Price</th>\n",
       "      <th>VehicleType</th>\n",
       "      <th>RegistrationYear</th>\n",
       "      <th>Gearbox</th>\n",
       "      <th>Power</th>\n",
       "      <th>Model</th>\n",
       "      <th>Kilometer</th>\n",
       "      <th>FuelType</th>\n",
       "      <th>Brand</th>\n",
       "      <th>NotRepaired</th>\n",
       "    </tr>\n",
       "  </thead>\n",
       "  <tbody>\n",
       "    <tr>\n",
       "      <th>990</th>\n",
       "      <td>950</td>\n",
       "      <td>small</td>\n",
       "      <td>1999</td>\n",
       "      <td>manual</td>\n",
       "      <td>60</td>\n",
       "      <td>polo</td>\n",
       "      <td>150000</td>\n",
       "      <td>petrol</td>\n",
       "      <td>volkswagen</td>\n",
       "      <td>no</td>\n",
       "    </tr>\n",
       "    <tr>\n",
       "      <th>2509</th>\n",
       "      <td>1499</td>\n",
       "      <td>small</td>\n",
       "      <td>2001</td>\n",
       "      <td>manual</td>\n",
       "      <td>58</td>\n",
       "      <td>corsa</td>\n",
       "      <td>150000</td>\n",
       "      <td>petrol</td>\n",
       "      <td>opel</td>\n",
       "      <td>no</td>\n",
       "    </tr>\n",
       "    <tr>\n",
       "      <th>2676</th>\n",
       "      <td>2800</td>\n",
       "      <td>wagon</td>\n",
       "      <td>2005</td>\n",
       "      <td>unknown</td>\n",
       "      <td>0</td>\n",
       "      <td>touran</td>\n",
       "      <td>150000</td>\n",
       "      <td>petrol</td>\n",
       "      <td>volkswagen</td>\n",
       "      <td>no</td>\n",
       "    </tr>\n",
       "    <tr>\n",
       "      <th>3053</th>\n",
       "      <td>300</td>\n",
       "      <td>small</td>\n",
       "      <td>2000</td>\n",
       "      <td>manual</td>\n",
       "      <td>54</td>\n",
       "      <td>corsa</td>\n",
       "      <td>150000</td>\n",
       "      <td>petrol</td>\n",
       "      <td>opel</td>\n",
       "      <td>unknown</td>\n",
       "    </tr>\n",
       "    <tr>\n",
       "      <th>3137</th>\n",
       "      <td>1670</td>\n",
       "      <td>sedan</td>\n",
       "      <td>1999</td>\n",
       "      <td>manual</td>\n",
       "      <td>75</td>\n",
       "      <td>golf</td>\n",
       "      <td>150000</td>\n",
       "      <td>petrol</td>\n",
       "      <td>volkswagen</td>\n",
       "      <td>no</td>\n",
       "    </tr>\n",
       "    <tr>\n",
       "      <th>...</th>\n",
       "      <td>...</td>\n",
       "      <td>...</td>\n",
       "      <td>...</td>\n",
       "      <td>...</td>\n",
       "      <td>...</td>\n",
       "      <td>...</td>\n",
       "      <td>...</td>\n",
       "      <td>...</td>\n",
       "      <td>...</td>\n",
       "      <td>...</td>\n",
       "    </tr>\n",
       "    <tr>\n",
       "      <th>314022</th>\n",
       "      <td>6500</td>\n",
       "      <td>sedan</td>\n",
       "      <td>2003</td>\n",
       "      <td>auto</td>\n",
       "      <td>145</td>\n",
       "      <td>e_klasse</td>\n",
       "      <td>150000</td>\n",
       "      <td>petrol</td>\n",
       "      <td>mercedes_benz</td>\n",
       "      <td>no</td>\n",
       "    </tr>\n",
       "    <tr>\n",
       "      <th>314025</th>\n",
       "      <td>4400</td>\n",
       "      <td>sedan</td>\n",
       "      <td>2008</td>\n",
       "      <td>manual</td>\n",
       "      <td>105</td>\n",
       "      <td>leon</td>\n",
       "      <td>150000</td>\n",
       "      <td>petrol</td>\n",
       "      <td>seat</td>\n",
       "      <td>no</td>\n",
       "    </tr>\n",
       "    <tr>\n",
       "      <th>314028</th>\n",
       "      <td>1490</td>\n",
       "      <td>small</td>\n",
       "      <td>1998</td>\n",
       "      <td>manual</td>\n",
       "      <td>50</td>\n",
       "      <td>lupo</td>\n",
       "      <td>150000</td>\n",
       "      <td>petrol</td>\n",
       "      <td>volkswagen</td>\n",
       "      <td>no</td>\n",
       "    </tr>\n",
       "    <tr>\n",
       "      <th>314029</th>\n",
       "      <td>7900</td>\n",
       "      <td>sedan</td>\n",
       "      <td>2010</td>\n",
       "      <td>manual</td>\n",
       "      <td>140</td>\n",
       "      <td>golf</td>\n",
       "      <td>150000</td>\n",
       "      <td>petrol</td>\n",
       "      <td>volkswagen</td>\n",
       "      <td>no</td>\n",
       "    </tr>\n",
       "    <tr>\n",
       "      <th>314033</th>\n",
       "      <td>1150</td>\n",
       "      <td>bus</td>\n",
       "      <td>2000</td>\n",
       "      <td>manual</td>\n",
       "      <td>0</td>\n",
       "      <td>zafira</td>\n",
       "      <td>150000</td>\n",
       "      <td>petrol</td>\n",
       "      <td>opel</td>\n",
       "      <td>no</td>\n",
       "    </tr>\n",
       "  </tbody>\n",
       "</table>\n",
       "<p>42333 rows × 10 columns</p>\n",
       "</div>"
      ],
      "text/plain": [
       "        Price VehicleType  RegistrationYear  Gearbox  Power     Model  \\\n",
       "990       950       small              1999   manual     60      polo   \n",
       "2509     1499       small              2001   manual     58     corsa   \n",
       "2676     2800       wagon              2005  unknown      0    touran   \n",
       "3053      300       small              2000   manual     54     corsa   \n",
       "3137     1670       sedan              1999   manual     75      golf   \n",
       "...       ...         ...               ...      ...    ...       ...   \n",
       "314022   6500       sedan              2003     auto    145  e_klasse   \n",
       "314025   4400       sedan              2008   manual    105      leon   \n",
       "314028   1490       small              1998   manual     50      lupo   \n",
       "314029   7900       sedan              2010   manual    140      golf   \n",
       "314033   1150         bus              2000   manual      0    zafira   \n",
       "\n",
       "        Kilometer FuelType          Brand NotRepaired  \n",
       "990        150000   petrol     volkswagen          no  \n",
       "2509       150000   petrol           opel          no  \n",
       "2676       150000   petrol     volkswagen          no  \n",
       "3053       150000   petrol           opel     unknown  \n",
       "3137       150000   petrol     volkswagen          no  \n",
       "...           ...      ...            ...         ...  \n",
       "314022     150000   petrol  mercedes_benz          no  \n",
       "314025     150000   petrol           seat          no  \n",
       "314028     150000   petrol     volkswagen          no  \n",
       "314029     150000   petrol     volkswagen          no  \n",
       "314033     150000   petrol           opel          no  \n",
       "\n",
       "[42333 rows x 10 columns]"
      ]
     },
     "execution_count": 25,
     "metadata": {},
     "output_type": "execute_result"
    }
   ],
   "source": [
    "df[df.duplicated()]"
   ]
  },
  {
   "cell_type": "code",
   "execution_count": 26,
   "metadata": {},
   "outputs": [
    {
     "name": "stdout",
     "output_type": "stream",
     "text": [
      "<class 'pandas.core.frame.DataFrame'>\n",
      "RangeIndex: 271704 entries, 0 to 271703\n",
      "Data columns (total 10 columns):\n",
      " #   Column            Non-Null Count   Dtype \n",
      "---  ------            --------------   ----- \n",
      " 0   Price             271704 non-null  int64 \n",
      " 1   VehicleType       271704 non-null  object\n",
      " 2   RegistrationYear  271704 non-null  int64 \n",
      " 3   Gearbox           271704 non-null  object\n",
      " 4   Power             271704 non-null  int64 \n",
      " 5   Model             271704 non-null  object\n",
      " 6   Kilometer         271704 non-null  int64 \n",
      " 7   FuelType          271704 non-null  object\n",
      " 8   Brand             271704 non-null  object\n",
      " 9   NotRepaired       271704 non-null  object\n",
      "dtypes: int64(4), object(6)\n",
      "memory usage: 20.7+ MB\n"
     ]
    }
   ],
   "source": [
    "df = df.drop_duplicates().reset_index(drop=True)\n",
    "df.info()"
   ]
  },
  {
   "cell_type": "markdown",
   "metadata": {},
   "source": [
    "Для задач обучения необходимо категориальные признаки преобразовать в численные. Поскольку количество значений категориальных признаков велико, используем метод порядкового кодирования.\n",
    "Для начала выделим из финального датафрейма промежуточный датафрейм с категориальными признакми, к которому применим порядковое кодирование."
   ]
  },
  {
   "cell_type": "code",
   "execution_count": 27,
   "metadata": {},
   "outputs": [
    {
     "data": {
      "text/html": [
       "<div>\n",
       "<style scoped>\n",
       "    .dataframe tbody tr th:only-of-type {\n",
       "        vertical-align: middle;\n",
       "    }\n",
       "\n",
       "    .dataframe tbody tr th {\n",
       "        vertical-align: top;\n",
       "    }\n",
       "\n",
       "    .dataframe thead th {\n",
       "        text-align: right;\n",
       "    }\n",
       "</style>\n",
       "<table border=\"1\" class=\"dataframe\">\n",
       "  <thead>\n",
       "    <tr style=\"text-align: right;\">\n",
       "      <th></th>\n",
       "      <th>VehicleType</th>\n",
       "      <th>Gearbox</th>\n",
       "      <th>Model</th>\n",
       "      <th>FuelType</th>\n",
       "      <th>Brand</th>\n",
       "      <th>NotRepaired</th>\n",
       "    </tr>\n",
       "  </thead>\n",
       "  <tbody>\n",
       "    <tr>\n",
       "      <th>0</th>\n",
       "      <td>unknown</td>\n",
       "      <td>manual</td>\n",
       "      <td>golf</td>\n",
       "      <td>petrol</td>\n",
       "      <td>volkswagen</td>\n",
       "      <td>unknown</td>\n",
       "    </tr>\n",
       "    <tr>\n",
       "      <th>1</th>\n",
       "      <td>suv</td>\n",
       "      <td>auto</td>\n",
       "      <td>grand</td>\n",
       "      <td>petrol</td>\n",
       "      <td>jeep</td>\n",
       "      <td>unknown</td>\n",
       "    </tr>\n",
       "    <tr>\n",
       "      <th>2</th>\n",
       "      <td>small</td>\n",
       "      <td>manual</td>\n",
       "      <td>golf</td>\n",
       "      <td>petrol</td>\n",
       "      <td>volkswagen</td>\n",
       "      <td>no</td>\n",
       "    </tr>\n",
       "    <tr>\n",
       "      <th>3</th>\n",
       "      <td>small</td>\n",
       "      <td>manual</td>\n",
       "      <td>fabia</td>\n",
       "      <td>petrol</td>\n",
       "      <td>skoda</td>\n",
       "      <td>no</td>\n",
       "    </tr>\n",
       "    <tr>\n",
       "      <th>4</th>\n",
       "      <td>sedan</td>\n",
       "      <td>manual</td>\n",
       "      <td>3er</td>\n",
       "      <td>petrol</td>\n",
       "      <td>bmw</td>\n",
       "      <td>yes</td>\n",
       "    </tr>\n",
       "    <tr>\n",
       "      <th>...</th>\n",
       "      <td>...</td>\n",
       "      <td>...</td>\n",
       "      <td>...</td>\n",
       "      <td>...</td>\n",
       "      <td>...</td>\n",
       "      <td>...</td>\n",
       "    </tr>\n",
       "    <tr>\n",
       "      <th>271699</th>\n",
       "      <td>unknown</td>\n",
       "      <td>auto</td>\n",
       "      <td>159</td>\n",
       "      <td>unknown</td>\n",
       "      <td>alfa_romeo</td>\n",
       "      <td>no</td>\n",
       "    </tr>\n",
       "    <tr>\n",
       "      <th>271700</th>\n",
       "      <td>sedan</td>\n",
       "      <td>manual</td>\n",
       "      <td>leon</td>\n",
       "      <td>petrol</td>\n",
       "      <td>seat</td>\n",
       "      <td>yes</td>\n",
       "    </tr>\n",
       "    <tr>\n",
       "      <th>271701</th>\n",
       "      <td>convertible</td>\n",
       "      <td>auto</td>\n",
       "      <td>fortwo</td>\n",
       "      <td>petrol</td>\n",
       "      <td>smart</td>\n",
       "      <td>no</td>\n",
       "    </tr>\n",
       "    <tr>\n",
       "      <th>271702</th>\n",
       "      <td>bus</td>\n",
       "      <td>manual</td>\n",
       "      <td>transporter</td>\n",
       "      <td>petrol</td>\n",
       "      <td>volkswagen</td>\n",
       "      <td>no</td>\n",
       "    </tr>\n",
       "    <tr>\n",
       "      <th>271703</th>\n",
       "      <td>wagon</td>\n",
       "      <td>manual</td>\n",
       "      <td>golf</td>\n",
       "      <td>petrol</td>\n",
       "      <td>volkswagen</td>\n",
       "      <td>unknown</td>\n",
       "    </tr>\n",
       "  </tbody>\n",
       "</table>\n",
       "<p>271704 rows × 6 columns</p>\n",
       "</div>"
      ],
      "text/plain": [
       "        VehicleType Gearbox        Model FuelType       Brand NotRepaired\n",
       "0           unknown  manual         golf   petrol  volkswagen     unknown\n",
       "1               suv    auto        grand   petrol        jeep     unknown\n",
       "2             small  manual         golf   petrol  volkswagen          no\n",
       "3             small  manual        fabia   petrol       skoda          no\n",
       "4             sedan  manual          3er   petrol         bmw         yes\n",
       "...             ...     ...          ...      ...         ...         ...\n",
       "271699      unknown    auto          159  unknown  alfa_romeo          no\n",
       "271700        sedan  manual         leon   petrol        seat         yes\n",
       "271701  convertible    auto       fortwo   petrol       smart          no\n",
       "271702          bus  manual  transporter   petrol  volkswagen          no\n",
       "271703        wagon  manual         golf   petrol  volkswagen     unknown\n",
       "\n",
       "[271704 rows x 6 columns]"
      ]
     },
     "metadata": {},
     "output_type": "display_data"
    }
   ],
   "source": [
    "obj_df = df.select_dtypes(include=['object']).copy()\n",
    "display(obj_df)"
   ]
  },
  {
   "cell_type": "code",
   "execution_count": 28,
   "metadata": {},
   "outputs": [
    {
     "data": {
      "text/html": [
       "<div>\n",
       "<style scoped>\n",
       "    .dataframe tbody tr th:only-of-type {\n",
       "        vertical-align: middle;\n",
       "    }\n",
       "\n",
       "    .dataframe tbody tr th {\n",
       "        vertical-align: top;\n",
       "    }\n",
       "\n",
       "    .dataframe thead th {\n",
       "        text-align: right;\n",
       "    }\n",
       "</style>\n",
       "<table border=\"1\" class=\"dataframe\">\n",
       "  <thead>\n",
       "    <tr style=\"text-align: right;\">\n",
       "      <th></th>\n",
       "      <th>VehicleType</th>\n",
       "      <th>Gearbox</th>\n",
       "      <th>Model</th>\n",
       "      <th>FuelType</th>\n",
       "      <th>Brand</th>\n",
       "      <th>NotRepaired</th>\n",
       "    </tr>\n",
       "  </thead>\n",
       "  <tbody>\n",
       "    <tr>\n",
       "      <th>0</th>\n",
       "      <td>7.0</td>\n",
       "      <td>1.0</td>\n",
       "      <td>116.0</td>\n",
       "      <td>5.0</td>\n",
       "      <td>37.0</td>\n",
       "      <td>1.0</td>\n",
       "    </tr>\n",
       "    <tr>\n",
       "      <th>1</th>\n",
       "      <td>6.0</td>\n",
       "      <td>0.0</td>\n",
       "      <td>117.0</td>\n",
       "      <td>5.0</td>\n",
       "      <td>14.0</td>\n",
       "      <td>1.0</td>\n",
       "    </tr>\n",
       "    <tr>\n",
       "      <th>2</th>\n",
       "      <td>5.0</td>\n",
       "      <td>1.0</td>\n",
       "      <td>116.0</td>\n",
       "      <td>5.0</td>\n",
       "      <td>37.0</td>\n",
       "      <td>0.0</td>\n",
       "    </tr>\n",
       "    <tr>\n",
       "      <th>3</th>\n",
       "      <td>5.0</td>\n",
       "      <td>1.0</td>\n",
       "      <td>101.0</td>\n",
       "      <td>5.0</td>\n",
       "      <td>31.0</td>\n",
       "      <td>0.0</td>\n",
       "    </tr>\n",
       "    <tr>\n",
       "      <th>4</th>\n",
       "      <td>4.0</td>\n",
       "      <td>1.0</td>\n",
       "      <td>11.0</td>\n",
       "      <td>5.0</td>\n",
       "      <td>2.0</td>\n",
       "      <td>2.0</td>\n",
       "    </tr>\n",
       "    <tr>\n",
       "      <th>...</th>\n",
       "      <td>...</td>\n",
       "      <td>...</td>\n",
       "      <td>...</td>\n",
       "      <td>...</td>\n",
       "      <td>...</td>\n",
       "      <td>...</td>\n",
       "    </tr>\n",
       "    <tr>\n",
       "      <th>271699</th>\n",
       "      <td>7.0</td>\n",
       "      <td>0.0</td>\n",
       "      <td>4.0</td>\n",
       "      <td>6.0</td>\n",
       "      <td>0.0</td>\n",
       "      <td>0.0</td>\n",
       "    </tr>\n",
       "    <tr>\n",
       "      <th>271700</th>\n",
       "      <td>4.0</td>\n",
       "      <td>1.0</td>\n",
       "      <td>140.0</td>\n",
       "      <td>5.0</td>\n",
       "      <td>30.0</td>\n",
       "      <td>2.0</td>\n",
       "    </tr>\n",
       "    <tr>\n",
       "      <th>271701</th>\n",
       "      <td>1.0</td>\n",
       "      <td>0.0</td>\n",
       "      <td>106.0</td>\n",
       "      <td>5.0</td>\n",
       "      <td>32.0</td>\n",
       "      <td>0.0</td>\n",
       "    </tr>\n",
       "    <tr>\n",
       "      <th>271702</th>\n",
       "      <td>0.0</td>\n",
       "      <td>1.0</td>\n",
       "      <td>223.0</td>\n",
       "      <td>5.0</td>\n",
       "      <td>37.0</td>\n",
       "      <td>0.0</td>\n",
       "    </tr>\n",
       "    <tr>\n",
       "      <th>271703</th>\n",
       "      <td>8.0</td>\n",
       "      <td>1.0</td>\n",
       "      <td>116.0</td>\n",
       "      <td>5.0</td>\n",
       "      <td>37.0</td>\n",
       "      <td>1.0</td>\n",
       "    </tr>\n",
       "  </tbody>\n",
       "</table>\n",
       "<p>271704 rows × 6 columns</p>\n",
       "</div>"
      ],
      "text/plain": [
       "        VehicleType  Gearbox  Model  FuelType  Brand  NotRepaired\n",
       "0               7.0      1.0  116.0       5.0   37.0          1.0\n",
       "1               6.0      0.0  117.0       5.0   14.0          1.0\n",
       "2               5.0      1.0  116.0       5.0   37.0          0.0\n",
       "3               5.0      1.0  101.0       5.0   31.0          0.0\n",
       "4               4.0      1.0   11.0       5.0    2.0          2.0\n",
       "...             ...      ...    ...       ...    ...          ...\n",
       "271699          7.0      0.0    4.0       6.0    0.0          0.0\n",
       "271700          4.0      1.0  140.0       5.0   30.0          2.0\n",
       "271701          1.0      0.0  106.0       5.0   32.0          0.0\n",
       "271702          0.0      1.0  223.0       5.0   37.0          0.0\n",
       "271703          8.0      1.0  116.0       5.0   37.0          1.0\n",
       "\n",
       "[271704 rows x 6 columns]"
      ]
     },
     "execution_count": 28,
     "metadata": {},
     "output_type": "execute_result"
    }
   ],
   "source": [
    "obj_df = pd.DataFrame(OrdinalEncoder().fit_transform(obj_df),columns=obj_df.columns)\n",
    "obj_df"
   ]
  },
  {
   "cell_type": "code",
   "execution_count": 29,
   "metadata": {},
   "outputs": [
    {
     "name": "stdout",
     "output_type": "stream",
     "text": [
      "<class 'pandas.core.frame.DataFrame'>\n",
      "RangeIndex: 271704 entries, 0 to 271703\n",
      "Data columns (total 10 columns):\n",
      " #   Column            Non-Null Count   Dtype\n",
      "---  ------            --------------   -----\n",
      " 0   VehicleType       271704 non-null  int64\n",
      " 1   Gearbox           271704 non-null  int64\n",
      " 2   Model             271704 non-null  int64\n",
      " 3   FuelType          271704 non-null  int64\n",
      " 4   Brand             271704 non-null  int64\n",
      " 5   NotRepaired       271704 non-null  int64\n",
      " 6   Price             271704 non-null  int64\n",
      " 7   RegistrationYear  271704 non-null  int64\n",
      " 8   Power             271704 non-null  int64\n",
      " 9   Kilometer         271704 non-null  int64\n",
      "dtypes: int64(10)\n",
      "memory usage: 20.7 MB\n"
     ]
    }
   ],
   "source": [
    "df_ordinal= obj_df.join(df.select_dtypes(include=['int64']).copy()) # объеденим закодированный датафрейм с датафреймом с количественными признаками\n",
    "df_ordinal = df_ordinal.astype('int64') # преобразуем все значения в целочисленные\n",
    "df_ordinal.info()"
   ]
  },
  {
   "cell_type": "code",
   "execution_count": 30,
   "metadata": {},
   "outputs": [
    {
     "name": "stdout",
     "output_type": "stream",
     "text": [
      "(203778, 9) (67926, 9) (203778,) (67926,)\n"
     ]
    }
   ],
   "source": [
    "features = df_ordinal.drop(['Price'],axis=1)\n",
    "target = df_ordinal['Price']\n",
    "features_train, features_valid, target_train, target_valid = train_test_split(\n",
    "    features,target, test_size=0.25, random_state=12345)\n",
    "print(features_train.shape, features_valid.shape, target_train.shape, target_valid.shape)"
   ]
  },
  {
   "cell_type": "markdown",
   "metadata": {},
   "source": [
    "## Обучение моделей"
   ]
  },
  {
   "cell_type": "markdown",
   "metadata": {},
   "source": [
    "Произведем обученине моделей. Для подбора параметров используем инструмент GridSearchCV.\n",
    "Замерим время выполнения каждого метода.\n",
    "Параметры моделей заранее подобраны таким образом, чтобы время обучения было минимальным при рассчитанной минимальной RSME.\n",
    "\n",
    "Начинаем с метода <b>Дерево решений</b>:"
   ]
  },
  {
   "cell_type": "code",
   "execution_count": 31,
   "metadata": {},
   "outputs": [
    {
     "name": "stdout",
     "output_type": "stream",
     "text": [
      "Лучшая RMSE: 1943.1579252938184 при параметрах {'max_depth': 15, 'min_samples_leaf': 10}\n"
     ]
    }
   ],
   "source": [
    "model_dt= DecisionTreeRegressor(random_state=12345)\n",
    "param_grid = {\n",
    "    \"max_depth\" : range(15,16),\n",
    "    \"min_samples_leaf\" : range(10,11)\n",
    "}\n",
    "gsearch = GridSearchCV(model_dt, param_grid = param_grid, scoring='neg_root_mean_squared_error', cv=2)\n",
    "dt_model = gsearch.fit(features_train,target_train)\n",
    "print(f'Лучшая RMSE: {-dt_model.best_score_} при параметрах {dt_model.best_params_}')"
   ]
  },
  {
   "cell_type": "markdown",
   "metadata": {},
   "source": [
    "<b>Случайный Лес:</b>"
   ]
  },
  {
   "cell_type": "code",
   "execution_count": 32,
   "metadata": {},
   "outputs": [
    {
     "name": "stdout",
     "output_type": "stream",
     "text": [
      "Лучшая RMSE: 1749.8348281482627 при параметрах ,{'max_depth': 15, 'min_samples_leaf': 2}\n"
     ]
    }
   ],
   "source": [
    "\n",
    "model_rf= RandomForestRegressor(random_state=12345)\n",
    "param_grid = {\n",
    "    \"max_depth\" : range(15,16),\n",
    "    \"min_samples_leaf\" : range(2,3)\n",
    "}\n",
    "gsearch = GridSearchCV(model_rf, param_grid = param_grid, scoring='neg_root_mean_squared_error', cv=2)\n",
    "rf_model = gsearch.fit(features_train,target_train)\n",
    "print(f'Лучшая RMSE: {-rf_model.best_score_} при параметрах ,{rf_model.best_params_}')"
   ]
  },
  {
   "cell_type": "markdown",
   "metadata": {},
   "source": [
    "<b>Линейная регрессия:</b>\n",
    "\n",
    "<font color='purple'>Для линейной регресии используем технику прямого кодирования категориальный признаков</font>"
   ]
  },
  {
   "cell_type": "code",
   "execution_count": 33,
   "metadata": {},
   "outputs": [
    {
     "data": {
      "text/html": [
       "<div>\n",
       "<style scoped>\n",
       "    .dataframe tbody tr th:only-of-type {\n",
       "        vertical-align: middle;\n",
       "    }\n",
       "\n",
       "    .dataframe tbody tr th {\n",
       "        vertical-align: top;\n",
       "    }\n",
       "\n",
       "    .dataframe thead th {\n",
       "        text-align: right;\n",
       "    }\n",
       "</style>\n",
       "<table border=\"1\" class=\"dataframe\">\n",
       "  <thead>\n",
       "    <tr style=\"text-align: right;\">\n",
       "      <th></th>\n",
       "      <th>Price</th>\n",
       "      <th>RegistrationYear</th>\n",
       "      <th>Power</th>\n",
       "      <th>Kilometer</th>\n",
       "      <th>VehicleType_convertible</th>\n",
       "      <th>VehicleType_coupe</th>\n",
       "      <th>VehicleType_other</th>\n",
       "      <th>VehicleType_sedan</th>\n",
       "      <th>VehicleType_small</th>\n",
       "      <th>VehicleType_suv</th>\n",
       "      <th>...</th>\n",
       "      <th>Brand_skoda</th>\n",
       "      <th>Brand_smart</th>\n",
       "      <th>Brand_subaru</th>\n",
       "      <th>Brand_suzuki</th>\n",
       "      <th>Brand_toyota</th>\n",
       "      <th>Brand_trabant</th>\n",
       "      <th>Brand_volkswagen</th>\n",
       "      <th>Brand_volvo</th>\n",
       "      <th>NotRepaired_unknown</th>\n",
       "      <th>NotRepaired_yes</th>\n",
       "    </tr>\n",
       "  </thead>\n",
       "  <tbody>\n",
       "    <tr>\n",
       "      <th>0</th>\n",
       "      <td>480</td>\n",
       "      <td>1993</td>\n",
       "      <td>0</td>\n",
       "      <td>150000</td>\n",
       "      <td>0</td>\n",
       "      <td>0</td>\n",
       "      <td>0</td>\n",
       "      <td>0</td>\n",
       "      <td>0</td>\n",
       "      <td>0</td>\n",
       "      <td>...</td>\n",
       "      <td>0</td>\n",
       "      <td>0</td>\n",
       "      <td>0</td>\n",
       "      <td>0</td>\n",
       "      <td>0</td>\n",
       "      <td>0</td>\n",
       "      <td>1</td>\n",
       "      <td>0</td>\n",
       "      <td>1</td>\n",
       "      <td>0</td>\n",
       "    </tr>\n",
       "    <tr>\n",
       "      <th>1</th>\n",
       "      <td>9800</td>\n",
       "      <td>2004</td>\n",
       "      <td>163</td>\n",
       "      <td>125000</td>\n",
       "      <td>0</td>\n",
       "      <td>0</td>\n",
       "      <td>0</td>\n",
       "      <td>0</td>\n",
       "      <td>0</td>\n",
       "      <td>1</td>\n",
       "      <td>...</td>\n",
       "      <td>0</td>\n",
       "      <td>0</td>\n",
       "      <td>0</td>\n",
       "      <td>0</td>\n",
       "      <td>0</td>\n",
       "      <td>0</td>\n",
       "      <td>0</td>\n",
       "      <td>0</td>\n",
       "      <td>1</td>\n",
       "      <td>0</td>\n",
       "    </tr>\n",
       "    <tr>\n",
       "      <th>2</th>\n",
       "      <td>1500</td>\n",
       "      <td>2001</td>\n",
       "      <td>75</td>\n",
       "      <td>150000</td>\n",
       "      <td>0</td>\n",
       "      <td>0</td>\n",
       "      <td>0</td>\n",
       "      <td>0</td>\n",
       "      <td>1</td>\n",
       "      <td>0</td>\n",
       "      <td>...</td>\n",
       "      <td>0</td>\n",
       "      <td>0</td>\n",
       "      <td>0</td>\n",
       "      <td>0</td>\n",
       "      <td>0</td>\n",
       "      <td>0</td>\n",
       "      <td>1</td>\n",
       "      <td>0</td>\n",
       "      <td>0</td>\n",
       "      <td>0</td>\n",
       "    </tr>\n",
       "    <tr>\n",
       "      <th>3</th>\n",
       "      <td>3600</td>\n",
       "      <td>2008</td>\n",
       "      <td>69</td>\n",
       "      <td>90000</td>\n",
       "      <td>0</td>\n",
       "      <td>0</td>\n",
       "      <td>0</td>\n",
       "      <td>0</td>\n",
       "      <td>1</td>\n",
       "      <td>0</td>\n",
       "      <td>...</td>\n",
       "      <td>1</td>\n",
       "      <td>0</td>\n",
       "      <td>0</td>\n",
       "      <td>0</td>\n",
       "      <td>0</td>\n",
       "      <td>0</td>\n",
       "      <td>0</td>\n",
       "      <td>0</td>\n",
       "      <td>0</td>\n",
       "      <td>0</td>\n",
       "    </tr>\n",
       "    <tr>\n",
       "      <th>4</th>\n",
       "      <td>650</td>\n",
       "      <td>1995</td>\n",
       "      <td>102</td>\n",
       "      <td>150000</td>\n",
       "      <td>0</td>\n",
       "      <td>0</td>\n",
       "      <td>0</td>\n",
       "      <td>1</td>\n",
       "      <td>0</td>\n",
       "      <td>0</td>\n",
       "      <td>...</td>\n",
       "      <td>0</td>\n",
       "      <td>0</td>\n",
       "      <td>0</td>\n",
       "      <td>0</td>\n",
       "      <td>0</td>\n",
       "      <td>0</td>\n",
       "      <td>0</td>\n",
       "      <td>0</td>\n",
       "      <td>0</td>\n",
       "      <td>1</td>\n",
       "    </tr>\n",
       "    <tr>\n",
       "      <th>...</th>\n",
       "      <td>...</td>\n",
       "      <td>...</td>\n",
       "      <td>...</td>\n",
       "      <td>...</td>\n",
       "      <td>...</td>\n",
       "      <td>...</td>\n",
       "      <td>...</td>\n",
       "      <td>...</td>\n",
       "      <td>...</td>\n",
       "      <td>...</td>\n",
       "      <td>...</td>\n",
       "      <td>...</td>\n",
       "      <td>...</td>\n",
       "      <td>...</td>\n",
       "      <td>...</td>\n",
       "      <td>...</td>\n",
       "      <td>...</td>\n",
       "      <td>...</td>\n",
       "      <td>...</td>\n",
       "      <td>...</td>\n",
       "      <td>...</td>\n",
       "    </tr>\n",
       "    <tr>\n",
       "      <th>271699</th>\n",
       "      <td>5250</td>\n",
       "      <td>2016</td>\n",
       "      <td>150</td>\n",
       "      <td>150000</td>\n",
       "      <td>0</td>\n",
       "      <td>0</td>\n",
       "      <td>0</td>\n",
       "      <td>0</td>\n",
       "      <td>0</td>\n",
       "      <td>0</td>\n",
       "      <td>...</td>\n",
       "      <td>0</td>\n",
       "      <td>0</td>\n",
       "      <td>0</td>\n",
       "      <td>0</td>\n",
       "      <td>0</td>\n",
       "      <td>0</td>\n",
       "      <td>0</td>\n",
       "      <td>0</td>\n",
       "      <td>0</td>\n",
       "      <td>0</td>\n",
       "    </tr>\n",
       "    <tr>\n",
       "      <th>271700</th>\n",
       "      <td>3200</td>\n",
       "      <td>2004</td>\n",
       "      <td>225</td>\n",
       "      <td>150000</td>\n",
       "      <td>0</td>\n",
       "      <td>0</td>\n",
       "      <td>0</td>\n",
       "      <td>1</td>\n",
       "      <td>0</td>\n",
       "      <td>0</td>\n",
       "      <td>...</td>\n",
       "      <td>0</td>\n",
       "      <td>0</td>\n",
       "      <td>0</td>\n",
       "      <td>0</td>\n",
       "      <td>0</td>\n",
       "      <td>0</td>\n",
       "      <td>0</td>\n",
       "      <td>0</td>\n",
       "      <td>0</td>\n",
       "      <td>1</td>\n",
       "    </tr>\n",
       "    <tr>\n",
       "      <th>271701</th>\n",
       "      <td>1199</td>\n",
       "      <td>2000</td>\n",
       "      <td>101</td>\n",
       "      <td>125000</td>\n",
       "      <td>1</td>\n",
       "      <td>0</td>\n",
       "      <td>0</td>\n",
       "      <td>0</td>\n",
       "      <td>0</td>\n",
       "      <td>0</td>\n",
       "      <td>...</td>\n",
       "      <td>0</td>\n",
       "      <td>1</td>\n",
       "      <td>0</td>\n",
       "      <td>0</td>\n",
       "      <td>0</td>\n",
       "      <td>0</td>\n",
       "      <td>0</td>\n",
       "      <td>0</td>\n",
       "      <td>0</td>\n",
       "      <td>0</td>\n",
       "    </tr>\n",
       "    <tr>\n",
       "      <th>271702</th>\n",
       "      <td>9200</td>\n",
       "      <td>1996</td>\n",
       "      <td>102</td>\n",
       "      <td>150000</td>\n",
       "      <td>0</td>\n",
       "      <td>0</td>\n",
       "      <td>0</td>\n",
       "      <td>0</td>\n",
       "      <td>0</td>\n",
       "      <td>0</td>\n",
       "      <td>...</td>\n",
       "      <td>0</td>\n",
       "      <td>0</td>\n",
       "      <td>0</td>\n",
       "      <td>0</td>\n",
       "      <td>0</td>\n",
       "      <td>0</td>\n",
       "      <td>1</td>\n",
       "      <td>0</td>\n",
       "      <td>0</td>\n",
       "      <td>0</td>\n",
       "    </tr>\n",
       "    <tr>\n",
       "      <th>271703</th>\n",
       "      <td>3400</td>\n",
       "      <td>2002</td>\n",
       "      <td>100</td>\n",
       "      <td>150000</td>\n",
       "      <td>0</td>\n",
       "      <td>0</td>\n",
       "      <td>0</td>\n",
       "      <td>0</td>\n",
       "      <td>0</td>\n",
       "      <td>0</td>\n",
       "      <td>...</td>\n",
       "      <td>0</td>\n",
       "      <td>0</td>\n",
       "      <td>0</td>\n",
       "      <td>0</td>\n",
       "      <td>0</td>\n",
       "      <td>0</td>\n",
       "      <td>1</td>\n",
       "      <td>0</td>\n",
       "      <td>1</td>\n",
       "      <td>0</td>\n",
       "    </tr>\n",
       "  </tbody>\n",
       "</table>\n",
       "<p>271704 rows × 308 columns</p>\n",
       "</div>"
      ],
      "text/plain": [
       "        Price  RegistrationYear  Power  Kilometer  VehicleType_convertible  \\\n",
       "0         480              1993      0     150000                        0   \n",
       "1        9800              2004    163     125000                        0   \n",
       "2        1500              2001     75     150000                        0   \n",
       "3        3600              2008     69      90000                        0   \n",
       "4         650              1995    102     150000                        0   \n",
       "...       ...               ...    ...        ...                      ...   \n",
       "271699   5250              2016    150     150000                        0   \n",
       "271700   3200              2004    225     150000                        0   \n",
       "271701   1199              2000    101     125000                        1   \n",
       "271702   9200              1996    102     150000                        0   \n",
       "271703   3400              2002    100     150000                        0   \n",
       "\n",
       "        VehicleType_coupe  VehicleType_other  VehicleType_sedan  \\\n",
       "0                       0                  0                  0   \n",
       "1                       0                  0                  0   \n",
       "2                       0                  0                  0   \n",
       "3                       0                  0                  0   \n",
       "4                       0                  0                  1   \n",
       "...                   ...                ...                ...   \n",
       "271699                  0                  0                  0   \n",
       "271700                  0                  0                  1   \n",
       "271701                  0                  0                  0   \n",
       "271702                  0                  0                  0   \n",
       "271703                  0                  0                  0   \n",
       "\n",
       "        VehicleType_small  VehicleType_suv  ...  Brand_skoda  Brand_smart  \\\n",
       "0                       0                0  ...            0            0   \n",
       "1                       0                1  ...            0            0   \n",
       "2                       1                0  ...            0            0   \n",
       "3                       1                0  ...            1            0   \n",
       "4                       0                0  ...            0            0   \n",
       "...                   ...              ...  ...          ...          ...   \n",
       "271699                  0                0  ...            0            0   \n",
       "271700                  0                0  ...            0            0   \n",
       "271701                  0                0  ...            0            1   \n",
       "271702                  0                0  ...            0            0   \n",
       "271703                  0                0  ...            0            0   \n",
       "\n",
       "        Brand_subaru  Brand_suzuki  Brand_toyota  Brand_trabant  \\\n",
       "0                  0             0             0              0   \n",
       "1                  0             0             0              0   \n",
       "2                  0             0             0              0   \n",
       "3                  0             0             0              0   \n",
       "4                  0             0             0              0   \n",
       "...              ...           ...           ...            ...   \n",
       "271699             0             0             0              0   \n",
       "271700             0             0             0              0   \n",
       "271701             0             0             0              0   \n",
       "271702             0             0             0              0   \n",
       "271703             0             0             0              0   \n",
       "\n",
       "        Brand_volkswagen  Brand_volvo  NotRepaired_unknown  NotRepaired_yes  \n",
       "0                      1            0                    1                0  \n",
       "1                      0            0                    1                0  \n",
       "2                      1            0                    0                0  \n",
       "3                      0            0                    0                0  \n",
       "4                      0            0                    0                1  \n",
       "...                  ...          ...                  ...              ...  \n",
       "271699                 0            0                    0                0  \n",
       "271700                 0            0                    0                1  \n",
       "271701                 0            0                    0                0  \n",
       "271702                 1            0                    0                0  \n",
       "271703                 1            0                    1                0  \n",
       "\n",
       "[271704 rows x 308 columns]"
      ]
     },
     "metadata": {},
     "output_type": "display_data"
    },
    {
     "name": "stdout",
     "output_type": "stream",
     "text": [
      "<class 'pandas.core.frame.DataFrame'>\n",
      "RangeIndex: 271704 entries, 0 to 271703\n",
      "Columns: 308 entries, Price to NotRepaired_yes\n",
      "dtypes: int64(4), uint8(304)\n",
      "memory usage: 87.1 MB\n"
     ]
    }
   ],
   "source": [
    "df_ohe = pd.get_dummies(df, drop_first=True)\n",
    "\n",
    "display(df_ohe)\n",
    "df_ohe.info()"
   ]
  },
  {
   "cell_type": "markdown",
   "metadata": {},
   "source": [
    "Разобьем данные на обучающую, тестовую выборки."
   ]
  },
  {
   "cell_type": "code",
   "execution_count": 34,
   "metadata": {},
   "outputs": [
    {
     "name": "stdout",
     "output_type": "stream",
     "text": [
      "(203778, 307) (67926, 307) (203778,) (67926,)\n"
     ]
    }
   ],
   "source": [
    "features1 = df_ohe.drop(['Price'],axis=1)\n",
    "target1 = df_ohe['Price']\n",
    "features_train1, features_valid1, target_train1, target_valid1 = train_test_split(\n",
    "    features1,target1, test_size=0.25, random_state=12345)\n",
    "print(features_train1.shape, features_valid1.shape, target_train1.shape, target_valid1.shape)"
   ]
  },
  {
   "cell_type": "code",
   "execution_count": 35,
   "metadata": {
    "scrolled": true
   },
   "outputs": [
    {
     "name": "stdout",
     "output_type": "stream",
     "text": [
      "RMSE: 2783.0609150190285\n"
     ]
    }
   ],
   "source": [
    "\n",
    "model_lr = LinearRegression() \n",
    "model_lr.fit(features_train1, target_train1)\n",
    " \n",
    "predictions = model_lr.predict(features_valid1)  \n",
    "print(\"RMSE:\",mean_squared_error(target_valid1,predictions,squared= False))"
   ]
  },
  {
   "cell_type": "code",
   "execution_count": 36,
   "metadata": {},
   "outputs": [
    {
     "name": "stdout",
     "output_type": "stream",
     "text": [
      "2119.3363662536212 1719.1005723556614 2795.342234493616\n"
     ]
    }
   ],
   "source": [
    "RSME_dt = -cross_val_score(model_dt, features_train, target_train, scoring='neg_root_mean_squared_error', cv=5).mean()\n",
    "RSME_rf = -cross_val_score(model_rf, features_train, target_train, scoring='neg_root_mean_squared_error', cv=5).mean()\n",
    "RSME_lr = -cross_val_score(model_lr, features_train1, target_train1, scoring='neg_root_mean_squared_error', cv=5).mean()\n",
    "print(RSME_dt,RSME_rf,RSME_lr)"
   ]
  },
  {
   "cell_type": "markdown",
   "metadata": {},
   "source": [
    "Таким образом мы получили минимальную метрику RSME= 1719 при обучении модели методом Случайный Лес."
   ]
  },
  {
   "cell_type": "markdown",
   "metadata": {},
   "source": [
    "## Анализ моделей\n",
    "\n",
    "Произведем обученине моделей методом LightGBM.\n",
    "Для этого метода не требуется кодирование категориальных признаков, поэтому разобьем исходный датафрейм на обучающую и валидационную выборки. Дли применения метода необходимо изменить тип данных значений категориальных признаков на 'category'"
   ]
  },
  {
   "cell_type": "code",
   "execution_count": 37,
   "metadata": {},
   "outputs": [
    {
     "name": "stdout",
     "output_type": "stream",
     "text": [
      "<class 'pandas.core.frame.DataFrame'>\n",
      "Int64Index: 203778 entries, 160746 to 217570\n",
      "Data columns (total 9 columns):\n",
      " #   Column            Non-Null Count   Dtype   \n",
      "---  ------            --------------   -----   \n",
      " 0   VehicleType       203778 non-null  category\n",
      " 1   RegistrationYear  203778 non-null  int64   \n",
      " 2   Gearbox           203778 non-null  category\n",
      " 3   Power             203778 non-null  int64   \n",
      " 4   Model             203778 non-null  category\n",
      " 5   Kilometer         203778 non-null  int64   \n",
      " 6   FuelType          203778 non-null  category\n",
      " 7   Brand             203778 non-null  category\n",
      " 8   NotRepaired       203778 non-null  category\n",
      "dtypes: category(6), int64(3)\n",
      "memory usage: 7.6 MB\n",
      "(203778, 9) (67926, 9) (203778,) (67926,)\n"
     ]
    }
   ],
   "source": [
    "features2 = df.drop(['Price'],axis=1)\n",
    "target2 = df['Price']\n",
    "features2[category_list] = features2[category_list].astype('category')\n",
    "features_train2, features_valid2, target_train2, target_valid2 = train_test_split(\n",
    "    features2,target2, test_size=0.25, random_state=12345)\n",
    "#display(features_train2[category_list])\n",
    "#print(category_list)\n",
    "features_train2.info()\n",
    "print(features_train2.shape, features_valid2.shape, target_train2.shape, target_valid2.shape)"
   ]
  },
  {
   "cell_type": "markdown",
   "metadata": {},
   "source": [
    "Замерим время обучения методом LightGBM\n",
    "Параметры модели заранее подобраны таким образом, чтобы время обучения было минимальным при рассчитанной минимальной RSME."
   ]
  },
  {
   "cell_type": "code",
   "execution_count": 38,
   "metadata": {
    "scrolled": true
   },
   "outputs": [
    {
     "name": "stdout",
     "output_type": "stream",
     "text": [
      "Лучшая RMSE: 1616.3449408673132 при параметрах ,{'max_depth': 15, 'n_estimators': 900}\n"
     ]
    }
   ],
   "source": [
    "\n",
    "model_lgbm= LGBMRegressor(random_state=12345, n_jobs=2)\n",
    "\n",
    "param_grid = {\n",
    "    \"max_depth\" : range(15,16),\n",
    "    \"n_estimators\" : range(900,901)\n",
    "}\n",
    "\n",
    "gsearch = GridSearchCV(model_lgbm, param_grid = param_grid, scoring='neg_root_mean_squared_error', cv=2)\n",
    "lgb_model = gsearch.fit(features_train2,target_train2)\n",
    "print(f'Лучшая RMSE: {-lgb_model.best_score_} при параметрах ,{lgb_model.best_params_}')"
   ]
  },
  {
   "cell_type": "markdown",
   "metadata": {},
   "source": [
    " Проведем финальные тесты, замерив время обучения модели, время рабты можели и RSME на тестовых данных"
   ]
  },
  {
   "cell_type": "code",
   "execution_count": 39,
   "metadata": {},
   "outputs": [],
   "source": [
    "st_dt = time.time()\n",
    "dt_model_test = dt_model.fit(features_train,target_train)\n",
    "st_dt1 = time.time()\n",
    "dt_predictions = dt_model_test.predict(features_valid)\n",
    "RSME_dt_test = mean_squared_error(target_valid, dt_predictions,squared= False)\n",
    "st_dt2 = time.time()\n",
    "learn_time_dt = st_dt1-st_dt\n",
    "pred_time_dt = st_dt2-st_dt1"
   ]
  },
  {
   "cell_type": "code",
   "execution_count": 40,
   "metadata": {},
   "outputs": [],
   "source": [
    "st_rf = time.time()\n",
    "rf_model_test = rf_model.fit(features_train,target_train)\n",
    "st_rf1 = time.time()\n",
    "rf_predictions = rf_model_test.predict(features_valid)\n",
    "RSME_rf_test = mean_squared_error(target_valid, rf_predictions,squared= False)\n",
    "st_rf2 = time.time()\n",
    "learn_time_rf = st_rf1-st_rf\n",
    "pred_time_rf = st_rf2-st_rf1"
   ]
  },
  {
   "cell_type": "code",
   "execution_count": 41,
   "metadata": {},
   "outputs": [],
   "source": [
    "st_lr = time.time()\n",
    "lr_model_test = model_lr.fit(features_train1,target_train1)\n",
    "st_lr1 = time.time()\n",
    "lr_predictions = lr_model_test.predict(features_valid1)\n",
    "RSME_lr_test = mean_squared_error(target_valid1, lr_predictions,squared= False)\n",
    "st_lr2 = time.time()\n",
    "learn_time_lr = st_lr1-st_lr\n",
    "pred_time_lr = st_lr2-st_lr1"
   ]
  },
  {
   "cell_type": "code",
   "execution_count": 42,
   "metadata": {},
   "outputs": [],
   "source": [
    "st_lgb = time.time()\n",
    "lgb_model_test = lgb_model.fit(features_train2,target_train2)\n",
    "st_lgb1 = time.time()\n",
    "lgb_predictions = lgb_model_test.predict(features_valid2)\n",
    "RSME_lgb_test = mean_squared_error(target_valid2, lgb_predictions,squared= False)\n",
    "st_lgb2 = time.time()\n",
    "learn_time_lgb = st_lgb1-st_lgb\n",
    "pred_time_lgb = st_lgb2-st_lgb1"
   ]
  },
  {
   "cell_type": "code",
   "execution_count": 43,
   "metadata": {
    "scrolled": true
   },
   "outputs": [
    {
     "data": {
      "text/html": [
       "<div>\n",
       "<style scoped>\n",
       "    .dataframe tbody tr th:only-of-type {\n",
       "        vertical-align: middle;\n",
       "    }\n",
       "\n",
       "    .dataframe tbody tr th {\n",
       "        vertical-align: top;\n",
       "    }\n",
       "\n",
       "    .dataframe thead th {\n",
       "        text-align: right;\n",
       "    }\n",
       "</style>\n",
       "<table border=\"1\" class=\"dataframe\">\n",
       "  <thead>\n",
       "    <tr style=\"text-align: right;\">\n",
       "      <th></th>\n",
       "      <th>Model</th>\n",
       "      <th>RSME</th>\n",
       "      <th>learn_time</th>\n",
       "      <th>predict_time</th>\n",
       "    </tr>\n",
       "  </thead>\n",
       "  <tbody>\n",
       "    <tr>\n",
       "      <th>0</th>\n",
       "      <td>DecisionTree</td>\n",
       "      <td>1880.221210</td>\n",
       "      <td>1.199871</td>\n",
       "      <td>0.013624</td>\n",
       "    </tr>\n",
       "    <tr>\n",
       "      <th>1</th>\n",
       "      <td>RandomForest</td>\n",
       "      <td>1710.918465</td>\n",
       "      <td>79.104715</td>\n",
       "      <td>1.275404</td>\n",
       "    </tr>\n",
       "    <tr>\n",
       "      <th>2</th>\n",
       "      <td>LinearRegression</td>\n",
       "      <td>2783.060915</td>\n",
       "      <td>80.987750</td>\n",
       "      <td>0.208381</td>\n",
       "    </tr>\n",
       "    <tr>\n",
       "      <th>3</th>\n",
       "      <td>LGBMRegressor</td>\n",
       "      <td>1590.849309</td>\n",
       "      <td>37.894074</td>\n",
       "      <td>5.273145</td>\n",
       "    </tr>\n",
       "  </tbody>\n",
       "</table>\n",
       "</div>"
      ],
      "text/plain": [
       "              Model         RSME  learn_time  predict_time\n",
       "0      DecisionTree  1880.221210    1.199871      0.013624\n",
       "1      RandomForest  1710.918465   79.104715      1.275404\n",
       "2  LinearRegression  2783.060915   80.987750      0.208381\n",
       "3     LGBMRegressor  1590.849309   37.894074      5.273145"
      ]
     },
     "execution_count": 43,
     "metadata": {},
     "output_type": "execute_result"
    }
   ],
   "source": [
    "data1 = {'Model':['DecisionTree', 'RandomForest', 'LinearRegression', 'LGBMRegressor'],'RSME': [RSME_dt_test, RSME_rf_test, RSME_lr_test, RSME_lgb_test], 'learn_time': [learn_time_dt, learn_time_rf, learn_time_lr, learn_time_lgb], 'predict_time': [pred_time_dt, pred_time_rf, pred_time_lr, pred_time_lgb]} \n",
    "pd.DataFrame(data1)"
   ]
  },
  {
   "cell_type": "markdown",
   "metadata": {},
   "source": [
    "Лучшее качество модели у метода LGBM, по сравнению с методом Случайный Лес время обучения обучения и предсказания значительно меньше\n",
    "\n",
    "## Финальный вывод\n",
    "\n",
    "Для сервиса по продаже автомобилей с пробегом «Не бит, не крашен» была получена и обработана информация о клиентах(данные приведены в надлежащий вид: убраны некорректные значения, дубликаты).  \n",
    "\n",
    "Для определения стоимости были построены 4 модели предсказания. Самой эффективной моделью, которая показала минимальную метрику RSME и минимальное время обучения и предсказания, а значит и максимальную скорость, является модель градиентного бустинга библиотеки LightGBM."
   ]
  }
 ],
 "metadata": {
  "ExecuteTimeLog": [
   {
    "duration": 483,
    "start_time": "2022-05-08T03:11:32.841Z"
   },
   {
    "duration": 1218,
    "start_time": "2022-05-08T03:11:33.326Z"
   },
   {
    "duration": 29,
    "start_time": "2022-05-08T03:12:09.046Z"
   },
   {
    "duration": 27,
    "start_time": "2022-05-08T03:29:10.143Z"
   },
   {
    "duration": 96,
    "start_time": "2022-05-08T04:34:28.823Z"
   },
   {
    "duration": 11,
    "start_time": "2022-05-08T04:34:33.725Z"
   },
   {
    "duration": 27,
    "start_time": "2022-05-08T04:34:54.138Z"
   },
   {
    "duration": 40,
    "start_time": "2022-05-08T04:38:52.669Z"
   },
   {
    "duration": 150,
    "start_time": "2022-05-08T04:40:04.314Z"
   },
   {
    "duration": 46,
    "start_time": "2022-05-11T03:53:14.773Z"
   },
   {
    "duration": 1594,
    "start_time": "2022-05-11T03:53:17.802Z"
   },
   {
    "duration": 931,
    "start_time": "2022-05-11T03:53:19.398Z"
   },
   {
    "duration": 25,
    "start_time": "2022-05-11T03:53:20.331Z"
   },
   {
    "duration": 139,
    "start_time": "2022-05-11T03:53:20.358Z"
   },
   {
    "duration": 35,
    "start_time": "2022-05-11T03:53:20.499Z"
   },
   {
    "duration": 518,
    "start_time": "2022-05-11T03:53:20.536Z"
   },
   {
    "duration": 480,
    "start_time": "2022-05-11T03:53:41.321Z"
   },
   {
    "duration": 545,
    "start_time": "2022-05-11T03:53:50.565Z"
   },
   {
    "duration": 486,
    "start_time": "2022-05-11T03:56:32.282Z"
   },
   {
    "duration": 632,
    "start_time": "2022-05-11T03:58:24.795Z"
   },
   {
    "duration": 12,
    "start_time": "2022-05-11T03:58:55.975Z"
   },
   {
    "duration": 2383,
    "start_time": "2022-05-12T17:29:22.390Z"
   },
   {
    "duration": 1276,
    "start_time": "2022-05-12T17:29:24.776Z"
   },
   {
    "duration": 40,
    "start_time": "2022-05-12T17:29:26.054Z"
   },
   {
    "duration": 745,
    "start_time": "2022-05-12T17:29:26.097Z"
   },
   {
    "duration": 1474,
    "start_time": "2022-05-12T17:29:26.845Z"
   },
   {
    "duration": 247,
    "start_time": "2022-05-12T17:29:28.322Z"
   },
   {
    "duration": 51,
    "start_time": "2022-05-12T17:29:28.571Z"
   },
   {
    "duration": 1918,
    "start_time": "2022-05-12T17:32:46.726Z"
   },
   {
    "duration": 211,
    "start_time": "2022-05-12T17:34:31.648Z"
   },
   {
    "duration": 208,
    "start_time": "2022-05-12T17:34:36.774Z"
   },
   {
    "duration": 1732,
    "start_time": "2022-05-12T17:35:23.171Z"
   },
   {
    "duration": 985,
    "start_time": "2022-05-12T17:38:44.236Z"
   },
   {
    "duration": 172,
    "start_time": "2022-05-12T17:42:14.671Z"
   },
   {
    "duration": 34,
    "start_time": "2022-05-12T17:42:34.073Z"
   },
   {
    "duration": 29,
    "start_time": "2022-05-12T17:43:21.993Z"
   },
   {
    "duration": 35,
    "start_time": "2022-05-12T17:44:38.884Z"
   },
   {
    "duration": 16,
    "start_time": "2022-05-12T17:46:54.580Z"
   },
   {
    "duration": 230,
    "start_time": "2022-05-12T17:47:52.562Z"
   },
   {
    "duration": 1005,
    "start_time": "2022-05-12T17:52:43.238Z"
   },
   {
    "duration": 4,
    "start_time": "2022-05-12T17:57:52.923Z"
   },
   {
    "duration": 4,
    "start_time": "2022-05-12T17:57:55.920Z"
   },
   {
    "duration": 3342,
    "start_time": "2022-05-12T18:02:00.852Z"
   },
   {
    "duration": 123,
    "start_time": "2022-05-12T18:02:14.914Z"
   },
   {
    "duration": 260,
    "start_time": "2022-05-12T18:02:21.115Z"
   },
   {
    "duration": 257,
    "start_time": "2022-05-12T18:23:58.943Z"
   },
   {
    "duration": 34,
    "start_time": "2022-05-12T18:25:06.639Z"
   },
   {
    "duration": 16,
    "start_time": "2022-05-12T18:25:28.580Z"
   },
   {
    "duration": 156,
    "start_time": "2022-05-12T18:25:43.071Z"
   },
   {
    "duration": 12,
    "start_time": "2022-05-12T18:34:34.974Z"
   },
   {
    "duration": 13,
    "start_time": "2022-05-12T18:36:00.489Z"
   },
   {
    "duration": 17,
    "start_time": "2022-05-12T18:36:10.401Z"
   },
   {
    "duration": 14,
    "start_time": "2022-05-12T18:36:20.949Z"
   },
   {
    "duration": 12,
    "start_time": "2022-05-12T18:36:55.736Z"
   },
   {
    "duration": 11,
    "start_time": "2022-05-12T18:37:25.260Z"
   },
   {
    "duration": 41,
    "start_time": "2022-05-12T18:38:15.514Z"
   },
   {
    "duration": 26,
    "start_time": "2022-05-12T18:38:39.925Z"
   },
   {
    "duration": 2346,
    "start_time": "2022-05-13T20:09:08.354Z"
   },
   {
    "duration": 1266,
    "start_time": "2022-05-13T20:09:10.703Z"
   },
   {
    "duration": 268,
    "start_time": "2022-05-13T20:09:11.971Z"
   },
   {
    "duration": 741,
    "start_time": "2022-05-13T20:09:12.242Z"
   },
   {
    "duration": 1026,
    "start_time": "2022-05-13T20:09:12.985Z"
   },
   {
    "duration": 181,
    "start_time": "2022-05-13T20:09:14.014Z"
   },
   {
    "duration": 312,
    "start_time": "2022-05-13T20:09:14.198Z"
   },
   {
    "duration": 77,
    "start_time": "2022-05-13T20:09:14.513Z"
   },
   {
    "duration": 152,
    "start_time": "2022-05-13T20:09:14.593Z"
   },
   {
    "duration": 11,
    "start_time": "2022-05-13T20:09:14.749Z"
   },
   {
    "duration": 73,
    "start_time": "2022-05-13T20:09:14.762Z"
   },
   {
    "duration": 178,
    "start_time": "2022-05-13T20:11:21.231Z"
   },
   {
    "duration": 41,
    "start_time": "2022-05-13T20:11:49.711Z"
   },
   {
    "duration": 31,
    "start_time": "2022-05-13T20:12:02.540Z"
   },
   {
    "duration": 56,
    "start_time": "2022-05-13T20:12:19.212Z"
   },
   {
    "duration": 29,
    "start_time": "2022-05-13T20:12:24.446Z"
   },
   {
    "duration": 44,
    "start_time": "2022-05-13T20:13:07.978Z"
   },
   {
    "duration": 41,
    "start_time": "2022-05-13T20:13:10.505Z"
   },
   {
    "duration": 413,
    "start_time": "2022-05-13T20:13:18.269Z"
   },
   {
    "duration": 43,
    "start_time": "2022-05-13T20:14:09.488Z"
   },
   {
    "duration": 58,
    "start_time": "2022-05-13T20:14:12.004Z"
   },
   {
    "duration": 23,
    "start_time": "2022-05-13T20:14:13.981Z"
   },
   {
    "duration": 23,
    "start_time": "2022-05-13T20:14:16.658Z"
   },
   {
    "duration": 55,
    "start_time": "2022-05-13T20:14:17.943Z"
   },
   {
    "duration": 35,
    "start_time": "2022-05-13T20:14:36.929Z"
   },
   {
    "duration": 427,
    "start_time": "2022-05-13T20:14:46.135Z"
   },
   {
    "duration": 17,
    "start_time": "2022-05-13T20:14:52.703Z"
   },
   {
    "duration": 578,
    "start_time": "2022-05-13T20:17:09.470Z"
   },
   {
    "duration": 6,
    "start_time": "2022-05-13T20:17:16.949Z"
   },
   {
    "duration": 1337,
    "start_time": "2022-05-13T20:17:16.958Z"
   },
   {
    "duration": 279,
    "start_time": "2022-05-13T20:17:18.298Z"
   },
   {
    "duration": 851,
    "start_time": "2022-05-13T20:17:18.579Z"
   },
   {
    "duration": 1042,
    "start_time": "2022-05-13T20:17:19.434Z"
   },
   {
    "duration": 182,
    "start_time": "2022-05-13T20:17:20.478Z"
   },
   {
    "duration": 321,
    "start_time": "2022-05-13T20:17:20.663Z"
   },
   {
    "duration": 77,
    "start_time": "2022-05-13T20:17:20.986Z"
   },
   {
    "duration": 130,
    "start_time": "2022-05-13T20:17:21.065Z"
   },
   {
    "duration": 36,
    "start_time": "2022-05-13T20:17:21.197Z"
   },
   {
    "duration": 8,
    "start_time": "2022-05-13T20:17:27.005Z"
   },
   {
    "duration": 10,
    "start_time": "2022-05-13T20:17:31.716Z"
   },
   {
    "duration": 36,
    "start_time": "2022-05-13T20:18:11.212Z"
   },
   {
    "duration": 5,
    "start_time": "2022-05-13T20:18:22.316Z"
   },
   {
    "duration": 1340,
    "start_time": "2022-05-13T20:18:22.325Z"
   },
   {
    "duration": 273,
    "start_time": "2022-05-13T20:18:23.668Z"
   },
   {
    "duration": 744,
    "start_time": "2022-05-13T20:18:23.944Z"
   },
   {
    "duration": 1078,
    "start_time": "2022-05-13T20:18:24.691Z"
   },
   {
    "duration": 182,
    "start_time": "2022-05-13T20:18:25.771Z"
   },
   {
    "duration": 317,
    "start_time": "2022-05-13T20:18:25.956Z"
   },
   {
    "duration": 70,
    "start_time": "2022-05-13T20:18:26.276Z"
   },
   {
    "duration": 136,
    "start_time": "2022-05-13T20:18:26.350Z"
   },
   {
    "duration": 40,
    "start_time": "2022-05-13T20:18:26.488Z"
   },
   {
    "duration": 35,
    "start_time": "2022-05-13T20:18:34.459Z"
   },
   {
    "duration": 17,
    "start_time": "2022-05-13T20:18:38.495Z"
   },
   {
    "duration": 479,
    "start_time": "2022-05-13T20:19:04.901Z"
   },
   {
    "duration": 6,
    "start_time": "2022-05-13T20:19:13.013Z"
   },
   {
    "duration": 1350,
    "start_time": "2022-05-13T20:19:13.022Z"
   },
   {
    "duration": 251,
    "start_time": "2022-05-13T20:19:14.375Z"
   },
   {
    "duration": 750,
    "start_time": "2022-05-13T20:19:14.628Z"
   },
   {
    "duration": 1000,
    "start_time": "2022-05-13T20:19:15.381Z"
   },
   {
    "duration": 172,
    "start_time": "2022-05-13T20:19:16.383Z"
   },
   {
    "duration": 309,
    "start_time": "2022-05-13T20:19:16.557Z"
   },
   {
    "duration": 80,
    "start_time": "2022-05-13T20:19:16.869Z"
   },
   {
    "duration": 135,
    "start_time": "2022-05-13T20:19:16.951Z"
   },
   {
    "duration": 40,
    "start_time": "2022-05-13T20:19:17.089Z"
   },
   {
    "duration": 14,
    "start_time": "2022-05-13T20:19:30.263Z"
   },
   {
    "duration": 17,
    "start_time": "2022-05-13T20:20:03.993Z"
   },
   {
    "duration": 7,
    "start_time": "2022-05-13T20:20:07.638Z"
   },
   {
    "duration": 1245,
    "start_time": "2022-05-13T20:20:07.647Z"
   },
   {
    "duration": 267,
    "start_time": "2022-05-13T20:20:08.895Z"
   },
   {
    "duration": 731,
    "start_time": "2022-05-13T20:20:09.164Z"
   },
   {
    "duration": 1024,
    "start_time": "2022-05-13T20:20:09.897Z"
   },
   {
    "duration": 175,
    "start_time": "2022-05-13T20:20:10.924Z"
   },
   {
    "duration": 314,
    "start_time": "2022-05-13T20:20:11.102Z"
   },
   {
    "duration": 46,
    "start_time": "2022-05-13T20:20:11.423Z"
   },
   {
    "duration": 161,
    "start_time": "2022-05-13T20:20:11.471Z"
   },
   {
    "duration": 13,
    "start_time": "2022-05-13T20:20:11.634Z"
   },
   {
    "duration": 14,
    "start_time": "2022-05-13T20:20:11.651Z"
   },
   {
    "duration": 19,
    "start_time": "2022-05-13T20:20:18.210Z"
   },
   {
    "duration": 30,
    "start_time": "2022-05-13T20:20:27.786Z"
   },
   {
    "duration": 19,
    "start_time": "2022-05-13T20:20:34.568Z"
   },
   {
    "duration": 30,
    "start_time": "2022-05-13T20:20:49.319Z"
   },
   {
    "duration": 25,
    "start_time": "2022-05-13T20:20:55.218Z"
   },
   {
    "duration": 15,
    "start_time": "2022-05-13T20:24:02.749Z"
   },
   {
    "duration": 8,
    "start_time": "2022-05-13T20:25:35.040Z"
   },
   {
    "duration": 15,
    "start_time": "2022-05-13T20:25:44.701Z"
   },
   {
    "duration": 110,
    "start_time": "2022-05-13T20:25:59.501Z"
   },
   {
    "duration": 211,
    "start_time": "2022-05-13T20:26:09.507Z"
   },
   {
    "duration": 224,
    "start_time": "2022-05-13T20:27:33.879Z"
   },
   {
    "duration": 16,
    "start_time": "2022-05-13T20:31:25.577Z"
   },
   {
    "duration": 109,
    "start_time": "2022-05-13T20:31:40.084Z"
   },
   {
    "duration": 114,
    "start_time": "2022-05-13T20:32:09.867Z"
   },
   {
    "duration": 36,
    "start_time": "2022-05-13T20:32:43.012Z"
   },
   {
    "duration": 1050,
    "start_time": "2022-05-13T20:33:10.833Z"
   },
   {
    "duration": 6,
    "start_time": "2022-05-13T20:34:18.196Z"
   },
   {
    "duration": 1748,
    "start_time": "2022-05-13T20:34:18.205Z"
   },
   {
    "duration": 316,
    "start_time": "2022-05-13T20:34:19.956Z"
   },
   {
    "duration": 827,
    "start_time": "2022-05-13T20:34:20.274Z"
   },
   {
    "duration": 1025,
    "start_time": "2022-05-13T20:34:21.105Z"
   },
   {
    "duration": 185,
    "start_time": "2022-05-13T20:34:22.133Z"
   },
   {
    "duration": 311,
    "start_time": "2022-05-13T20:34:22.328Z"
   },
   {
    "duration": 60,
    "start_time": "2022-05-13T20:34:22.643Z"
   },
   {
    "duration": 133,
    "start_time": "2022-05-13T20:34:22.730Z"
   },
   {
    "duration": 214,
    "start_time": "2022-05-13T20:34:22.866Z"
   },
   {
    "duration": 422,
    "start_time": "2022-05-13T20:34:27.653Z"
   },
   {
    "duration": 1132,
    "start_time": "2022-05-13T20:34:41.376Z"
   },
   {
    "duration": 35,
    "start_time": "2022-05-13T20:36:01.346Z"
   },
   {
    "duration": 999,
    "start_time": "2022-05-13T20:37:13.940Z"
   },
   {
    "duration": 311,
    "start_time": "2022-05-13T20:37:40.109Z"
   },
   {
    "duration": 1880,
    "start_time": "2022-05-13T20:37:45.893Z"
   },
   {
    "duration": 9549,
    "start_time": "2022-05-13T20:38:05.539Z"
   },
   {
    "duration": 2122,
    "start_time": "2022-05-13T20:38:34.672Z"
   },
   {
    "duration": 6,
    "start_time": "2022-05-13T20:39:53.980Z"
   },
   {
    "duration": 42,
    "start_time": "2022-05-13T20:40:18.116Z"
   },
   {
    "duration": 21,
    "start_time": "2022-05-13T20:40:32.539Z"
   },
   {
    "duration": 155,
    "start_time": "2022-05-13T20:40:56.766Z"
   },
   {
    "duration": 28,
    "start_time": "2022-05-13T20:41:04.521Z"
   },
   {
    "duration": 40,
    "start_time": "2022-05-13T20:41:08.997Z"
   },
   {
    "duration": 27,
    "start_time": "2022-05-13T20:46:30.065Z"
   },
   {
    "duration": 6,
    "start_time": "2022-05-13T20:48:10.321Z"
   },
   {
    "duration": 13,
    "start_time": "2022-05-13T20:54:39.105Z"
   },
   {
    "duration": 24,
    "start_time": "2022-05-13T20:55:20.809Z"
   },
   {
    "duration": 6,
    "start_time": "2022-05-13T20:55:39.539Z"
   },
   {
    "duration": 1305,
    "start_time": "2022-05-13T20:55:39.549Z"
   },
   {
    "duration": 259,
    "start_time": "2022-05-13T20:55:40.857Z"
   },
   {
    "duration": 1006,
    "start_time": "2022-05-13T20:55:41.118Z"
   },
   {
    "duration": 1504,
    "start_time": "2022-05-13T20:55:42.128Z"
   },
   {
    "duration": 177,
    "start_time": "2022-05-13T20:55:43.635Z"
   },
   {
    "duration": 314,
    "start_time": "2022-05-13T20:55:43.829Z"
   },
   {
    "duration": 51,
    "start_time": "2022-05-13T20:55:44.145Z"
   },
   {
    "duration": 156,
    "start_time": "2022-05-13T20:55:44.198Z"
   },
   {
    "duration": 236,
    "start_time": "2022-05-13T20:55:44.357Z"
   },
   {
    "duration": 1905,
    "start_time": "2022-05-13T20:55:44.598Z"
   },
   {
    "duration": 28,
    "start_time": "2022-05-13T20:55:46.505Z"
   },
   {
    "duration": 24,
    "start_time": "2022-05-13T20:55:46.536Z"
   },
   {
    "duration": 6,
    "start_time": "2022-05-13T20:55:46.562Z"
   },
   {
    "duration": 56,
    "start_time": "2022-05-13T20:57:14.467Z"
   },
   {
    "duration": 177,
    "start_time": "2022-05-13T20:57:15.640Z"
   },
   {
    "duration": 101,
    "start_time": "2022-05-13T20:58:57.298Z"
   },
   {
    "duration": 11,
    "start_time": "2022-05-13T21:01:50.892Z"
   },
   {
    "duration": 40,
    "start_time": "2022-05-13T21:09:16.842Z"
   },
   {
    "duration": 3101,
    "start_time": "2022-05-13T21:10:05.334Z"
   },
   {
    "duration": 8,
    "start_time": "2022-05-13T21:10:31.105Z"
   },
   {
    "duration": 1452,
    "start_time": "2022-05-13T21:10:31.116Z"
   },
   {
    "duration": 306,
    "start_time": "2022-05-13T21:10:32.571Z"
   },
   {
    "duration": 1002,
    "start_time": "2022-05-13T21:10:32.880Z"
   },
   {
    "duration": 1468,
    "start_time": "2022-05-13T21:10:33.886Z"
   },
   {
    "duration": 284,
    "start_time": "2022-05-13T21:10:35.357Z"
   },
   {
    "duration": 409,
    "start_time": "2022-05-13T21:10:35.647Z"
   },
   {
    "duration": 80,
    "start_time": "2022-05-13T21:10:36.059Z"
   },
   {
    "duration": 133,
    "start_time": "2022-05-13T21:10:36.142Z"
   },
   {
    "duration": 236,
    "start_time": "2022-05-13T21:10:36.278Z"
   },
   {
    "duration": 2703,
    "start_time": "2022-05-13T21:10:36.523Z"
   },
   {
    "duration": 2725,
    "start_time": "2022-05-13T21:10:42.767Z"
   },
   {
    "duration": 11,
    "start_time": "2022-05-13T21:18:44.050Z"
   },
   {
    "duration": 31,
    "start_time": "2022-05-13T21:19:28.418Z"
   },
   {
    "duration": 14,
    "start_time": "2022-05-13T21:19:41.321Z"
   },
   {
    "duration": 68,
    "start_time": "2022-05-13T21:20:47.820Z"
   },
   {
    "duration": 267,
    "start_time": "2022-05-13T21:21:01.422Z"
   },
   {
    "duration": 7,
    "start_time": "2022-05-13T21:21:26.018Z"
   },
   {
    "duration": 1381,
    "start_time": "2022-05-13T21:21:26.028Z"
   },
   {
    "duration": 313,
    "start_time": "2022-05-13T21:21:27.413Z"
   },
   {
    "duration": 915,
    "start_time": "2022-05-13T21:21:27.730Z"
   },
   {
    "duration": 1114,
    "start_time": "2022-05-13T21:21:28.650Z"
   },
   {
    "duration": 235,
    "start_time": "2022-05-13T21:21:29.766Z"
   },
   {
    "duration": 327,
    "start_time": "2022-05-13T21:21:30.003Z"
   },
   {
    "duration": 57,
    "start_time": "2022-05-13T21:21:30.332Z"
   },
   {
    "duration": 166,
    "start_time": "2022-05-13T21:21:30.392Z"
   },
   {
    "duration": 253,
    "start_time": "2022-05-13T21:21:30.561Z"
   },
   {
    "duration": 2940,
    "start_time": "2022-05-13T21:21:30.819Z"
   },
   {
    "duration": 22,
    "start_time": "2022-05-13T21:21:33.761Z"
   },
   {
    "duration": 79,
    "start_time": "2022-05-13T21:21:33.786Z"
   },
   {
    "duration": 126,
    "start_time": "2022-05-13T21:21:33.867Z"
   },
   {
    "duration": 32,
    "start_time": "2022-05-13T21:21:33.995Z"
   },
   {
    "duration": 40,
    "start_time": "2022-05-13T21:21:34.029Z"
   },
   {
    "duration": 21,
    "start_time": "2022-05-13T21:21:34.072Z"
   },
   {
    "duration": 409,
    "start_time": "2022-05-13T21:21:34.127Z"
   },
   {
    "duration": 1276,
    "start_time": "2022-05-13T21:22:43.741Z"
   },
   {
    "duration": 8,
    "start_time": "2022-05-13T21:22:51.536Z"
   },
   {
    "duration": 1331,
    "start_time": "2022-05-13T21:22:51.547Z"
   },
   {
    "duration": 280,
    "start_time": "2022-05-13T21:22:52.880Z"
   },
   {
    "duration": 801,
    "start_time": "2022-05-13T21:22:53.163Z"
   },
   {
    "duration": 1445,
    "start_time": "2022-05-13T21:22:53.967Z"
   },
   {
    "duration": 277,
    "start_time": "2022-05-13T21:22:55.416Z"
   },
   {
    "duration": 348,
    "start_time": "2022-05-13T21:22:55.695Z"
   },
   {
    "duration": 55,
    "start_time": "2022-05-13T21:22:56.045Z"
   },
   {
    "duration": 265,
    "start_time": "2022-05-13T21:22:56.103Z"
   },
   {
    "duration": 234,
    "start_time": "2022-05-13T21:22:56.371Z"
   },
   {
    "duration": 2050,
    "start_time": "2022-05-13T21:22:56.608Z"
   },
   {
    "duration": 28,
    "start_time": "2022-05-13T21:22:58.661Z"
   },
   {
    "duration": 83,
    "start_time": "2022-05-13T21:22:58.691Z"
   },
   {
    "duration": 192,
    "start_time": "2022-05-13T21:22:58.777Z"
   },
   {
    "duration": 10,
    "start_time": "2022-05-13T21:22:58.972Z"
   },
   {
    "duration": 88,
    "start_time": "2022-05-13T21:22:58.984Z"
   },
   {
    "duration": 22,
    "start_time": "2022-05-13T21:22:59.074Z"
   },
   {
    "duration": 344,
    "start_time": "2022-05-13T21:22:59.099Z"
   },
   {
    "duration": 8,
    "start_time": "2022-05-13T21:27:21.551Z"
   },
   {
    "duration": 1463,
    "start_time": "2022-05-13T21:27:21.563Z"
   },
   {
    "duration": 348,
    "start_time": "2022-05-13T21:27:23.029Z"
   },
   {
    "duration": 832,
    "start_time": "2022-05-13T21:27:23.380Z"
   },
   {
    "duration": 1233,
    "start_time": "2022-05-13T21:27:24.215Z"
   },
   {
    "duration": 280,
    "start_time": "2022-05-13T21:27:25.450Z"
   },
   {
    "duration": 461,
    "start_time": "2022-05-13T21:27:25.733Z"
   },
   {
    "duration": 77,
    "start_time": "2022-05-13T21:27:26.196Z"
   },
   {
    "duration": 208,
    "start_time": "2022-05-13T21:27:26.277Z"
   },
   {
    "duration": 305,
    "start_time": "2022-05-13T21:27:26.489Z"
   },
   {
    "duration": 2076,
    "start_time": "2022-05-13T21:27:26.797Z"
   },
   {
    "duration": 23,
    "start_time": "2022-05-13T21:27:28.875Z"
   },
   {
    "duration": 54,
    "start_time": "2022-05-13T21:27:28.925Z"
   },
   {
    "duration": 165,
    "start_time": "2022-05-13T21:27:28.982Z"
   },
   {
    "duration": 19,
    "start_time": "2022-05-13T21:27:29.150Z"
   },
   {
    "duration": 13,
    "start_time": "2022-05-13T21:27:38.345Z"
   },
   {
    "duration": 10,
    "start_time": "2022-05-13T21:27:59.369Z"
   },
   {
    "duration": 63,
    "start_time": "2022-05-13T21:30:12.512Z"
   },
   {
    "duration": 9,
    "start_time": "2022-05-13T21:30:19.196Z"
   },
   {
    "duration": 139,
    "start_time": "2022-05-13T21:30:34.380Z"
   },
   {
    "duration": 6,
    "start_time": "2022-05-13T21:30:42.342Z"
   },
   {
    "duration": 1289,
    "start_time": "2022-05-13T21:30:42.351Z"
   },
   {
    "duration": 258,
    "start_time": "2022-05-13T21:30:43.643Z"
   },
   {
    "duration": 847,
    "start_time": "2022-05-13T21:30:43.904Z"
   },
   {
    "duration": 1017,
    "start_time": "2022-05-13T21:30:44.753Z"
   },
   {
    "duration": 199,
    "start_time": "2022-05-13T21:30:45.773Z"
   },
   {
    "duration": 336,
    "start_time": "2022-05-13T21:30:45.976Z"
   },
   {
    "duration": 63,
    "start_time": "2022-05-13T21:30:46.315Z"
   },
   {
    "duration": 220,
    "start_time": "2022-05-13T21:30:46.382Z"
   },
   {
    "duration": 310,
    "start_time": "2022-05-13T21:30:46.604Z"
   },
   {
    "duration": 2014,
    "start_time": "2022-05-13T21:30:46.923Z"
   },
   {
    "duration": 23,
    "start_time": "2022-05-13T21:30:48.939Z"
   },
   {
    "duration": 77,
    "start_time": "2022-05-13T21:30:48.964Z"
   },
   {
    "duration": 121,
    "start_time": "2022-05-13T21:30:49.044Z"
   },
   {
    "duration": 11,
    "start_time": "2022-05-13T21:30:49.167Z"
   },
   {
    "duration": 50,
    "start_time": "2022-05-13T21:30:49.180Z"
   },
   {
    "duration": 58,
    "start_time": "2022-05-13T21:30:49.232Z"
   },
   {
    "duration": 139,
    "start_time": "2022-05-13T21:30:49.292Z"
   },
   {
    "duration": 191,
    "start_time": "2022-05-13T21:30:49.436Z"
   },
   {
    "duration": 53,
    "start_time": "2022-05-13T21:43:55.312Z"
   },
   {
    "duration": 91,
    "start_time": "2022-05-13T21:44:01.553Z"
   },
   {
    "duration": 469,
    "start_time": "2022-05-14T17:56:21.078Z"
   },
   {
    "duration": 0,
    "start_time": "2022-05-14T17:56:21.549Z"
   },
   {
    "duration": 0,
    "start_time": "2022-05-14T17:56:21.550Z"
   },
   {
    "duration": 0,
    "start_time": "2022-05-14T17:56:21.551Z"
   },
   {
    "duration": 0,
    "start_time": "2022-05-14T17:56:21.552Z"
   },
   {
    "duration": 0,
    "start_time": "2022-05-14T17:56:21.553Z"
   },
   {
    "duration": 0,
    "start_time": "2022-05-14T17:56:21.554Z"
   },
   {
    "duration": 0,
    "start_time": "2022-05-14T17:56:21.555Z"
   },
   {
    "duration": 0,
    "start_time": "2022-05-14T17:56:21.556Z"
   },
   {
    "duration": 0,
    "start_time": "2022-05-14T17:56:21.557Z"
   },
   {
    "duration": 0,
    "start_time": "2022-05-14T17:56:21.558Z"
   },
   {
    "duration": 0,
    "start_time": "2022-05-14T17:56:21.559Z"
   },
   {
    "duration": 0,
    "start_time": "2022-05-14T17:56:21.560Z"
   },
   {
    "duration": 0,
    "start_time": "2022-05-14T17:56:21.561Z"
   },
   {
    "duration": 0,
    "start_time": "2022-05-14T17:56:21.562Z"
   },
   {
    "duration": 0,
    "start_time": "2022-05-14T17:56:21.563Z"
   },
   {
    "duration": 0,
    "start_time": "2022-05-14T17:56:21.565Z"
   },
   {
    "duration": 0,
    "start_time": "2022-05-14T17:56:21.565Z"
   },
   {
    "duration": 0,
    "start_time": "2022-05-14T17:56:21.568Z"
   },
   {
    "duration": 0,
    "start_time": "2022-05-14T17:56:21.568Z"
   },
   {
    "duration": 10,
    "start_time": "2022-05-14T17:58:24.792Z"
   },
   {
    "duration": 0,
    "start_time": "2022-05-14T17:58:24.804Z"
   },
   {
    "duration": 0,
    "start_time": "2022-05-14T17:58:24.806Z"
   },
   {
    "duration": 6,
    "start_time": "2022-05-14T17:58:24.807Z"
   },
   {
    "duration": 6,
    "start_time": "2022-05-14T17:58:24.818Z"
   },
   {
    "duration": 7,
    "start_time": "2022-05-14T17:58:24.826Z"
   },
   {
    "duration": 0,
    "start_time": "2022-05-14T17:58:24.834Z"
   },
   {
    "duration": 7,
    "start_time": "2022-05-14T17:58:24.843Z"
   },
   {
    "duration": 0,
    "start_time": "2022-05-14T17:58:24.851Z"
   },
   {
    "duration": 8,
    "start_time": "2022-05-14T17:58:24.855Z"
   },
   {
    "duration": 8,
    "start_time": "2022-05-14T17:58:24.919Z"
   },
   {
    "duration": 7,
    "start_time": "2022-05-14T17:58:24.929Z"
   },
   {
    "duration": 0,
    "start_time": "2022-05-14T17:58:24.938Z"
   },
   {
    "duration": 6,
    "start_time": "2022-05-14T17:58:24.942Z"
   },
   {
    "duration": 0,
    "start_time": "2022-05-14T17:58:24.949Z"
   },
   {
    "duration": 10,
    "start_time": "2022-05-14T17:58:24.956Z"
   },
   {
    "duration": 0,
    "start_time": "2022-05-14T17:58:24.968Z"
   },
   {
    "duration": 8,
    "start_time": "2022-05-14T17:58:24.972Z"
   },
   {
    "duration": 0,
    "start_time": "2022-05-14T17:58:24.982Z"
   },
   {
    "duration": 7,
    "start_time": "2022-05-14T17:58:25.000Z"
   },
   {
    "duration": 10,
    "start_time": "2022-05-14T17:58:43.148Z"
   },
   {
    "duration": 0,
    "start_time": "2022-05-14T17:58:43.160Z"
   },
   {
    "duration": 0,
    "start_time": "2022-05-14T17:58:43.161Z"
   },
   {
    "duration": 6,
    "start_time": "2022-05-14T17:58:43.164Z"
   },
   {
    "duration": 0,
    "start_time": "2022-05-14T17:58:43.172Z"
   },
   {
    "duration": 0,
    "start_time": "2022-05-14T17:58:43.173Z"
   },
   {
    "duration": 8,
    "start_time": "2022-05-14T17:58:43.176Z"
   },
   {
    "duration": 0,
    "start_time": "2022-05-14T17:58:43.185Z"
   },
   {
    "duration": 0,
    "start_time": "2022-05-14T17:58:43.186Z"
   },
   {
    "duration": 10,
    "start_time": "2022-05-14T17:58:43.188Z"
   },
   {
    "duration": 0,
    "start_time": "2022-05-14T17:58:43.200Z"
   },
   {
    "duration": 0,
    "start_time": "2022-05-14T17:58:43.201Z"
   },
   {
    "duration": 6,
    "start_time": "2022-05-14T17:58:43.203Z"
   },
   {
    "duration": 0,
    "start_time": "2022-05-14T17:58:43.210Z"
   },
   {
    "duration": 6,
    "start_time": "2022-05-14T17:58:43.214Z"
   },
   {
    "duration": 0,
    "start_time": "2022-05-14T17:58:43.221Z"
   },
   {
    "duration": 0,
    "start_time": "2022-05-14T17:58:43.222Z"
   },
   {
    "duration": 7,
    "start_time": "2022-05-14T17:58:43.224Z"
   },
   {
    "duration": 0,
    "start_time": "2022-05-14T17:58:43.232Z"
   },
   {
    "duration": 7,
    "start_time": "2022-05-14T17:58:43.236Z"
   },
   {
    "duration": 934,
    "start_time": "2022-05-14T17:59:05.167Z"
   },
   {
    "duration": 427,
    "start_time": "2022-05-14T17:59:20.795Z"
   },
   {
    "duration": 5,
    "start_time": "2022-05-14T17:59:24.203Z"
   },
   {
    "duration": 837,
    "start_time": "2022-05-14T17:59:24.210Z"
   },
   {
    "duration": 212,
    "start_time": "2022-05-14T17:59:25.049Z"
   },
   {
    "duration": 398,
    "start_time": "2022-05-14T17:59:25.263Z"
   },
   {
    "duration": 602,
    "start_time": "2022-05-14T17:59:25.663Z"
   },
   {
    "duration": 112,
    "start_time": "2022-05-14T17:59:26.266Z"
   },
   {
    "duration": 206,
    "start_time": "2022-05-14T17:59:26.380Z"
   },
   {
    "duration": 36,
    "start_time": "2022-05-14T17:59:26.588Z"
   },
   {
    "duration": 93,
    "start_time": "2022-05-14T17:59:26.626Z"
   },
   {
    "duration": 125,
    "start_time": "2022-05-14T17:59:26.720Z"
   },
   {
    "duration": 932,
    "start_time": "2022-05-14T17:59:26.847Z"
   },
   {
    "duration": 22,
    "start_time": "2022-05-14T17:59:27.781Z"
   },
   {
    "duration": 24,
    "start_time": "2022-05-14T17:59:27.805Z"
   },
   {
    "duration": 104,
    "start_time": "2022-05-14T17:59:27.831Z"
   },
   {
    "duration": 7,
    "start_time": "2022-05-14T17:59:27.936Z"
   },
   {
    "duration": 6,
    "start_time": "2022-05-14T17:59:27.944Z"
   },
   {
    "duration": 49,
    "start_time": "2022-05-14T17:59:27.951Z"
   },
   {
    "duration": 76,
    "start_time": "2022-05-14T17:59:28.002Z"
   },
   {
    "duration": 112,
    "start_time": "2022-05-14T17:59:28.080Z"
   },
   {
    "duration": 31,
    "start_time": "2022-05-14T17:59:28.193Z"
   },
   {
    "duration": 105,
    "start_time": "2022-05-14T18:07:41.443Z"
   },
   {
    "duration": 42,
    "start_time": "2022-05-14T18:09:49.689Z"
   },
   {
    "duration": 111,
    "start_time": "2022-05-14T18:10:07.147Z"
   },
   {
    "duration": 202,
    "start_time": "2022-05-14T18:10:22.032Z"
   },
   {
    "duration": 9,
    "start_time": "2022-05-14T18:10:34.232Z"
   },
   {
    "duration": 102,
    "start_time": "2022-05-14T18:11:54.614Z"
   },
   {
    "duration": 182,
    "start_time": "2022-05-14T18:12:17.384Z"
   },
   {
    "duration": 134,
    "start_time": "2022-05-14T18:12:22.569Z"
   },
   {
    "duration": 11,
    "start_time": "2022-05-14T18:17:19.268Z"
   },
   {
    "duration": 244,
    "start_time": "2022-05-14T18:19:08.335Z"
   },
   {
    "duration": 28,
    "start_time": "2022-05-14T18:19:30.819Z"
   },
   {
    "duration": 25,
    "start_time": "2022-05-14T18:19:45.709Z"
   },
   {
    "duration": 23,
    "start_time": "2022-05-14T18:20:07.331Z"
   },
   {
    "duration": 25,
    "start_time": "2022-05-14T18:20:24.464Z"
   },
   {
    "duration": 22,
    "start_time": "2022-05-14T18:20:30.927Z"
   },
   {
    "duration": 31,
    "start_time": "2022-05-14T18:22:12.902Z"
   },
   {
    "duration": 38,
    "start_time": "2022-05-14T18:22:31.499Z"
   },
   {
    "duration": 23,
    "start_time": "2022-05-14T18:24:29.737Z"
   },
   {
    "duration": 34,
    "start_time": "2022-05-14T18:24:43.997Z"
   },
   {
    "duration": 23,
    "start_time": "2022-05-14T18:26:21.245Z"
   },
   {
    "duration": 28,
    "start_time": "2022-05-14T18:26:27.881Z"
   },
   {
    "duration": 3,
    "start_time": "2022-05-14T18:29:39.750Z"
   },
   {
    "duration": 27,
    "start_time": "2022-05-14T18:29:44.694Z"
   },
   {
    "duration": 25,
    "start_time": "2022-05-14T18:29:48.882Z"
   },
   {
    "duration": 23,
    "start_time": "2022-05-14T18:32:57.018Z"
   },
   {
    "duration": 116,
    "start_time": "2022-05-14T18:36:45.946Z"
   },
   {
    "duration": 155,
    "start_time": "2022-05-14T18:38:33.500Z"
   },
   {
    "duration": 28,
    "start_time": "2022-05-14T18:41:21.306Z"
   },
   {
    "duration": 59,
    "start_time": "2022-05-14T18:41:42.286Z"
   },
   {
    "duration": 270,
    "start_time": "2022-05-14T18:43:29.882Z"
   },
   {
    "duration": 221,
    "start_time": "2022-05-14T18:43:42.483Z"
   },
   {
    "duration": 128,
    "start_time": "2022-05-14T18:47:37.354Z"
   },
   {
    "duration": 199,
    "start_time": "2022-05-14T18:48:19.652Z"
   },
   {
    "duration": 3341,
    "start_time": "2022-05-14T18:48:37.752Z"
   },
   {
    "duration": 1733,
    "start_time": "2022-05-14T18:51:16.661Z"
   },
   {
    "duration": 1189,
    "start_time": "2022-05-14T18:51:18.396Z"
   },
   {
    "duration": 202,
    "start_time": "2022-05-14T18:51:19.587Z"
   },
   {
    "duration": 503,
    "start_time": "2022-05-14T18:51:19.791Z"
   },
   {
    "duration": 711,
    "start_time": "2022-05-14T18:51:20.296Z"
   },
   {
    "duration": 138,
    "start_time": "2022-05-14T18:51:21.011Z"
   },
   {
    "duration": 225,
    "start_time": "2022-05-14T18:51:21.150Z"
   },
   {
    "duration": 43,
    "start_time": "2022-05-14T18:51:21.377Z"
   },
   {
    "duration": 103,
    "start_time": "2022-05-14T18:51:21.422Z"
   },
   {
    "duration": 139,
    "start_time": "2022-05-14T18:51:21.528Z"
   },
   {
    "duration": 1055,
    "start_time": "2022-05-14T18:51:21.669Z"
   },
   {
    "duration": 30,
    "start_time": "2022-05-14T18:51:22.726Z"
   },
   {
    "duration": 27,
    "start_time": "2022-05-14T18:51:22.757Z"
   },
   {
    "duration": 93,
    "start_time": "2022-05-14T18:51:22.785Z"
   },
   {
    "duration": 25,
    "start_time": "2022-05-14T18:51:22.881Z"
   },
   {
    "duration": 9,
    "start_time": "2022-05-14T18:51:22.911Z"
   },
   {
    "duration": 45,
    "start_time": "2022-05-14T18:51:22.922Z"
   },
   {
    "duration": 89,
    "start_time": "2022-05-14T18:51:22.969Z"
   },
   {
    "duration": 128,
    "start_time": "2022-05-14T18:51:23.060Z"
   },
   {
    "duration": 153,
    "start_time": "2022-05-14T18:51:23.189Z"
   },
   {
    "duration": 137,
    "start_time": "2022-05-14T18:51:23.344Z"
   },
   {
    "duration": 301,
    "start_time": "2022-05-14T18:51:23.483Z"
   },
   {
    "duration": 45,
    "start_time": "2022-05-14T18:51:23.786Z"
   },
   {
    "duration": 47,
    "start_time": "2022-05-14T18:53:26.919Z"
   },
   {
    "duration": 75,
    "start_time": "2022-05-14T18:53:55.890Z"
   },
   {
    "duration": 78,
    "start_time": "2022-05-14T18:54:26.026Z"
   },
   {
    "duration": 56,
    "start_time": "2022-05-14T18:54:49.791Z"
   },
   {
    "duration": 3,
    "start_time": "2022-05-14T19:03:08.117Z"
   },
   {
    "duration": 3,
    "start_time": "2022-05-14T19:03:17.894Z"
   },
   {
    "duration": 29,
    "start_time": "2022-05-14T19:03:28.744Z"
   },
   {
    "duration": 4,
    "start_time": "2022-05-14T19:04:20.543Z"
   },
   {
    "duration": 24,
    "start_time": "2022-05-14T19:05:18.897Z"
   },
   {
    "duration": 111,
    "start_time": "2022-05-14T19:07:26.950Z"
   },
   {
    "duration": 42,
    "start_time": "2022-05-14T19:07:34.279Z"
   },
   {
    "duration": 5,
    "start_time": "2022-05-14T19:12:37.805Z"
   },
   {
    "duration": 909,
    "start_time": "2022-05-14T19:12:37.811Z"
   },
   {
    "duration": 185,
    "start_time": "2022-05-14T19:12:38.722Z"
   },
   {
    "duration": 476,
    "start_time": "2022-05-14T19:12:38.910Z"
   },
   {
    "duration": 666,
    "start_time": "2022-05-14T19:12:39.399Z"
   },
   {
    "duration": 137,
    "start_time": "2022-05-14T19:12:40.068Z"
   },
   {
    "duration": 224,
    "start_time": "2022-05-14T19:12:40.207Z"
   },
   {
    "duration": 33,
    "start_time": "2022-05-14T19:12:40.432Z"
   },
   {
    "duration": 115,
    "start_time": "2022-05-14T19:12:40.466Z"
   },
   {
    "duration": 164,
    "start_time": "2022-05-14T19:12:40.583Z"
   },
   {
    "duration": 1396,
    "start_time": "2022-05-14T19:12:40.750Z"
   },
   {
    "duration": 19,
    "start_time": "2022-05-14T19:12:42.148Z"
   },
   {
    "duration": 61,
    "start_time": "2022-05-14T19:12:42.170Z"
   },
   {
    "duration": 98,
    "start_time": "2022-05-14T19:12:42.234Z"
   },
   {
    "duration": 10,
    "start_time": "2022-05-14T19:12:42.334Z"
   },
   {
    "duration": 8,
    "start_time": "2022-05-14T19:12:42.346Z"
   },
   {
    "duration": 75,
    "start_time": "2022-05-14T19:12:42.356Z"
   },
   {
    "duration": 163,
    "start_time": "2022-05-14T19:12:42.433Z"
   },
   {
    "duration": 213,
    "start_time": "2022-05-14T19:12:42.601Z"
   },
   {
    "duration": 149,
    "start_time": "2022-05-14T19:12:42.816Z"
   },
   {
    "duration": 137,
    "start_time": "2022-05-14T19:12:42.966Z"
   },
   {
    "duration": 335,
    "start_time": "2022-05-14T19:12:43.105Z"
   },
   {
    "duration": 26,
    "start_time": "2022-05-14T19:12:43.442Z"
   },
   {
    "duration": 122,
    "start_time": "2022-05-14T19:12:43.470Z"
   },
   {
    "duration": 67,
    "start_time": "2022-05-14T19:12:43.600Z"
   },
   {
    "duration": 1158,
    "start_time": "2022-05-14T19:13:59.100Z"
   },
   {
    "duration": 964,
    "start_time": "2022-05-14T19:14:00.261Z"
   },
   {
    "duration": 199,
    "start_time": "2022-05-14T19:14:01.227Z"
   },
   {
    "duration": 615,
    "start_time": "2022-05-14T19:14:01.429Z"
   },
   {
    "duration": 725,
    "start_time": "2022-05-14T19:14:02.045Z"
   },
   {
    "duration": 137,
    "start_time": "2022-05-14T19:14:02.771Z"
   },
   {
    "duration": 225,
    "start_time": "2022-05-14T19:14:02.910Z"
   },
   {
    "duration": 35,
    "start_time": "2022-05-14T19:14:03.137Z"
   },
   {
    "duration": 128,
    "start_time": "2022-05-14T19:14:03.174Z"
   },
   {
    "duration": 135,
    "start_time": "2022-05-14T19:14:03.306Z"
   },
   {
    "duration": 657,
    "start_time": "2022-05-14T19:14:03.443Z"
   },
   {
    "duration": 0,
    "start_time": "2022-05-14T19:14:04.102Z"
   },
   {
    "duration": 0,
    "start_time": "2022-05-14T19:14:04.103Z"
   },
   {
    "duration": 0,
    "start_time": "2022-05-14T19:14:04.104Z"
   },
   {
    "duration": 0,
    "start_time": "2022-05-14T19:14:04.106Z"
   },
   {
    "duration": 0,
    "start_time": "2022-05-14T19:14:04.108Z"
   },
   {
    "duration": 0,
    "start_time": "2022-05-14T19:14:04.111Z"
   },
   {
    "duration": 0,
    "start_time": "2022-05-14T19:14:04.112Z"
   },
   {
    "duration": 0,
    "start_time": "2022-05-14T19:14:04.114Z"
   },
   {
    "duration": 0,
    "start_time": "2022-05-14T19:14:04.116Z"
   },
   {
    "duration": 0,
    "start_time": "2022-05-14T19:14:04.118Z"
   },
   {
    "duration": 0,
    "start_time": "2022-05-14T19:14:04.119Z"
   },
   {
    "duration": 0,
    "start_time": "2022-05-14T19:14:04.122Z"
   },
   {
    "duration": 0,
    "start_time": "2022-05-14T19:14:04.123Z"
   },
   {
    "duration": 0,
    "start_time": "2022-05-14T19:14:04.124Z"
   },
   {
    "duration": 1388,
    "start_time": "2022-05-14T19:14:37.105Z"
   },
   {
    "duration": 976,
    "start_time": "2022-05-14T19:14:38.495Z"
   },
   {
    "duration": 183,
    "start_time": "2022-05-14T19:14:39.473Z"
   },
   {
    "duration": 548,
    "start_time": "2022-05-14T19:14:39.658Z"
   },
   {
    "duration": 661,
    "start_time": "2022-05-14T19:14:40.208Z"
   },
   {
    "duration": 129,
    "start_time": "2022-05-14T19:14:40.871Z"
   },
   {
    "duration": 203,
    "start_time": "2022-05-14T19:14:41.001Z"
   },
   {
    "duration": 34,
    "start_time": "2022-05-14T19:14:41.206Z"
   },
   {
    "duration": 103,
    "start_time": "2022-05-14T19:14:41.242Z"
   },
   {
    "duration": 129,
    "start_time": "2022-05-14T19:14:41.347Z"
   },
   {
    "duration": 1069,
    "start_time": "2022-05-14T19:14:41.478Z"
   },
   {
    "duration": 14,
    "start_time": "2022-05-14T19:14:42.549Z"
   },
   {
    "duration": 45,
    "start_time": "2022-05-14T19:14:42.565Z"
   },
   {
    "duration": 92,
    "start_time": "2022-05-14T19:14:42.612Z"
   },
   {
    "duration": 7,
    "start_time": "2022-05-14T19:14:42.706Z"
   },
   {
    "duration": 6,
    "start_time": "2022-05-14T19:14:42.714Z"
   },
   {
    "duration": 31,
    "start_time": "2022-05-14T19:14:42.721Z"
   },
   {
    "duration": 107,
    "start_time": "2022-05-14T19:14:42.753Z"
   },
   {
    "duration": 120,
    "start_time": "2022-05-14T19:14:42.862Z"
   },
   {
    "duration": 135,
    "start_time": "2022-05-14T19:14:42.983Z"
   },
   {
    "duration": 123,
    "start_time": "2022-05-14T19:14:43.119Z"
   },
   {
    "duration": 271,
    "start_time": "2022-05-14T19:14:43.244Z"
   },
   {
    "duration": 26,
    "start_time": "2022-05-14T19:14:43.517Z"
   },
   {
    "duration": 117,
    "start_time": "2022-05-14T19:14:43.545Z"
   },
   {
    "duration": 55,
    "start_time": "2022-05-14T19:14:43.664Z"
   },
   {
    "duration": 155,
    "start_time": "2022-05-14T19:19:21.824Z"
   },
   {
    "duration": 29,
    "start_time": "2022-05-14T19:19:28.415Z"
   },
   {
    "duration": 629,
    "start_time": "2022-05-14T19:21:32.693Z"
   },
   {
    "duration": 21,
    "start_time": "2022-05-14T19:26:02.514Z"
   },
   {
    "duration": 13,
    "start_time": "2022-05-14T19:27:54.348Z"
   },
   {
    "duration": 10,
    "start_time": "2022-05-14T19:28:23.576Z"
   },
   {
    "duration": 9,
    "start_time": "2022-05-14T19:28:58.731Z"
   },
   {
    "duration": 7,
    "start_time": "2022-05-14T19:29:17.616Z"
   },
   {
    "duration": 9,
    "start_time": "2022-05-14T19:29:20.735Z"
   },
   {
    "duration": 18,
    "start_time": "2022-05-14T19:29:42.515Z"
   },
   {
    "duration": 18,
    "start_time": "2022-05-14T19:40:09.854Z"
   },
   {
    "duration": 76,
    "start_time": "2022-05-14T19:46:13.172Z"
   },
   {
    "duration": 105,
    "start_time": "2022-05-14T19:47:15.246Z"
   },
   {
    "duration": 83,
    "start_time": "2022-05-14T19:47:31.733Z"
   },
   {
    "duration": 152,
    "start_time": "2022-05-14T19:55:02.181Z"
   },
   {
    "duration": 146,
    "start_time": "2022-05-14T19:55:07.088Z"
   },
   {
    "duration": 80,
    "start_time": "2022-05-14T19:55:30.526Z"
   },
   {
    "duration": 75,
    "start_time": "2022-05-14T19:55:41.749Z"
   },
   {
    "duration": 5,
    "start_time": "2022-05-14T19:55:56.179Z"
   },
   {
    "duration": 59,
    "start_time": "2022-05-14T19:56:07.238Z"
   },
   {
    "duration": 4,
    "start_time": "2022-05-14T20:00:25.313Z"
   },
   {
    "duration": 1235,
    "start_time": "2022-05-14T20:01:16.639Z"
   },
   {
    "duration": 66,
    "start_time": "2022-05-14T20:01:32.850Z"
   },
   {
    "duration": 56,
    "start_time": "2022-05-14T20:02:12.388Z"
   },
   {
    "duration": 64,
    "start_time": "2022-05-14T20:02:17.902Z"
   },
   {
    "duration": 61,
    "start_time": "2022-05-14T20:02:26.171Z"
   },
   {
    "duration": 1415,
    "start_time": "2022-05-14T20:02:41.643Z"
   },
   {
    "duration": 908,
    "start_time": "2022-05-14T20:02:43.060Z"
   },
   {
    "duration": 166,
    "start_time": "2022-05-14T20:02:43.969Z"
   },
   {
    "duration": 472,
    "start_time": "2022-05-14T20:02:44.137Z"
   },
   {
    "duration": 712,
    "start_time": "2022-05-14T20:02:44.611Z"
   },
   {
    "duration": 128,
    "start_time": "2022-05-14T20:02:45.325Z"
   },
   {
    "duration": 211,
    "start_time": "2022-05-14T20:02:45.455Z"
   },
   {
    "duration": 44,
    "start_time": "2022-05-14T20:02:45.668Z"
   },
   {
    "duration": 97,
    "start_time": "2022-05-14T20:02:45.715Z"
   },
   {
    "duration": 142,
    "start_time": "2022-05-14T20:02:45.816Z"
   },
   {
    "duration": 996,
    "start_time": "2022-05-14T20:02:45.959Z"
   },
   {
    "duration": 16,
    "start_time": "2022-05-14T20:02:46.957Z"
   },
   {
    "duration": 54,
    "start_time": "2022-05-14T20:02:46.974Z"
   },
   {
    "duration": 81,
    "start_time": "2022-05-14T20:02:47.030Z"
   },
   {
    "duration": 10,
    "start_time": "2022-05-14T20:02:47.113Z"
   },
   {
    "duration": 7,
    "start_time": "2022-05-14T20:02:47.125Z"
   },
   {
    "duration": 30,
    "start_time": "2022-05-14T20:02:47.134Z"
   },
   {
    "duration": 117,
    "start_time": "2022-05-14T20:02:47.166Z"
   },
   {
    "duration": 132,
    "start_time": "2022-05-14T20:02:47.285Z"
   },
   {
    "duration": 142,
    "start_time": "2022-05-14T20:02:47.419Z"
   },
   {
    "duration": 143,
    "start_time": "2022-05-14T20:02:47.562Z"
   },
   {
    "duration": 294,
    "start_time": "2022-05-14T20:02:47.707Z"
   },
   {
    "duration": 33,
    "start_time": "2022-05-14T20:02:48.003Z"
   },
   {
    "duration": 147,
    "start_time": "2022-05-14T20:02:48.038Z"
   },
   {
    "duration": 611,
    "start_time": "2022-05-14T20:02:48.186Z"
   },
   {
    "duration": 23,
    "start_time": "2022-05-14T20:02:48.800Z"
   },
   {
    "duration": 105,
    "start_time": "2022-05-14T20:02:48.825Z"
   },
   {
    "duration": 182,
    "start_time": "2022-05-14T20:02:48.934Z"
   },
   {
    "duration": 1487,
    "start_time": "2022-05-14T20:04:07.909Z"
   },
   {
    "duration": 884,
    "start_time": "2022-05-14T20:04:09.398Z"
   },
   {
    "duration": 196,
    "start_time": "2022-05-14T20:04:10.283Z"
   },
   {
    "duration": 556,
    "start_time": "2022-05-14T20:04:10.481Z"
   },
   {
    "duration": 765,
    "start_time": "2022-05-14T20:04:11.039Z"
   },
   {
    "duration": 220,
    "start_time": "2022-05-14T20:04:11.805Z"
   },
   {
    "duration": 303,
    "start_time": "2022-05-14T20:04:12.027Z"
   },
   {
    "duration": 44,
    "start_time": "2022-05-14T20:04:12.332Z"
   },
   {
    "duration": 281,
    "start_time": "2022-05-14T20:04:12.378Z"
   },
   {
    "duration": 203,
    "start_time": "2022-05-14T20:04:12.663Z"
   },
   {
    "duration": 1458,
    "start_time": "2022-05-14T20:04:12.867Z"
   },
   {
    "duration": 47,
    "start_time": "2022-05-14T20:04:14.328Z"
   },
   {
    "duration": 51,
    "start_time": "2022-05-14T20:04:14.377Z"
   },
   {
    "duration": 126,
    "start_time": "2022-05-14T20:04:14.430Z"
   },
   {
    "duration": 10,
    "start_time": "2022-05-14T20:04:14.558Z"
   },
   {
    "duration": 8,
    "start_time": "2022-05-14T20:04:14.570Z"
   },
   {
    "duration": 39,
    "start_time": "2022-05-14T20:04:14.599Z"
   },
   {
    "duration": 160,
    "start_time": "2022-05-14T20:04:14.641Z"
   },
   {
    "duration": 158,
    "start_time": "2022-05-14T20:04:14.803Z"
   },
   {
    "duration": 158,
    "start_time": "2022-05-14T20:04:14.963Z"
   },
   {
    "duration": 119,
    "start_time": "2022-05-14T20:04:15.123Z"
   },
   {
    "duration": 283,
    "start_time": "2022-05-14T20:04:15.243Z"
   },
   {
    "duration": 26,
    "start_time": "2022-05-14T20:04:15.528Z"
   },
   {
    "duration": 153,
    "start_time": "2022-05-14T20:04:15.555Z"
   },
   {
    "duration": 613,
    "start_time": "2022-05-14T20:04:15.710Z"
   },
   {
    "duration": 19,
    "start_time": "2022-05-14T20:04:16.325Z"
   },
   {
    "duration": 67,
    "start_time": "2022-05-14T20:04:16.346Z"
   },
   {
    "duration": 272,
    "start_time": "2022-05-14T20:04:16.417Z"
   },
   {
    "duration": 79,
    "start_time": "2022-05-14T20:05:34.430Z"
   },
   {
    "duration": 31,
    "start_time": "2022-05-14T20:21:16.212Z"
   },
   {
    "duration": 36,
    "start_time": "2022-05-14T20:22:59.984Z"
   },
   {
    "duration": 47,
    "start_time": "2022-05-14T20:23:08.317Z"
   },
   {
    "duration": 413,
    "start_time": "2022-05-14T20:23:35.533Z"
   },
   {
    "duration": 1528,
    "start_time": "2022-05-14T20:23:56.049Z"
   },
   {
    "duration": 949,
    "start_time": "2022-05-14T20:23:57.579Z"
   },
   {
    "duration": 269,
    "start_time": "2022-05-14T20:23:58.531Z"
   },
   {
    "duration": 481,
    "start_time": "2022-05-14T20:23:58.803Z"
   },
   {
    "duration": 676,
    "start_time": "2022-05-14T20:23:59.286Z"
   },
   {
    "duration": 139,
    "start_time": "2022-05-14T20:23:59.963Z"
   },
   {
    "duration": 231,
    "start_time": "2022-05-14T20:24:00.103Z"
   },
   {
    "duration": 32,
    "start_time": "2022-05-14T20:24:00.336Z"
   },
   {
    "duration": 107,
    "start_time": "2022-05-14T20:24:00.369Z"
   },
   {
    "duration": 155,
    "start_time": "2022-05-14T20:24:00.478Z"
   },
   {
    "duration": 1110,
    "start_time": "2022-05-14T20:24:00.634Z"
   },
   {
    "duration": 17,
    "start_time": "2022-05-14T20:24:01.746Z"
   },
   {
    "duration": 49,
    "start_time": "2022-05-14T20:24:01.765Z"
   },
   {
    "duration": 89,
    "start_time": "2022-05-14T20:24:01.816Z"
   },
   {
    "duration": 7,
    "start_time": "2022-05-14T20:24:01.907Z"
   },
   {
    "duration": 9,
    "start_time": "2022-05-14T20:24:01.916Z"
   },
   {
    "duration": 42,
    "start_time": "2022-05-14T20:24:01.927Z"
   },
   {
    "duration": 107,
    "start_time": "2022-05-14T20:24:01.971Z"
   },
   {
    "duration": 137,
    "start_time": "2022-05-14T20:24:02.080Z"
   },
   {
    "duration": 193,
    "start_time": "2022-05-14T20:24:02.219Z"
   },
   {
    "duration": 146,
    "start_time": "2022-05-14T20:24:02.414Z"
   },
   {
    "duration": 569,
    "start_time": "2022-05-14T20:24:02.562Z"
   },
   {
    "duration": 39,
    "start_time": "2022-05-14T20:24:03.133Z"
   },
   {
    "duration": 208,
    "start_time": "2022-05-14T20:24:03.174Z"
   },
   {
    "duration": 68,
    "start_time": "2022-05-14T20:24:03.384Z"
   },
   {
    "duration": 812,
    "start_time": "2022-05-14T20:24:03.454Z"
   },
   {
    "duration": 104,
    "start_time": "2022-05-14T20:24:04.268Z"
   },
   {
    "duration": 0,
    "start_time": "2022-05-14T20:24:04.374Z"
   },
   {
    "duration": 0,
    "start_time": "2022-05-14T20:24:04.375Z"
   },
   {
    "duration": 0,
    "start_time": "2022-05-14T20:24:04.376Z"
   },
   {
    "duration": 12,
    "start_time": "2022-05-14T20:31:44.651Z"
   },
   {
    "duration": 25,
    "start_time": "2022-05-14T20:31:51.794Z"
   },
   {
    "duration": 72,
    "start_time": "2022-05-14T20:32:32.165Z"
   },
   {
    "duration": 397,
    "start_time": "2022-05-14T20:32:35.006Z"
   },
   {
    "duration": 74,
    "start_time": "2022-05-14T20:32:37.052Z"
   },
   {
    "duration": 26,
    "start_time": "2022-05-14T20:33:01.494Z"
   },
   {
    "duration": 56,
    "start_time": "2022-05-14T20:39:13.153Z"
   },
   {
    "duration": 64,
    "start_time": "2022-05-14T20:39:48.670Z"
   },
   {
    "duration": 4,
    "start_time": "2022-05-14T20:40:12.555Z"
   },
   {
    "duration": 105,
    "start_time": "2022-05-14T20:40:20.235Z"
   },
   {
    "duration": 93,
    "start_time": "2022-05-14T20:42:40.196Z"
   },
   {
    "duration": 98,
    "start_time": "2022-05-14T20:42:50.455Z"
   },
   {
    "duration": 74,
    "start_time": "2022-05-14T20:43:11.008Z"
   },
   {
    "duration": 70,
    "start_time": "2022-05-14T20:43:13.894Z"
   },
   {
    "duration": 1509,
    "start_time": "2022-05-14T20:43:31.178Z"
   },
   {
    "duration": 944,
    "start_time": "2022-05-14T20:43:32.690Z"
   },
   {
    "duration": 187,
    "start_time": "2022-05-14T20:43:33.636Z"
   },
   {
    "duration": 457,
    "start_time": "2022-05-14T20:43:33.826Z"
   },
   {
    "duration": 673,
    "start_time": "2022-05-14T20:43:34.285Z"
   },
   {
    "duration": 125,
    "start_time": "2022-05-14T20:43:34.960Z"
   },
   {
    "duration": 207,
    "start_time": "2022-05-14T20:43:35.087Z"
   },
   {
    "duration": 30,
    "start_time": "2022-05-14T20:43:35.296Z"
   },
   {
    "duration": 100,
    "start_time": "2022-05-14T20:43:35.328Z"
   },
   {
    "duration": 125,
    "start_time": "2022-05-14T20:43:35.430Z"
   },
   {
    "duration": 965,
    "start_time": "2022-05-14T20:43:35.557Z"
   },
   {
    "duration": 44,
    "start_time": "2022-05-14T20:43:36.524Z"
   },
   {
    "duration": 26,
    "start_time": "2022-05-14T20:43:36.570Z"
   },
   {
    "duration": 81,
    "start_time": "2022-05-14T20:43:36.598Z"
   },
   {
    "duration": 7,
    "start_time": "2022-05-14T20:43:36.681Z"
   },
   {
    "duration": 7,
    "start_time": "2022-05-14T20:43:36.701Z"
   },
   {
    "duration": 31,
    "start_time": "2022-05-14T20:43:36.709Z"
   },
   {
    "duration": 119,
    "start_time": "2022-05-14T20:43:36.742Z"
   },
   {
    "duration": 117,
    "start_time": "2022-05-14T20:43:36.863Z"
   },
   {
    "duration": 150,
    "start_time": "2022-05-14T20:43:36.982Z"
   },
   {
    "duration": 129,
    "start_time": "2022-05-14T20:43:37.134Z"
   },
   {
    "duration": 292,
    "start_time": "2022-05-14T20:43:37.264Z"
   },
   {
    "duration": 51,
    "start_time": "2022-05-14T20:43:37.558Z"
   },
   {
    "duration": 233,
    "start_time": "2022-05-14T20:43:37.611Z"
   },
   {
    "duration": 68,
    "start_time": "2022-05-14T20:43:37.846Z"
   },
   {
    "duration": 793,
    "start_time": "2022-05-14T20:43:37.916Z"
   },
   {
    "duration": 43,
    "start_time": "2022-05-14T20:43:38.711Z"
   },
   {
    "duration": 87,
    "start_time": "2022-05-14T20:43:38.758Z"
   },
   {
    "duration": 267,
    "start_time": "2022-05-14T20:43:38.847Z"
   },
   {
    "duration": 93,
    "start_time": "2022-05-14T20:43:39.116Z"
   },
   {
    "duration": 98,
    "start_time": "2022-05-14T20:50:06.845Z"
   },
   {
    "duration": 9,
    "start_time": "2022-05-14T20:50:57.828Z"
   },
   {
    "duration": 9,
    "start_time": "2022-05-14T20:51:14.795Z"
   },
   {
    "duration": 173,
    "start_time": "2022-05-14T20:51:55.325Z"
   },
   {
    "duration": 213,
    "start_time": "2022-05-14T20:52:04.621Z"
   },
   {
    "duration": 11,
    "start_time": "2022-05-14T20:52:14.371Z"
   },
   {
    "duration": 11,
    "start_time": "2022-05-14T20:55:26.676Z"
   },
   {
    "duration": 11,
    "start_time": "2022-05-14T20:55:37.849Z"
   },
   {
    "duration": 1502,
    "start_time": "2022-05-14T20:55:44.731Z"
   },
   {
    "duration": 0,
    "start_time": "2022-05-14T20:55:46.236Z"
   },
   {
    "duration": 0,
    "start_time": "2022-05-14T20:55:46.237Z"
   },
   {
    "duration": 0,
    "start_time": "2022-05-14T20:55:46.238Z"
   },
   {
    "duration": 0,
    "start_time": "2022-05-14T20:55:46.240Z"
   },
   {
    "duration": 0,
    "start_time": "2022-05-14T20:55:46.241Z"
   },
   {
    "duration": 0,
    "start_time": "2022-05-14T20:55:46.242Z"
   },
   {
    "duration": 0,
    "start_time": "2022-05-14T20:55:46.244Z"
   },
   {
    "duration": 0,
    "start_time": "2022-05-14T20:55:46.245Z"
   },
   {
    "duration": 0,
    "start_time": "2022-05-14T20:55:46.246Z"
   },
   {
    "duration": 0,
    "start_time": "2022-05-14T20:55:46.247Z"
   },
   {
    "duration": 0,
    "start_time": "2022-05-14T20:55:46.248Z"
   },
   {
    "duration": 0,
    "start_time": "2022-05-14T20:55:46.250Z"
   },
   {
    "duration": 0,
    "start_time": "2022-05-14T20:55:46.251Z"
   },
   {
    "duration": 0,
    "start_time": "2022-05-14T20:55:46.252Z"
   },
   {
    "duration": 0,
    "start_time": "2022-05-14T20:55:46.254Z"
   },
   {
    "duration": 1,
    "start_time": "2022-05-14T20:55:46.254Z"
   },
   {
    "duration": 0,
    "start_time": "2022-05-14T20:55:46.256Z"
   },
   {
    "duration": 0,
    "start_time": "2022-05-14T20:55:46.257Z"
   },
   {
    "duration": 0,
    "start_time": "2022-05-14T20:55:46.258Z"
   },
   {
    "duration": 0,
    "start_time": "2022-05-14T20:55:46.259Z"
   },
   {
    "duration": 0,
    "start_time": "2022-05-14T20:55:46.261Z"
   },
   {
    "duration": 0,
    "start_time": "2022-05-14T20:55:46.262Z"
   },
   {
    "duration": 0,
    "start_time": "2022-05-14T20:55:46.263Z"
   },
   {
    "duration": 0,
    "start_time": "2022-05-14T20:55:46.300Z"
   },
   {
    "duration": 0,
    "start_time": "2022-05-14T20:55:46.301Z"
   },
   {
    "duration": 0,
    "start_time": "2022-05-14T20:55:46.302Z"
   },
   {
    "duration": 0,
    "start_time": "2022-05-14T20:55:46.304Z"
   },
   {
    "duration": 0,
    "start_time": "2022-05-14T20:55:46.305Z"
   },
   {
    "duration": 0,
    "start_time": "2022-05-14T20:55:46.306Z"
   },
   {
    "duration": 51,
    "start_time": "2022-05-14T20:56:02.055Z"
   },
   {
    "duration": 17,
    "start_time": "2022-05-14T20:56:36.179Z"
   },
   {
    "duration": 3,
    "start_time": "2022-05-14T20:56:40.381Z"
   },
   {
    "duration": 845,
    "start_time": "2022-05-14T20:56:40.387Z"
   },
   {
    "duration": 179,
    "start_time": "2022-05-14T20:56:41.234Z"
   },
   {
    "duration": 425,
    "start_time": "2022-05-14T20:56:41.414Z"
   },
   {
    "duration": 640,
    "start_time": "2022-05-14T20:56:41.842Z"
   },
   {
    "duration": 120,
    "start_time": "2022-05-14T20:56:42.483Z"
   },
   {
    "duration": 195,
    "start_time": "2022-05-14T20:56:42.605Z"
   },
   {
    "duration": 30,
    "start_time": "2022-05-14T20:56:42.802Z"
   },
   {
    "duration": 102,
    "start_time": "2022-05-14T20:56:42.833Z"
   },
   {
    "duration": 133,
    "start_time": "2022-05-14T20:56:42.936Z"
   },
   {
    "duration": 944,
    "start_time": "2022-05-14T20:56:43.071Z"
   },
   {
    "duration": 34,
    "start_time": "2022-05-14T20:56:44.017Z"
   },
   {
    "duration": 26,
    "start_time": "2022-05-14T20:56:44.053Z"
   },
   {
    "duration": 83,
    "start_time": "2022-05-14T20:56:44.080Z"
   },
   {
    "duration": 8,
    "start_time": "2022-05-14T20:56:44.165Z"
   },
   {
    "duration": 6,
    "start_time": "2022-05-14T20:56:44.175Z"
   },
   {
    "duration": 47,
    "start_time": "2022-05-14T20:56:44.183Z"
   },
   {
    "duration": 98,
    "start_time": "2022-05-14T20:56:44.232Z"
   },
   {
    "duration": 115,
    "start_time": "2022-05-14T20:56:44.332Z"
   },
   {
    "duration": 118,
    "start_time": "2022-05-14T20:56:44.449Z"
   },
   {
    "duration": 132,
    "start_time": "2022-05-14T20:56:44.569Z"
   },
   {
    "duration": 274,
    "start_time": "2022-05-14T20:56:44.703Z"
   },
   {
    "duration": 34,
    "start_time": "2022-05-14T20:56:44.978Z"
   },
   {
    "duration": 142,
    "start_time": "2022-05-14T20:56:45.014Z"
   },
   {
    "duration": 49,
    "start_time": "2022-05-14T20:56:45.158Z"
   },
   {
    "duration": 412,
    "start_time": "2022-05-14T20:56:45.209Z"
   },
   {
    "duration": 37,
    "start_time": "2022-05-14T20:56:45.623Z"
   },
   {
    "duration": 74,
    "start_time": "2022-05-14T20:56:45.662Z"
   },
   {
    "duration": 235,
    "start_time": "2022-05-14T20:56:45.739Z"
   },
   {
    "duration": 125,
    "start_time": "2022-05-14T20:56:45.976Z"
   },
   {
    "duration": 41,
    "start_time": "2022-05-14T21:11:10.228Z"
   },
   {
    "duration": 54,
    "start_time": "2022-05-14T21:11:14.058Z"
   },
   {
    "duration": 53,
    "start_time": "2022-05-14T21:11:22.530Z"
   },
   {
    "duration": 43,
    "start_time": "2022-05-14T21:11:32.741Z"
   },
   {
    "duration": 26,
    "start_time": "2022-05-14T21:12:13.363Z"
   },
   {
    "duration": 31,
    "start_time": "2022-05-14T21:12:32.699Z"
   },
   {
    "duration": 40,
    "start_time": "2022-05-14T21:12:41.690Z"
   },
   {
    "duration": 38,
    "start_time": "2022-05-14T21:13:05.868Z"
   },
   {
    "duration": 36,
    "start_time": "2022-05-14T21:13:58.223Z"
   },
   {
    "duration": 1838,
    "start_time": "2022-05-14T21:14:15.820Z"
   },
   {
    "duration": 1344,
    "start_time": "2022-05-14T21:14:17.660Z"
   },
   {
    "duration": 230,
    "start_time": "2022-05-14T21:14:19.006Z"
   },
   {
    "duration": 687,
    "start_time": "2022-05-14T21:14:19.238Z"
   },
   {
    "duration": 1007,
    "start_time": "2022-05-14T21:14:19.926Z"
   },
   {
    "duration": 221,
    "start_time": "2022-05-14T21:14:20.935Z"
   },
   {
    "duration": 359,
    "start_time": "2022-05-14T21:14:21.158Z"
   },
   {
    "duration": 40,
    "start_time": "2022-05-14T21:14:21.519Z"
   },
   {
    "duration": 180,
    "start_time": "2022-05-14T21:14:21.561Z"
   },
   {
    "duration": 210,
    "start_time": "2022-05-14T21:14:21.745Z"
   },
   {
    "duration": 1401,
    "start_time": "2022-05-14T21:14:21.957Z"
   },
   {
    "duration": 21,
    "start_time": "2022-05-14T21:14:23.360Z"
   },
   {
    "duration": 47,
    "start_time": "2022-05-14T21:14:23.382Z"
   },
   {
    "duration": 150,
    "start_time": "2022-05-14T21:14:23.431Z"
   },
   {
    "duration": 22,
    "start_time": "2022-05-14T21:14:23.583Z"
   },
   {
    "duration": 7,
    "start_time": "2022-05-14T21:14:23.607Z"
   },
   {
    "duration": 39,
    "start_time": "2022-05-14T21:14:23.615Z"
   },
   {
    "duration": 162,
    "start_time": "2022-05-14T21:14:23.656Z"
   },
   {
    "duration": 180,
    "start_time": "2022-05-14T21:14:23.820Z"
   },
   {
    "duration": 214,
    "start_time": "2022-05-14T21:14:24.002Z"
   },
   {
    "duration": 192,
    "start_time": "2022-05-14T21:14:24.218Z"
   },
   {
    "duration": 497,
    "start_time": "2022-05-14T21:14:24.412Z"
   },
   {
    "duration": 40,
    "start_time": "2022-05-14T21:14:24.911Z"
   },
   {
    "duration": 238,
    "start_time": "2022-05-14T21:14:24.953Z"
   },
   {
    "duration": 50,
    "start_time": "2022-05-14T21:14:25.200Z"
   },
   {
    "duration": 759,
    "start_time": "2022-05-14T21:14:25.252Z"
   },
   {
    "duration": 41,
    "start_time": "2022-05-14T21:14:26.013Z"
   },
   {
    "duration": 101,
    "start_time": "2022-05-14T21:14:26.058Z"
   },
   {
    "duration": 354,
    "start_time": "2022-05-14T21:14:26.161Z"
   },
   {
    "duration": 190,
    "start_time": "2022-05-14T21:14:26.517Z"
   },
   {
    "duration": 66,
    "start_time": "2022-05-14T21:20:24.780Z"
   },
   {
    "duration": 267,
    "start_time": "2022-05-14T21:20:29.156Z"
   },
   {
    "duration": 57,
    "start_time": "2022-05-14T21:20:31.290Z"
   },
   {
    "duration": 1610,
    "start_time": "2022-05-14T21:20:38.185Z"
   },
   {
    "duration": 900,
    "start_time": "2022-05-14T21:20:39.797Z"
   },
   {
    "duration": 191,
    "start_time": "2022-05-14T21:20:40.700Z"
   },
   {
    "duration": 473,
    "start_time": "2022-05-14T21:20:40.893Z"
   },
   {
    "duration": 695,
    "start_time": "2022-05-14T21:20:41.368Z"
   },
   {
    "duration": 136,
    "start_time": "2022-05-14T21:20:42.065Z"
   },
   {
    "duration": 206,
    "start_time": "2022-05-14T21:20:42.203Z"
   },
   {
    "duration": 34,
    "start_time": "2022-05-14T21:20:42.411Z"
   },
   {
    "duration": 100,
    "start_time": "2022-05-14T21:20:42.447Z"
   },
   {
    "duration": 129,
    "start_time": "2022-05-14T21:20:42.550Z"
   },
   {
    "duration": 950,
    "start_time": "2022-05-14T21:20:42.680Z"
   },
   {
    "duration": 33,
    "start_time": "2022-05-14T21:20:43.631Z"
   },
   {
    "duration": 29,
    "start_time": "2022-05-14T21:20:43.665Z"
   },
   {
    "duration": 77,
    "start_time": "2022-05-14T21:20:43.696Z"
   },
   {
    "duration": 28,
    "start_time": "2022-05-14T21:20:43.775Z"
   },
   {
    "duration": 7,
    "start_time": "2022-05-14T21:20:43.805Z"
   },
   {
    "duration": 34,
    "start_time": "2022-05-14T21:20:43.813Z"
   },
   {
    "duration": 107,
    "start_time": "2022-05-14T21:20:43.849Z"
   },
   {
    "duration": 107,
    "start_time": "2022-05-14T21:20:43.957Z"
   },
   {
    "duration": 138,
    "start_time": "2022-05-14T21:20:44.066Z"
   },
   {
    "duration": 118,
    "start_time": "2022-05-14T21:20:44.205Z"
   },
   {
    "duration": 268,
    "start_time": "2022-05-14T21:20:44.324Z"
   },
   {
    "duration": 25,
    "start_time": "2022-05-14T21:20:44.594Z"
   },
   {
    "duration": 144,
    "start_time": "2022-05-14T21:20:44.621Z"
   },
   {
    "duration": 50,
    "start_time": "2022-05-14T21:20:44.767Z"
   },
   {
    "duration": 443,
    "start_time": "2022-05-14T21:20:44.818Z"
   },
   {
    "duration": 63,
    "start_time": "2022-05-14T21:20:45.262Z"
   },
   {
    "duration": 47,
    "start_time": "2022-05-14T21:20:45.327Z"
   },
   {
    "duration": 211,
    "start_time": "2022-05-14T21:20:45.375Z"
   },
   {
    "duration": 116,
    "start_time": "2022-05-14T21:20:45.588Z"
   },
   {
    "duration": 40,
    "start_time": "2022-05-14T21:21:03.257Z"
   },
   {
    "duration": 203,
    "start_time": "2022-05-14T21:21:06.376Z"
   },
   {
    "duration": 97,
    "start_time": "2022-05-14T21:26:16.552Z"
   },
   {
    "duration": 10,
    "start_time": "2022-05-14T21:26:23.268Z"
   },
   {
    "duration": 12,
    "start_time": "2022-05-14T21:26:29.194Z"
   },
   {
    "duration": 190,
    "start_time": "2022-05-14T21:26:34.158Z"
   },
   {
    "duration": 49059,
    "start_time": "2022-05-14T21:26:35.210Z"
   },
   {
    "duration": 236,
    "start_time": "2022-05-14T21:27:24.271Z"
   },
   {
    "duration": 105,
    "start_time": "2022-05-14T21:27:57.615Z"
   },
   {
    "duration": 375,
    "start_time": "2022-05-14T21:28:02.036Z"
   },
   {
    "duration": 737,
    "start_time": "2022-05-14T21:28:06.228Z"
   },
   {
    "duration": 54,
    "start_time": "2022-05-14T21:28:36.435Z"
   },
   {
    "duration": 135,
    "start_time": "2022-05-14T21:28:39.819Z"
   },
   {
    "duration": 176,
    "start_time": "2022-05-14T21:28:43.281Z"
   },
   {
    "duration": 253,
    "start_time": "2022-05-14T21:28:47.420Z"
   },
   {
    "duration": 336,
    "start_time": "2022-05-14T21:28:51.720Z"
   },
   {
    "duration": 532,
    "start_time": "2022-05-14T21:28:55.518Z"
   },
   {
    "duration": 712,
    "start_time": "2022-05-14T21:28:59.788Z"
   },
   {
    "duration": 749,
    "start_time": "2022-05-14T21:29:04.824Z"
   },
   {
    "duration": 727,
    "start_time": "2022-05-14T21:29:09.812Z"
   },
   {
    "duration": 574,
    "start_time": "2022-05-14T21:29:15.514Z"
   },
   {
    "duration": 569,
    "start_time": "2022-05-14T21:29:21.254Z"
   },
   {
    "duration": 506,
    "start_time": "2022-05-14T21:29:25.367Z"
   },
   {
    "duration": 502,
    "start_time": "2022-05-14T21:29:29.821Z"
   },
   {
    "duration": 473,
    "start_time": "2022-05-14T21:29:33.934Z"
   },
   {
    "duration": 466,
    "start_time": "2022-05-14T21:29:37.658Z"
   },
   {
    "duration": 458,
    "start_time": "2022-05-14T21:29:42.096Z"
   },
   {
    "duration": 2367,
    "start_time": "2022-05-14T21:30:23.278Z"
   },
   {
    "duration": 4665,
    "start_time": "2022-05-14T21:30:33.341Z"
   },
   {
    "duration": 6986,
    "start_time": "2022-05-14T21:30:44.485Z"
   },
   {
    "duration": 6997,
    "start_time": "2022-05-14T21:31:04.814Z"
   },
   {
    "duration": 12326,
    "start_time": "2022-05-14T21:31:30.045Z"
   },
   {
    "duration": 14193,
    "start_time": "2022-05-14T21:31:53.501Z"
   },
   {
    "duration": 19071,
    "start_time": "2022-05-14T21:32:20.810Z"
   },
   {
    "duration": 46995,
    "start_time": "2022-05-14T21:32:57.566Z"
   },
   {
    "duration": 33186,
    "start_time": "2022-05-14T21:34:26.055Z"
   },
   {
    "duration": 3,
    "start_time": "2022-05-14T21:50:56.869Z"
   },
   {
    "duration": 896,
    "start_time": "2022-05-14T21:50:56.876Z"
   },
   {
    "duration": 171,
    "start_time": "2022-05-14T21:50:57.774Z"
   },
   {
    "duration": 441,
    "start_time": "2022-05-14T21:50:57.946Z"
   },
   {
    "duration": 625,
    "start_time": "2022-05-14T21:50:58.389Z"
   },
   {
    "duration": 128,
    "start_time": "2022-05-14T21:50:59.016Z"
   },
   {
    "duration": 217,
    "start_time": "2022-05-14T21:50:59.146Z"
   },
   {
    "duration": 38,
    "start_time": "2022-05-14T21:50:59.365Z"
   },
   {
    "duration": 105,
    "start_time": "2022-05-14T21:50:59.406Z"
   },
   {
    "duration": 138,
    "start_time": "2022-05-14T21:50:59.513Z"
   },
   {
    "duration": 1527,
    "start_time": "2022-05-14T21:51:04.081Z"
   },
   {
    "duration": 950,
    "start_time": "2022-05-14T21:51:05.611Z"
   },
   {
    "duration": 196,
    "start_time": "2022-05-14T21:51:06.563Z"
   },
   {
    "duration": 488,
    "start_time": "2022-05-14T21:51:06.761Z"
   },
   {
    "duration": 718,
    "start_time": "2022-05-14T21:51:07.251Z"
   },
   {
    "duration": 136,
    "start_time": "2022-05-14T21:51:07.971Z"
   },
   {
    "duration": 227,
    "start_time": "2022-05-14T21:51:08.109Z"
   },
   {
    "duration": 34,
    "start_time": "2022-05-14T21:51:08.337Z"
   },
   {
    "duration": 110,
    "start_time": "2022-05-14T21:51:08.372Z"
   },
   {
    "duration": 129,
    "start_time": "2022-05-14T21:51:08.500Z"
   },
   {
    "duration": 1048,
    "start_time": "2022-05-14T21:51:08.631Z"
   },
   {
    "duration": 27,
    "start_time": "2022-05-14T21:51:09.681Z"
   },
   {
    "duration": 33,
    "start_time": "2022-05-14T21:51:09.710Z"
   },
   {
    "duration": 94,
    "start_time": "2022-05-14T21:51:09.745Z"
   },
   {
    "duration": 9,
    "start_time": "2022-05-14T21:51:09.840Z"
   },
   {
    "duration": 20,
    "start_time": "2022-05-14T21:51:09.850Z"
   },
   {
    "duration": 49,
    "start_time": "2022-05-14T21:51:09.871Z"
   },
   {
    "duration": 92,
    "start_time": "2022-05-14T21:51:09.922Z"
   },
   {
    "duration": 128,
    "start_time": "2022-05-14T21:51:10.016Z"
   },
   {
    "duration": 106,
    "start_time": "2022-05-14T21:51:10.145Z"
   },
   {
    "duration": 0,
    "start_time": "2022-05-14T21:51:10.253Z"
   },
   {
    "duration": 0,
    "start_time": "2022-05-14T21:51:10.254Z"
   },
   {
    "duration": 0,
    "start_time": "2022-05-14T21:51:10.255Z"
   },
   {
    "duration": 0,
    "start_time": "2022-05-14T21:51:10.256Z"
   },
   {
    "duration": 0,
    "start_time": "2022-05-14T21:51:10.257Z"
   },
   {
    "duration": 0,
    "start_time": "2022-05-14T21:51:10.258Z"
   },
   {
    "duration": 0,
    "start_time": "2022-05-14T21:51:10.259Z"
   },
   {
    "duration": 0,
    "start_time": "2022-05-14T21:51:10.260Z"
   },
   {
    "duration": 0,
    "start_time": "2022-05-14T21:51:10.260Z"
   },
   {
    "duration": 0,
    "start_time": "2022-05-14T21:51:10.261Z"
   },
   {
    "duration": 0,
    "start_time": "2022-05-14T21:51:10.262Z"
   },
   {
    "duration": 0,
    "start_time": "2022-05-14T21:51:10.263Z"
   },
   {
    "duration": 150,
    "start_time": "2022-05-14T21:51:36.987Z"
   },
   {
    "duration": 10,
    "start_time": "2022-05-14T21:52:20.329Z"
   },
   {
    "duration": 4,
    "start_time": "2022-05-14T21:52:44.568Z"
   },
   {
    "duration": 959,
    "start_time": "2022-05-14T21:52:44.574Z"
   },
   {
    "duration": 168,
    "start_time": "2022-05-14T21:52:45.535Z"
   },
   {
    "duration": 452,
    "start_time": "2022-05-14T21:52:45.705Z"
   },
   {
    "duration": 627,
    "start_time": "2022-05-14T21:52:46.160Z"
   },
   {
    "duration": 135,
    "start_time": "2022-05-14T21:52:46.789Z"
   },
   {
    "duration": 217,
    "start_time": "2022-05-14T21:52:46.926Z"
   },
   {
    "duration": 29,
    "start_time": "2022-05-14T21:52:47.144Z"
   },
   {
    "duration": 113,
    "start_time": "2022-05-14T21:52:47.175Z"
   },
   {
    "duration": 149,
    "start_time": "2022-05-14T21:52:47.289Z"
   },
   {
    "duration": 953,
    "start_time": "2022-05-14T21:52:47.441Z"
   },
   {
    "duration": 22,
    "start_time": "2022-05-14T21:52:48.395Z"
   },
   {
    "duration": 28,
    "start_time": "2022-05-14T21:52:48.419Z"
   },
   {
    "duration": 107,
    "start_time": "2022-05-14T21:52:48.449Z"
   },
   {
    "duration": 8,
    "start_time": "2022-05-14T21:52:48.558Z"
   },
   {
    "duration": 6,
    "start_time": "2022-05-14T21:52:48.568Z"
   },
   {
    "duration": 37,
    "start_time": "2022-05-14T21:52:48.600Z"
   },
   {
    "duration": 97,
    "start_time": "2022-05-14T21:52:48.639Z"
   },
   {
    "duration": 120,
    "start_time": "2022-05-14T21:52:48.738Z"
   },
   {
    "duration": 145,
    "start_time": "2022-05-14T21:52:48.860Z"
   },
   {
    "duration": 127,
    "start_time": "2022-05-14T21:52:49.007Z"
   },
   {
    "duration": 306,
    "start_time": "2022-05-14T21:52:49.136Z"
   },
   {
    "duration": 24,
    "start_time": "2022-05-14T21:52:49.444Z"
   },
   {
    "duration": 148,
    "start_time": "2022-05-14T21:52:49.469Z"
   },
   {
    "duration": 132,
    "start_time": "2022-05-14T21:52:49.620Z"
   },
   {
    "duration": 485,
    "start_time": "2022-05-14T21:52:49.754Z"
   },
   {
    "duration": 42,
    "start_time": "2022-05-14T21:52:50.241Z"
   },
   {
    "duration": 67,
    "start_time": "2022-05-14T21:52:58.213Z"
   },
   {
    "duration": 326,
    "start_time": "2022-05-14T21:53:01.099Z"
   },
   {
    "duration": 267,
    "start_time": "2022-05-14T21:53:11.502Z"
   },
   {
    "duration": 584,
    "start_time": "2022-05-14T21:53:15.877Z"
   },
   {
    "duration": 6214,
    "start_time": "2022-05-14T21:53:25.339Z"
   },
   {
    "duration": 123,
    "start_time": "2022-05-14T21:53:40.780Z"
   },
   {
    "duration": 56288,
    "start_time": "2022-05-14T21:56:50.836Z"
   },
   {
    "duration": 41721,
    "start_time": "2022-05-14T21:58:05.390Z"
   },
   {
    "duration": 121,
    "start_time": "2022-05-14T22:12:18.663Z"
   },
   {
    "duration": 76,
    "start_time": "2022-05-14T22:12:28.503Z"
   },
   {
    "duration": 77,
    "start_time": "2022-05-14T22:12:40.386Z"
   },
   {
    "duration": 73,
    "start_time": "2022-05-14T22:13:30.248Z"
   },
   {
    "duration": 71,
    "start_time": "2022-05-14T22:13:40.509Z"
   },
   {
    "duration": 50481,
    "start_time": "2022-05-14T22:13:50.138Z"
   },
   {
    "duration": 520,
    "start_time": "2022-05-14T22:15:11.009Z"
   },
   {
    "duration": 577,
    "start_time": "2022-05-14T22:17:01.629Z"
   },
   {
    "duration": 12,
    "start_time": "2022-05-14T22:21:44.688Z"
   },
   {
    "duration": 1410,
    "start_time": "2022-05-14T22:39:40.743Z"
   },
   {
    "duration": 872,
    "start_time": "2022-05-14T22:39:42.154Z"
   },
   {
    "duration": 185,
    "start_time": "2022-05-14T22:39:43.028Z"
   },
   {
    "duration": 457,
    "start_time": "2022-05-14T22:39:43.215Z"
   },
   {
    "duration": 687,
    "start_time": "2022-05-14T22:39:43.675Z"
   },
   {
    "duration": 137,
    "start_time": "2022-05-14T22:39:44.364Z"
   },
   {
    "duration": 213,
    "start_time": "2022-05-14T22:39:44.502Z"
   },
   {
    "duration": 36,
    "start_time": "2022-05-14T22:39:44.716Z"
   },
   {
    "duration": 115,
    "start_time": "2022-05-14T22:39:44.754Z"
   },
   {
    "duration": 147,
    "start_time": "2022-05-14T22:39:44.871Z"
   },
   {
    "duration": 1067,
    "start_time": "2022-05-14T22:39:45.020Z"
   },
   {
    "duration": 23,
    "start_time": "2022-05-14T22:39:46.089Z"
   },
   {
    "duration": 43,
    "start_time": "2022-05-14T22:39:46.114Z"
   },
   {
    "duration": 113,
    "start_time": "2022-05-14T22:39:46.161Z"
   },
   {
    "duration": 24,
    "start_time": "2022-05-14T22:39:46.276Z"
   },
   {
    "duration": 7,
    "start_time": "2022-05-14T22:39:46.301Z"
   },
   {
    "duration": 33,
    "start_time": "2022-05-14T22:39:46.310Z"
   },
   {
    "duration": 94,
    "start_time": "2022-05-14T22:39:46.345Z"
   },
   {
    "duration": 116,
    "start_time": "2022-05-14T22:39:46.441Z"
   },
   {
    "duration": 143,
    "start_time": "2022-05-14T22:39:46.559Z"
   },
   {
    "duration": 119,
    "start_time": "2022-05-14T22:39:46.703Z"
   },
   {
    "duration": 317,
    "start_time": "2022-05-14T22:39:46.824Z"
   },
   {
    "duration": 26,
    "start_time": "2022-05-14T22:39:47.143Z"
   },
   {
    "duration": 143,
    "start_time": "2022-05-14T22:39:47.171Z"
   },
   {
    "duration": 45,
    "start_time": "2022-05-14T22:39:47.316Z"
   },
   {
    "duration": 515,
    "start_time": "2022-05-14T22:39:47.363Z"
   },
   {
    "duration": 50,
    "start_time": "2022-05-14T22:39:47.880Z"
   },
   {
    "duration": 92,
    "start_time": "2022-05-14T22:39:47.932Z"
   },
   {
    "duration": 356,
    "start_time": "2022-05-14T22:39:48.026Z"
   },
   {
    "duration": 767,
    "start_time": "2022-05-14T22:39:48.384Z"
   },
   {
    "duration": 11745,
    "start_time": "2022-05-14T22:39:49.153Z"
   },
   {
    "duration": 109,
    "start_time": "2022-05-14T22:40:00.901Z"
   },
   {
    "duration": 7252,
    "start_time": "2022-05-14T22:40:39.532Z"
   },
   {
    "duration": 11426,
    "start_time": "2022-05-14T22:41:00.383Z"
   },
   {
    "duration": 39417,
    "start_time": "2022-05-14T22:41:17.606Z"
   },
   {
    "duration": 56037,
    "start_time": "2022-05-14T22:43:06.019Z"
   },
   {
    "duration": 24,
    "start_time": "2022-05-14T22:56:05.929Z"
   },
   {
    "duration": 189,
    "start_time": "2022-05-14T22:57:44.729Z"
   },
   {
    "duration": 174,
    "start_time": "2022-05-14T22:58:15.138Z"
   },
   {
    "duration": 3,
    "start_time": "2022-05-14T22:59:03.413Z"
   },
   {
    "duration": 84,
    "start_time": "2022-05-14T22:59:08.425Z"
   },
   {
    "duration": 3,
    "start_time": "2022-05-14T23:02:54.216Z"
   },
   {
    "duration": 81,
    "start_time": "2022-05-14T23:03:00.624Z"
   },
   {
    "duration": 4,
    "start_time": "2022-05-14T23:03:16.260Z"
   },
   {
    "duration": 71,
    "start_time": "2022-05-14T23:03:23.590Z"
   },
   {
    "duration": 79,
    "start_time": "2022-05-14T23:13:49.357Z"
   },
   {
    "duration": 4,
    "start_time": "2022-05-14T23:14:54.316Z"
   },
   {
    "duration": 1426,
    "start_time": "2022-05-14T23:14:58.576Z"
   },
   {
    "duration": 84,
    "start_time": "2022-05-14T23:20:02.768Z"
   },
   {
    "duration": 92,
    "start_time": "2022-05-14T23:20:21.496Z"
   },
   {
    "duration": 91,
    "start_time": "2022-05-14T23:20:45.053Z"
   },
   {
    "duration": 92,
    "start_time": "2022-05-14T23:21:20.988Z"
   },
   {
    "duration": 87,
    "start_time": "2022-05-14T23:21:57.442Z"
   },
   {
    "duration": 1472,
    "start_time": "2022-05-14T23:22:07.300Z"
   },
   {
    "duration": 900,
    "start_time": "2022-05-14T23:22:08.774Z"
   },
   {
    "duration": 178,
    "start_time": "2022-05-14T23:22:09.676Z"
   },
   {
    "duration": 448,
    "start_time": "2022-05-14T23:22:09.857Z"
   },
   {
    "duration": 638,
    "start_time": "2022-05-14T23:22:10.306Z"
   },
   {
    "duration": 124,
    "start_time": "2022-05-14T23:22:10.945Z"
   },
   {
    "duration": 192,
    "start_time": "2022-05-14T23:22:11.070Z"
   },
   {
    "duration": 40,
    "start_time": "2022-05-14T23:22:11.264Z"
   },
   {
    "duration": 98,
    "start_time": "2022-05-14T23:22:11.305Z"
   },
   {
    "duration": 121,
    "start_time": "2022-05-14T23:22:11.406Z"
   },
   {
    "duration": 935,
    "start_time": "2022-05-14T23:22:11.529Z"
   },
   {
    "duration": 16,
    "start_time": "2022-05-14T23:22:12.466Z"
   },
   {
    "duration": 39,
    "start_time": "2022-05-14T23:22:12.483Z"
   },
   {
    "duration": 87,
    "start_time": "2022-05-14T23:22:12.524Z"
   },
   {
    "duration": 8,
    "start_time": "2022-05-14T23:22:12.612Z"
   },
   {
    "duration": 6,
    "start_time": "2022-05-14T23:22:12.621Z"
   },
   {
    "duration": 31,
    "start_time": "2022-05-14T23:22:12.628Z"
   },
   {
    "duration": 108,
    "start_time": "2022-05-14T23:22:12.661Z"
   },
   {
    "duration": 111,
    "start_time": "2022-05-14T23:22:12.770Z"
   },
   {
    "duration": 130,
    "start_time": "2022-05-14T23:22:12.883Z"
   },
   {
    "duration": 114,
    "start_time": "2022-05-14T23:22:13.014Z"
   },
   {
    "duration": 278,
    "start_time": "2022-05-14T23:22:13.129Z"
   },
   {
    "duration": 24,
    "start_time": "2022-05-14T23:22:13.408Z"
   },
   {
    "duration": 140,
    "start_time": "2022-05-14T23:22:13.433Z"
   },
   {
    "duration": 49,
    "start_time": "2022-05-14T23:22:13.574Z"
   },
   {
    "duration": 419,
    "start_time": "2022-05-14T23:22:13.625Z"
   },
   {
    "duration": 35,
    "start_time": "2022-05-14T23:22:14.045Z"
   },
   {
    "duration": 82,
    "start_time": "2022-05-14T23:22:14.082Z"
   },
   {
    "duration": 299,
    "start_time": "2022-05-14T23:22:14.165Z"
   },
   {
    "duration": 566,
    "start_time": "2022-05-14T23:22:14.465Z"
   },
   {
    "duration": 55109,
    "start_time": "2022-05-14T23:22:15.032Z"
   },
   {
    "duration": 167,
    "start_time": "2022-05-14T23:23:10.142Z"
   },
   {
    "duration": 183,
    "start_time": "2022-05-14T23:23:10.401Z"
   },
   {
    "duration": 0,
    "start_time": "2022-05-14T23:23:10.585Z"
   },
   {
    "duration": 80,
    "start_time": "2022-05-14T23:23:25.091Z"
   },
   {
    "duration": 81,
    "start_time": "2022-05-14T23:23:28.787Z"
   },
   {
    "duration": 71,
    "start_time": "2022-05-14T23:23:30.283Z"
   },
   {
    "duration": 2945,
    "start_time": "2022-05-14T23:25:46.866Z"
   },
   {
    "duration": 3051,
    "start_time": "2022-05-14T23:27:18.078Z"
   },
   {
    "duration": 74,
    "start_time": "2022-05-14T23:28:05.748Z"
   },
   {
    "duration": 79,
    "start_time": "2022-05-14T23:28:07.753Z"
   },
   {
    "duration": 2920,
    "start_time": "2022-05-14T23:28:36.726Z"
   },
   {
    "duration": 1394,
    "start_time": "2022-05-14T23:28:54.776Z"
   },
   {
    "duration": 3004,
    "start_time": "2022-05-14T23:30:07.178Z"
   },
   {
    "duration": 9,
    "start_time": "2022-05-14T23:31:13.515Z"
   },
   {
    "duration": 68,
    "start_time": "2022-05-14T23:31:15.291Z"
   },
   {
    "duration": 2956,
    "start_time": "2022-05-14T23:31:16.865Z"
   },
   {
    "duration": 3073,
    "start_time": "2022-05-14T23:31:35.877Z"
   },
   {
    "duration": 85,
    "start_time": "2022-05-14T23:31:59.580Z"
   },
   {
    "duration": 92,
    "start_time": "2022-05-14T23:32:11.025Z"
   },
   {
    "duration": 82,
    "start_time": "2022-05-14T23:32:16.736Z"
   },
   {
    "duration": 80,
    "start_time": "2022-05-14T23:32:24.914Z"
   },
   {
    "duration": 85,
    "start_time": "2022-05-14T23:33:15.121Z"
   },
   {
    "duration": 88,
    "start_time": "2022-05-14T23:33:22.279Z"
   },
   {
    "duration": 78,
    "start_time": "2022-05-14T23:33:30.891Z"
   },
   {
    "duration": 75,
    "start_time": "2022-05-14T23:34:03.492Z"
   },
   {
    "duration": 4990,
    "start_time": "2022-05-14T23:35:02.168Z"
   },
   {
    "duration": 970,
    "start_time": "2022-05-14T23:35:21.370Z"
   },
   {
    "duration": 108,
    "start_time": "2022-05-14T23:35:56.727Z"
   },
   {
    "duration": 9,
    "start_time": "2022-05-14T23:36:08.230Z"
   },
   {
    "duration": 79,
    "start_time": "2022-05-14T23:36:24.572Z"
   },
   {
    "duration": 9,
    "start_time": "2022-05-14T23:36:29.386Z"
   },
   {
    "duration": 9,
    "start_time": "2022-05-14T23:36:42.998Z"
   },
   {
    "duration": 9,
    "start_time": "2022-05-14T23:37:27.965Z"
   },
   {
    "duration": 90,
    "start_time": "2022-05-14T23:37:59.201Z"
   },
   {
    "duration": 16,
    "start_time": "2022-05-14T23:38:42.661Z"
   },
   {
    "duration": 157,
    "start_time": "2022-05-14T23:43:27.968Z"
   },
   {
    "duration": 80005,
    "start_time": "2022-05-14T23:48:23.806Z"
   },
   {
    "duration": 196732,
    "start_time": "2022-05-15T00:03:10.879Z"
   },
   {
    "duration": 3425,
    "start_time": "2022-05-15T17:38:39.247Z"
   },
   {
    "duration": 1975,
    "start_time": "2022-05-15T17:38:42.675Z"
   },
   {
    "duration": 428,
    "start_time": "2022-05-15T17:38:44.653Z"
   },
   {
    "duration": 1104,
    "start_time": "2022-05-15T17:38:45.089Z"
   },
   {
    "duration": 1470,
    "start_time": "2022-05-15T17:38:46.196Z"
   },
   {
    "duration": 324,
    "start_time": "2022-05-15T17:38:47.669Z"
   },
   {
    "duration": 586,
    "start_time": "2022-05-15T17:38:48.009Z"
   },
   {
    "duration": 73,
    "start_time": "2022-05-15T17:38:48.604Z"
   },
   {
    "duration": 266,
    "start_time": "2022-05-15T17:38:48.686Z"
   },
   {
    "duration": 413,
    "start_time": "2022-05-15T17:38:48.963Z"
   },
   {
    "duration": 2655,
    "start_time": "2022-05-15T17:38:49.379Z"
   },
   {
    "duration": 68,
    "start_time": "2022-05-15T17:38:52.042Z"
   },
   {
    "duration": 143,
    "start_time": "2022-05-15T17:38:52.119Z"
   },
   {
    "duration": 233,
    "start_time": "2022-05-15T17:38:52.269Z"
   },
   {
    "duration": 83,
    "start_time": "2022-05-15T17:38:52.506Z"
   },
   {
    "duration": 14,
    "start_time": "2022-05-15T17:38:52.591Z"
   },
   {
    "duration": 105,
    "start_time": "2022-05-15T17:38:52.608Z"
   },
   {
    "duration": 244,
    "start_time": "2022-05-15T17:38:52.716Z"
   },
   {
    "duration": 313,
    "start_time": "2022-05-15T17:38:52.964Z"
   },
   {
    "duration": 434,
    "start_time": "2022-05-15T17:38:53.284Z"
   },
   {
    "duration": 276,
    "start_time": "2022-05-15T17:38:53.726Z"
   },
   {
    "duration": 919,
    "start_time": "2022-05-15T17:38:54.009Z"
   },
   {
    "duration": 55,
    "start_time": "2022-05-15T17:38:54.935Z"
   },
   {
    "duration": 420,
    "start_time": "2022-05-15T17:38:54.994Z"
   },
   {
    "duration": 92,
    "start_time": "2022-05-15T17:38:55.418Z"
   },
   {
    "duration": 1270,
    "start_time": "2022-05-15T17:38:55.513Z"
   },
   {
    "duration": 67,
    "start_time": "2022-05-15T17:38:56.793Z"
   },
   {
    "duration": 185,
    "start_time": "2022-05-15T17:38:56.874Z"
   },
   {
    "duration": 300,
    "start_time": "2022-05-15T17:38:57.067Z"
   },
   {
    "duration": 0,
    "start_time": "2022-05-15T17:38:57.379Z"
   },
   {
    "duration": 0,
    "start_time": "2022-05-15T17:38:57.380Z"
   },
   {
    "duration": 0,
    "start_time": "2022-05-15T17:38:57.382Z"
   },
   {
    "duration": 1,
    "start_time": "2022-05-15T17:38:57.384Z"
   },
   {
    "duration": 0,
    "start_time": "2022-05-15T17:38:57.387Z"
   },
   {
    "duration": 0,
    "start_time": "2022-05-15T17:38:57.389Z"
   },
   {
    "duration": 26,
    "start_time": "2022-05-15T18:01:54.797Z"
   },
   {
    "duration": 4,
    "start_time": "2022-05-15T18:02:05.347Z"
   },
   {
    "duration": 972,
    "start_time": "2022-05-15T18:02:09.792Z"
   },
   {
    "duration": 2365,
    "start_time": "2022-05-15T18:06:56.135Z"
   },
   {
    "duration": 1559,
    "start_time": "2022-05-15T18:06:58.503Z"
   },
   {
    "duration": 413,
    "start_time": "2022-05-15T18:07:00.064Z"
   },
   {
    "duration": 962,
    "start_time": "2022-05-15T18:07:00.481Z"
   },
   {
    "duration": 1242,
    "start_time": "2022-05-15T18:07:01.446Z"
   },
   {
    "duration": 231,
    "start_time": "2022-05-15T18:07:02.700Z"
   },
   {
    "duration": 421,
    "start_time": "2022-05-15T18:07:02.933Z"
   },
   {
    "duration": 65,
    "start_time": "2022-05-15T18:07:03.356Z"
   },
   {
    "duration": 176,
    "start_time": "2022-05-15T18:07:03.424Z"
   },
   {
    "duration": 272,
    "start_time": "2022-05-15T18:07:03.605Z"
   },
   {
    "duration": 2110,
    "start_time": "2022-05-15T18:07:03.879Z"
   },
   {
    "duration": 54,
    "start_time": "2022-05-15T18:07:05.993Z"
   },
   {
    "duration": 60,
    "start_time": "2022-05-15T18:07:06.049Z"
   },
   {
    "duration": 164,
    "start_time": "2022-05-15T18:07:06.112Z"
   },
   {
    "duration": 33,
    "start_time": "2022-05-15T18:07:06.279Z"
   },
   {
    "duration": 18,
    "start_time": "2022-05-15T18:07:06.315Z"
   },
   {
    "duration": 87,
    "start_time": "2022-05-15T18:07:06.335Z"
   },
   {
    "duration": 152,
    "start_time": "2022-05-15T18:07:06.430Z"
   },
   {
    "duration": 240,
    "start_time": "2022-05-15T18:07:06.585Z"
   },
   {
    "duration": 296,
    "start_time": "2022-05-15T18:07:06.828Z"
   },
   {
    "duration": 249,
    "start_time": "2022-05-15T18:07:07.127Z"
   },
   {
    "duration": 684,
    "start_time": "2022-05-15T18:07:07.378Z"
   },
   {
    "duration": 42,
    "start_time": "2022-05-15T18:07:08.064Z"
   },
   {
    "duration": 285,
    "start_time": "2022-05-15T18:07:08.109Z"
   },
   {
    "duration": 79,
    "start_time": "2022-05-15T18:07:08.396Z"
   },
   {
    "duration": 979,
    "start_time": "2022-05-15T18:07:08.510Z"
   },
   {
    "duration": 51,
    "start_time": "2022-05-15T18:07:09.495Z"
   },
   {
    "duration": 118,
    "start_time": "2022-05-15T18:07:09.552Z"
   },
   {
    "duration": 1010,
    "start_time": "2022-05-15T18:07:09.672Z"
   },
   {
    "duration": 101778,
    "start_time": "2022-05-15T18:07:10.684Z"
   },
   {
    "duration": 255,
    "start_time": "2022-05-15T18:08:52.465Z"
   },
   {
    "duration": 291,
    "start_time": "2022-05-15T18:08:52.737Z"
   },
   {
    "duration": 353,
    "start_time": "2022-05-15T18:08:53.032Z"
   },
   {
    "duration": 2492,
    "start_time": "2022-05-15T18:12:47.854Z"
   },
   {
    "duration": 1673,
    "start_time": "2022-05-15T18:12:50.350Z"
   },
   {
    "duration": 330,
    "start_time": "2022-05-15T18:12:52.026Z"
   },
   {
    "duration": 920,
    "start_time": "2022-05-15T18:12:52.363Z"
   },
   {
    "duration": 1360,
    "start_time": "2022-05-15T18:12:53.286Z"
   },
   {
    "duration": 256,
    "start_time": "2022-05-15T18:12:54.651Z"
   },
   {
    "duration": 432,
    "start_time": "2022-05-15T18:12:54.915Z"
   },
   {
    "duration": 88,
    "start_time": "2022-05-15T18:12:55.360Z"
   },
   {
    "duration": 184,
    "start_time": "2022-05-15T18:12:55.453Z"
   },
   {
    "duration": 265,
    "start_time": "2022-05-15T18:12:55.646Z"
   },
   {
    "duration": 2170,
    "start_time": "2022-05-15T18:12:55.914Z"
   },
   {
    "duration": 53,
    "start_time": "2022-05-15T18:12:58.086Z"
   },
   {
    "duration": 74,
    "start_time": "2022-05-15T18:12:58.143Z"
   },
   {
    "duration": 157,
    "start_time": "2022-05-15T18:12:58.222Z"
   },
   {
    "duration": 26,
    "start_time": "2022-05-15T18:12:58.381Z"
   },
   {
    "duration": 15,
    "start_time": "2022-05-15T18:12:58.410Z"
   },
   {
    "duration": 119,
    "start_time": "2022-05-15T18:12:58.428Z"
   },
   {
    "duration": 145,
    "start_time": "2022-05-15T18:12:58.550Z"
   },
   {
    "duration": 232,
    "start_time": "2022-05-15T18:12:58.700Z"
   },
   {
    "duration": 271,
    "start_time": "2022-05-15T18:12:58.935Z"
   },
   {
    "duration": 236,
    "start_time": "2022-05-15T18:12:59.209Z"
   },
   {
    "duration": 731,
    "start_time": "2022-05-15T18:12:59.448Z"
   },
   {
    "duration": 69,
    "start_time": "2022-05-15T18:13:00.181Z"
   },
   {
    "duration": 267,
    "start_time": "2022-05-15T18:13:00.254Z"
   },
   {
    "duration": 86,
    "start_time": "2022-05-15T18:13:00.524Z"
   },
   {
    "duration": 1064,
    "start_time": "2022-05-15T18:13:00.613Z"
   },
   {
    "duration": 84,
    "start_time": "2022-05-15T18:13:01.679Z"
   },
   {
    "duration": 131,
    "start_time": "2022-05-15T18:13:01.768Z"
   },
   {
    "duration": 1083,
    "start_time": "2022-05-15T18:13:01.903Z"
   },
   {
    "duration": 109643,
    "start_time": "2022-05-15T18:13:02.989Z"
   },
   {
    "duration": 189,
    "start_time": "2022-05-15T18:14:52.635Z"
   },
   {
    "duration": 233,
    "start_time": "2022-05-15T18:14:52.903Z"
   },
   {
    "duration": 309,
    "start_time": "2022-05-15T18:14:53.138Z"
   },
   {
    "duration": 2351,
    "start_time": "2022-05-15T18:26:25.056Z"
   },
   {
    "duration": 1506,
    "start_time": "2022-05-15T18:26:27.412Z"
   },
   {
    "duration": 301,
    "start_time": "2022-05-15T18:26:28.923Z"
   },
   {
    "duration": 850,
    "start_time": "2022-05-15T18:26:29.231Z"
   },
   {
    "duration": 1280,
    "start_time": "2022-05-15T18:26:30.093Z"
   },
   {
    "duration": 238,
    "start_time": "2022-05-15T18:26:31.375Z"
   },
   {
    "duration": 347,
    "start_time": "2022-05-15T18:26:31.615Z"
   },
   {
    "duration": 69,
    "start_time": "2022-05-15T18:26:31.965Z"
   },
   {
    "duration": 158,
    "start_time": "2022-05-15T18:26:32.038Z"
   },
   {
    "duration": 244,
    "start_time": "2022-05-15T18:26:32.214Z"
   },
   {
    "duration": 1895,
    "start_time": "2022-05-15T18:26:32.460Z"
   },
   {
    "duration": 37,
    "start_time": "2022-05-15T18:26:34.357Z"
   },
   {
    "duration": 55,
    "start_time": "2022-05-15T18:26:34.397Z"
   },
   {
    "duration": 146,
    "start_time": "2022-05-15T18:26:34.457Z"
   },
   {
    "duration": 20,
    "start_time": "2022-05-15T18:26:34.612Z"
   },
   {
    "duration": 22,
    "start_time": "2022-05-15T18:26:34.635Z"
   },
   {
    "duration": 79,
    "start_time": "2022-05-15T18:26:34.659Z"
   },
   {
    "duration": 123,
    "start_time": "2022-05-15T18:26:34.741Z"
   },
   {
    "duration": 255,
    "start_time": "2022-05-15T18:26:34.866Z"
   },
   {
    "duration": 314,
    "start_time": "2022-05-15T18:26:35.123Z"
   },
   {
    "duration": 200,
    "start_time": "2022-05-15T18:26:35.439Z"
   },
   {
    "duration": 604,
    "start_time": "2022-05-15T18:26:35.645Z"
   },
   {
    "duration": 60,
    "start_time": "2022-05-15T18:26:36.252Z"
   },
   {
    "duration": 228,
    "start_time": "2022-05-15T18:26:36.316Z"
   },
   {
    "duration": 96,
    "start_time": "2022-05-15T18:26:36.547Z"
   },
   {
    "duration": 895,
    "start_time": "2022-05-15T18:26:36.646Z"
   },
   {
    "duration": 79,
    "start_time": "2022-05-15T18:26:37.544Z"
   },
   {
    "duration": 92,
    "start_time": "2022-05-15T18:26:37.625Z"
   },
   {
    "duration": 1082,
    "start_time": "2022-05-15T18:26:37.719Z"
   },
   {
    "duration": 96657,
    "start_time": "2022-05-15T18:26:38.805Z"
   },
   {
    "duration": 146,
    "start_time": "2022-05-15T18:28:15.464Z"
   },
   {
    "duration": 444,
    "start_time": "2022-05-15T18:28:15.612Z"
   },
   {
    "duration": 345,
    "start_time": "2022-05-15T18:28:16.059Z"
   },
   {
    "duration": 2919,
    "start_time": "2022-05-15T18:40:04.152Z"
   },
   {
    "duration": 1830,
    "start_time": "2022-05-15T18:40:07.073Z"
   },
   {
    "duration": 335,
    "start_time": "2022-05-15T18:40:08.909Z"
   },
   {
    "duration": 964,
    "start_time": "2022-05-15T18:40:09.253Z"
   },
   {
    "duration": 1451,
    "start_time": "2022-05-15T18:40:10.219Z"
   },
   {
    "duration": 233,
    "start_time": "2022-05-15T18:40:11.672Z"
   },
   {
    "duration": 411,
    "start_time": "2022-05-15T18:40:11.907Z"
   },
   {
    "duration": 66,
    "start_time": "2022-05-15T18:40:12.322Z"
   },
   {
    "duration": 235,
    "start_time": "2022-05-15T18:40:12.402Z"
   },
   {
    "duration": 320,
    "start_time": "2022-05-15T18:40:12.648Z"
   },
   {
    "duration": 2192,
    "start_time": "2022-05-15T18:40:12.972Z"
   },
   {
    "duration": 56,
    "start_time": "2022-05-15T18:40:15.166Z"
   },
   {
    "duration": 56,
    "start_time": "2022-05-15T18:40:15.225Z"
   },
   {
    "duration": 170,
    "start_time": "2022-05-15T18:40:15.283Z"
   },
   {
    "duration": 16,
    "start_time": "2022-05-15T18:40:15.456Z"
   },
   {
    "duration": 43,
    "start_time": "2022-05-15T18:40:15.475Z"
   },
   {
    "duration": 118,
    "start_time": "2022-05-15T18:40:15.521Z"
   },
   {
    "duration": 143,
    "start_time": "2022-05-15T18:40:15.646Z"
   },
   {
    "duration": 206,
    "start_time": "2022-05-15T18:40:15.794Z"
   },
   {
    "duration": 323,
    "start_time": "2022-05-15T18:40:16.010Z"
   },
   {
    "duration": 310,
    "start_time": "2022-05-15T18:40:16.339Z"
   },
   {
    "duration": 771,
    "start_time": "2022-05-15T18:40:16.652Z"
   },
   {
    "duration": 63,
    "start_time": "2022-05-15T18:40:17.426Z"
   },
   {
    "duration": 281,
    "start_time": "2022-05-15T18:40:17.492Z"
   },
   {
    "duration": 87,
    "start_time": "2022-05-15T18:40:17.775Z"
   },
   {
    "duration": 1064,
    "start_time": "2022-05-15T18:40:17.865Z"
   },
   {
    "duration": 57,
    "start_time": "2022-05-15T18:40:18.931Z"
   },
   {
    "duration": 116,
    "start_time": "2022-05-15T18:40:18.999Z"
   },
   {
    "duration": 1059,
    "start_time": "2022-05-15T18:40:19.117Z"
   },
   {
    "duration": 2537,
    "start_time": "2022-05-15T18:44:17.318Z"
   },
   {
    "duration": 1666,
    "start_time": "2022-05-15T18:44:19.858Z"
   },
   {
    "duration": 414,
    "start_time": "2022-05-15T18:44:21.527Z"
   },
   {
    "duration": 1183,
    "start_time": "2022-05-15T18:44:21.949Z"
   },
   {
    "duration": 1533,
    "start_time": "2022-05-15T18:44:23.136Z"
   },
   {
    "duration": 301,
    "start_time": "2022-05-15T18:44:24.672Z"
   },
   {
    "duration": 503,
    "start_time": "2022-05-15T18:44:24.976Z"
   },
   {
    "duration": 90,
    "start_time": "2022-05-15T18:44:25.482Z"
   },
   {
    "duration": 239,
    "start_time": "2022-05-15T18:44:25.575Z"
   },
   {
    "duration": 325,
    "start_time": "2022-05-15T18:44:25.817Z"
   },
   {
    "duration": 2529,
    "start_time": "2022-05-15T18:44:26.145Z"
   },
   {
    "duration": 47,
    "start_time": "2022-05-15T18:44:28.677Z"
   },
   {
    "duration": 65,
    "start_time": "2022-05-15T18:44:28.727Z"
   },
   {
    "duration": 186,
    "start_time": "2022-05-15T18:44:28.800Z"
   },
   {
    "duration": 24,
    "start_time": "2022-05-15T18:44:28.992Z"
   },
   {
    "duration": 33,
    "start_time": "2022-05-15T18:44:29.019Z"
   },
   {
    "duration": 64,
    "start_time": "2022-05-15T18:44:29.058Z"
   },
   {
    "duration": 150,
    "start_time": "2022-05-15T18:44:29.125Z"
   },
   {
    "duration": 293,
    "start_time": "2022-05-15T18:44:29.278Z"
   },
   {
    "duration": 347,
    "start_time": "2022-05-15T18:44:29.575Z"
   },
   {
    "duration": 293,
    "start_time": "2022-05-15T18:44:29.927Z"
   },
   {
    "duration": 824,
    "start_time": "2022-05-15T18:44:30.223Z"
   },
   {
    "duration": 61,
    "start_time": "2022-05-15T18:44:31.051Z"
   },
   {
    "duration": 334,
    "start_time": "2022-05-15T18:44:31.116Z"
   },
   {
    "duration": 101,
    "start_time": "2022-05-15T18:44:31.453Z"
   },
   {
    "duration": 1213,
    "start_time": "2022-05-15T18:44:31.558Z"
   },
   {
    "duration": 70,
    "start_time": "2022-05-15T18:44:32.774Z"
   },
   {
    "duration": 127,
    "start_time": "2022-05-15T18:44:32.851Z"
   },
   {
    "duration": 1019,
    "start_time": "2022-05-15T18:44:32.980Z"
   },
   {
    "duration": 11647,
    "start_time": "2022-05-15T18:44:34.002Z"
   },
   {
    "duration": 253,
    "start_time": "2022-05-15T18:44:45.652Z"
   },
   {
    "duration": 339,
    "start_time": "2022-05-15T18:44:45.914Z"
   },
   {
    "duration": 348,
    "start_time": "2022-05-15T18:44:46.256Z"
   },
   {
    "duration": 2978,
    "start_time": "2022-05-15T18:46:26.738Z"
   },
   {
    "duration": 2411,
    "start_time": "2022-05-15T18:46:29.719Z"
   },
   {
    "duration": 436,
    "start_time": "2022-05-15T18:46:32.132Z"
   },
   {
    "duration": 1045,
    "start_time": "2022-05-15T18:46:32.572Z"
   },
   {
    "duration": 1505,
    "start_time": "2022-05-15T18:46:33.625Z"
   },
   {
    "duration": 287,
    "start_time": "2022-05-15T18:46:35.133Z"
   },
   {
    "duration": 393,
    "start_time": "2022-05-15T18:46:35.426Z"
   },
   {
    "duration": 96,
    "start_time": "2022-05-15T18:46:35.827Z"
   },
   {
    "duration": 194,
    "start_time": "2022-05-15T18:46:35.927Z"
   },
   {
    "duration": 326,
    "start_time": "2022-05-15T18:46:36.128Z"
   },
   {
    "duration": 2949,
    "start_time": "2022-05-15T18:46:36.457Z"
   },
   {
    "duration": 33,
    "start_time": "2022-05-15T18:46:39.411Z"
   },
   {
    "duration": 73,
    "start_time": "2022-05-15T18:46:39.447Z"
   },
   {
    "duration": 151,
    "start_time": "2022-05-15T18:46:39.523Z"
   },
   {
    "duration": 31,
    "start_time": "2022-05-15T18:46:39.677Z"
   },
   {
    "duration": 13,
    "start_time": "2022-05-15T18:46:39.713Z"
   },
   {
    "duration": 85,
    "start_time": "2022-05-15T18:46:39.728Z"
   },
   {
    "duration": 164,
    "start_time": "2022-05-15T18:46:39.819Z"
   },
   {
    "duration": 204,
    "start_time": "2022-05-15T18:46:39.985Z"
   },
   {
    "duration": 322,
    "start_time": "2022-05-15T18:46:40.192Z"
   },
   {
    "duration": 276,
    "start_time": "2022-05-15T18:46:40.517Z"
   },
   {
    "duration": 818,
    "start_time": "2022-05-15T18:46:40.799Z"
   },
   {
    "duration": 64,
    "start_time": "2022-05-15T18:46:41.621Z"
   },
   {
    "duration": 329,
    "start_time": "2022-05-15T18:46:41.694Z"
   },
   {
    "duration": 120,
    "start_time": "2022-05-15T18:46:42.033Z"
   },
   {
    "duration": 1075,
    "start_time": "2022-05-15T18:46:42.155Z"
   },
   {
    "duration": 60,
    "start_time": "2022-05-15T18:46:43.233Z"
   },
   {
    "duration": 157,
    "start_time": "2022-05-15T18:46:43.299Z"
   },
   {
    "duration": 1251,
    "start_time": "2022-05-15T18:46:43.458Z"
   },
   {
    "duration": 12405,
    "start_time": "2022-05-15T18:46:44.712Z"
   },
   {
    "duration": 295,
    "start_time": "2022-05-15T18:46:57.121Z"
   },
   {
    "duration": 518,
    "start_time": "2022-05-15T18:46:57.432Z"
   },
   {
    "duration": 4,
    "start_time": "2022-05-15T18:46:57.953Z"
   },
   {
    "duration": 2382,
    "start_time": "2022-05-15T18:58:08.621Z"
   },
   {
    "duration": 1690,
    "start_time": "2022-05-15T18:58:11.011Z"
   },
   {
    "duration": 272,
    "start_time": "2022-05-15T18:58:12.704Z"
   },
   {
    "duration": 776,
    "start_time": "2022-05-15T18:58:12.979Z"
   },
   {
    "duration": 1392,
    "start_time": "2022-05-15T18:58:13.759Z"
   },
   {
    "duration": 213,
    "start_time": "2022-05-15T18:58:15.154Z"
   },
   {
    "duration": 418,
    "start_time": "2022-05-15T18:58:15.369Z"
   },
   {
    "duration": 61,
    "start_time": "2022-05-15T18:58:15.790Z"
   },
   {
    "duration": 158,
    "start_time": "2022-05-15T18:58:15.853Z"
   },
   {
    "duration": 344,
    "start_time": "2022-05-15T18:58:16.014Z"
   },
   {
    "duration": 2114,
    "start_time": "2022-05-15T18:58:16.361Z"
   },
   {
    "duration": 37,
    "start_time": "2022-05-15T18:58:18.477Z"
   },
   {
    "duration": 78,
    "start_time": "2022-05-15T18:58:18.539Z"
   },
   {
    "duration": 146,
    "start_time": "2022-05-15T18:58:18.623Z"
   },
   {
    "duration": 16,
    "start_time": "2022-05-15T18:58:18.771Z"
   },
   {
    "duration": 20,
    "start_time": "2022-05-15T18:58:18.805Z"
   },
   {
    "duration": 95,
    "start_time": "2022-05-15T18:58:18.828Z"
   },
   {
    "duration": 142,
    "start_time": "2022-05-15T18:58:18.926Z"
   },
   {
    "duration": 233,
    "start_time": "2022-05-15T18:58:19.070Z"
   },
   {
    "duration": 300,
    "start_time": "2022-05-15T18:58:19.308Z"
   },
   {
    "duration": 271,
    "start_time": "2022-05-15T18:58:19.610Z"
   },
   {
    "duration": 889,
    "start_time": "2022-05-15T18:58:19.883Z"
   },
   {
    "duration": 63,
    "start_time": "2022-05-15T18:58:20.775Z"
   },
   {
    "duration": 232,
    "start_time": "2022-05-15T18:58:20.840Z"
   },
   {
    "duration": 81,
    "start_time": "2022-05-15T18:58:21.075Z"
   },
   {
    "duration": 885,
    "start_time": "2022-05-15T18:58:21.158Z"
   },
   {
    "duration": 60,
    "start_time": "2022-05-15T18:58:22.045Z"
   },
   {
    "duration": 103,
    "start_time": "2022-05-15T18:58:22.108Z"
   },
   {
    "duration": 870,
    "start_time": "2022-05-15T18:58:22.214Z"
   },
   {
    "duration": 8825,
    "start_time": "2022-05-15T18:58:23.087Z"
   },
   {
    "duration": 185,
    "start_time": "2022-05-15T18:58:31.914Z"
   },
   {
    "duration": 511,
    "start_time": "2022-05-15T18:58:32.101Z"
   },
   {
    "duration": 4,
    "start_time": "2022-05-15T18:58:32.614Z"
   },
   {
    "duration": 2499,
    "start_time": "2022-05-15T19:07:16.274Z"
   },
   {
    "duration": 1686,
    "start_time": "2022-05-15T19:07:18.776Z"
   },
   {
    "duration": 321,
    "start_time": "2022-05-15T19:07:20.464Z"
   },
   {
    "duration": 937,
    "start_time": "2022-05-15T19:07:20.795Z"
   },
   {
    "duration": 1295,
    "start_time": "2022-05-15T19:07:21.734Z"
   },
   {
    "duration": 236,
    "start_time": "2022-05-15T19:07:23.032Z"
   },
   {
    "duration": 394,
    "start_time": "2022-05-15T19:07:23.271Z"
   },
   {
    "duration": 75,
    "start_time": "2022-05-15T19:07:23.668Z"
   },
   {
    "duration": 212,
    "start_time": "2022-05-15T19:07:23.749Z"
   },
   {
    "duration": 259,
    "start_time": "2022-05-15T19:07:23.965Z"
   },
   {
    "duration": 2020,
    "start_time": "2022-05-15T19:07:24.230Z"
   },
   {
    "duration": 25,
    "start_time": "2022-05-15T19:07:26.252Z"
   },
   {
    "duration": 74,
    "start_time": "2022-05-15T19:07:26.280Z"
   },
   {
    "duration": 153,
    "start_time": "2022-05-15T19:07:26.356Z"
   },
   {
    "duration": 16,
    "start_time": "2022-05-15T19:07:26.513Z"
   },
   {
    "duration": 19,
    "start_time": "2022-05-15T19:07:26.532Z"
   },
   {
    "duration": 97,
    "start_time": "2022-05-15T19:07:26.553Z"
   },
   {
    "duration": 141,
    "start_time": "2022-05-15T19:07:26.653Z"
   },
   {
    "duration": 198,
    "start_time": "2022-05-15T19:07:26.799Z"
   },
   {
    "duration": 267,
    "start_time": "2022-05-15T19:07:26.999Z"
   },
   {
    "duration": 222,
    "start_time": "2022-05-15T19:07:27.268Z"
   },
   {
    "duration": 641,
    "start_time": "2022-05-15T19:07:27.493Z"
   },
   {
    "duration": 43,
    "start_time": "2022-05-15T19:07:28.137Z"
   },
   {
    "duration": 283,
    "start_time": "2022-05-15T19:07:28.183Z"
   },
   {
    "duration": 103,
    "start_time": "2022-05-15T19:07:28.468Z"
   },
   {
    "duration": 937,
    "start_time": "2022-05-15T19:07:28.574Z"
   },
   {
    "duration": 61,
    "start_time": "2022-05-15T19:07:29.514Z"
   },
   {
    "duration": 119,
    "start_time": "2022-05-15T19:07:29.593Z"
   },
   {
    "duration": 1150,
    "start_time": "2022-05-15T19:07:29.715Z"
   },
   {
    "duration": 10274,
    "start_time": "2022-05-15T19:07:30.867Z"
   },
   {
    "duration": 153,
    "start_time": "2022-05-15T19:07:41.147Z"
   },
   {
    "duration": 547,
    "start_time": "2022-05-15T19:07:41.302Z"
   },
   {
    "duration": 6,
    "start_time": "2022-05-15T19:07:41.852Z"
   },
   {
    "duration": 2567,
    "start_time": "2022-05-15T19:09:57.965Z"
   },
   {
    "duration": 1727,
    "start_time": "2022-05-15T19:10:00.535Z"
   },
   {
    "duration": 322,
    "start_time": "2022-05-15T19:10:02.265Z"
   },
   {
    "duration": 930,
    "start_time": "2022-05-15T19:10:02.596Z"
   },
   {
    "duration": 1319,
    "start_time": "2022-05-15T19:10:03.529Z"
   },
   {
    "duration": 215,
    "start_time": "2022-05-15T19:10:04.850Z"
   },
   {
    "duration": 406,
    "start_time": "2022-05-15T19:10:05.067Z"
   },
   {
    "duration": 72,
    "start_time": "2022-05-15T19:10:05.475Z"
   },
   {
    "duration": 199,
    "start_time": "2022-05-15T19:10:05.550Z"
   },
   {
    "duration": 245,
    "start_time": "2022-05-15T19:10:05.753Z"
   },
   {
    "duration": 2328,
    "start_time": "2022-05-15T19:10:06.004Z"
   },
   {
    "duration": 52,
    "start_time": "2022-05-15T19:10:08.334Z"
   },
   {
    "duration": 72,
    "start_time": "2022-05-15T19:10:08.389Z"
   },
   {
    "duration": 148,
    "start_time": "2022-05-15T19:10:08.464Z"
   },
   {
    "duration": 22,
    "start_time": "2022-05-15T19:10:08.616Z"
   },
   {
    "duration": 19,
    "start_time": "2022-05-15T19:10:08.643Z"
   },
   {
    "duration": 98,
    "start_time": "2022-05-15T19:10:08.666Z"
   },
   {
    "duration": 139,
    "start_time": "2022-05-15T19:10:08.766Z"
   },
   {
    "duration": 217,
    "start_time": "2022-05-15T19:10:08.909Z"
   },
   {
    "duration": 329,
    "start_time": "2022-05-15T19:10:09.129Z"
   },
   {
    "duration": 315,
    "start_time": "2022-05-15T19:10:09.463Z"
   },
   {
    "duration": 867,
    "start_time": "2022-05-15T19:10:09.781Z"
   },
   {
    "duration": 58,
    "start_time": "2022-05-15T19:10:10.651Z"
   },
   {
    "duration": 254,
    "start_time": "2022-05-15T19:10:10.717Z"
   },
   {
    "duration": 83,
    "start_time": "2022-05-15T19:10:10.974Z"
   },
   {
    "duration": 944,
    "start_time": "2022-05-15T19:10:11.059Z"
   },
   {
    "duration": 60,
    "start_time": "2022-05-15T19:10:12.006Z"
   },
   {
    "duration": 107,
    "start_time": "2022-05-15T19:10:12.071Z"
   },
   {
    "duration": 1072,
    "start_time": "2022-05-15T19:10:12.181Z"
   },
   {
    "duration": 9,
    "start_time": "2022-05-15T19:10:13.256Z"
   },
   {
    "duration": 0,
    "start_time": "2022-05-15T19:10:13.268Z"
   },
   {
    "duration": 0,
    "start_time": "2022-05-15T19:10:13.270Z"
   },
   {
    "duration": 0,
    "start_time": "2022-05-15T19:10:13.272Z"
   },
   {
    "duration": 0,
    "start_time": "2022-05-15T19:10:13.299Z"
   },
   {
    "duration": 13461,
    "start_time": "2022-05-15T19:10:46.811Z"
   },
   {
    "duration": 234,
    "start_time": "2022-05-15T19:11:00.275Z"
   },
   {
    "duration": 480,
    "start_time": "2022-05-15T19:11:18.282Z"
   },
   {
    "duration": 324,
    "start_time": "2022-05-15T19:16:12.237Z"
   },
   {
    "duration": 2507,
    "start_time": "2022-05-15T19:24:53.099Z"
   },
   {
    "duration": 1529,
    "start_time": "2022-05-15T19:24:55.610Z"
   },
   {
    "duration": 325,
    "start_time": "2022-05-15T19:24:57.142Z"
   },
   {
    "duration": 900,
    "start_time": "2022-05-15T19:24:57.470Z"
   },
   {
    "duration": 1291,
    "start_time": "2022-05-15T19:24:58.372Z"
   },
   {
    "duration": 200,
    "start_time": "2022-05-15T19:24:59.666Z"
   },
   {
    "duration": 458,
    "start_time": "2022-05-15T19:24:59.869Z"
   },
   {
    "duration": 73,
    "start_time": "2022-05-15T19:25:00.329Z"
   },
   {
    "duration": 156,
    "start_time": "2022-05-15T19:25:00.405Z"
   },
   {
    "duration": 252,
    "start_time": "2022-05-15T19:25:00.565Z"
   },
   {
    "duration": 2187,
    "start_time": "2022-05-15T19:25:00.819Z"
   },
   {
    "duration": 29,
    "start_time": "2022-05-15T19:25:03.010Z"
   },
   {
    "duration": 78,
    "start_time": "2022-05-15T19:25:03.041Z"
   },
   {
    "duration": 122,
    "start_time": "2022-05-15T19:25:03.122Z"
   },
   {
    "duration": 11,
    "start_time": "2022-05-15T19:25:03.247Z"
   },
   {
    "duration": 42,
    "start_time": "2022-05-15T19:25:03.260Z"
   },
   {
    "duration": 84,
    "start_time": "2022-05-15T19:25:03.306Z"
   },
   {
    "duration": 136,
    "start_time": "2022-05-15T19:25:03.392Z"
   },
   {
    "duration": 261,
    "start_time": "2022-05-15T19:25:03.531Z"
   },
   {
    "duration": 303,
    "start_time": "2022-05-15T19:25:03.794Z"
   },
   {
    "duration": 277,
    "start_time": "2022-05-15T19:25:04.100Z"
   },
   {
    "duration": 813,
    "start_time": "2022-05-15T19:25:04.380Z"
   },
   {
    "duration": 64,
    "start_time": "2022-05-15T19:25:05.199Z"
   },
   {
    "duration": 340,
    "start_time": "2022-05-15T19:25:05.266Z"
   },
   {
    "duration": 122,
    "start_time": "2022-05-15T19:25:05.611Z"
   },
   {
    "duration": 1200,
    "start_time": "2022-05-15T19:25:05.737Z"
   },
   {
    "duration": 86,
    "start_time": "2022-05-15T19:25:06.941Z"
   },
   {
    "duration": 130,
    "start_time": "2022-05-15T19:25:07.034Z"
   },
   {
    "duration": 1356,
    "start_time": "2022-05-15T19:25:07.167Z"
   },
   {
    "duration": 11684,
    "start_time": "2022-05-15T19:25:08.526Z"
   },
   {
    "duration": 291,
    "start_time": "2022-05-15T19:25:20.216Z"
   },
   {
    "duration": 471,
    "start_time": "2022-05-15T19:25:20.527Z"
   },
   {
    "duration": 3,
    "start_time": "2022-05-15T19:25:21.001Z"
   },
   {
    "duration": 2612,
    "start_time": "2022-05-15T19:29:19.417Z"
   },
   {
    "duration": 2073,
    "start_time": "2022-05-15T19:29:22.034Z"
   },
   {
    "duration": 393,
    "start_time": "2022-05-15T19:29:24.111Z"
   },
   {
    "duration": 1226,
    "start_time": "2022-05-15T19:29:24.508Z"
   },
   {
    "duration": 1522,
    "start_time": "2022-05-15T19:29:25.738Z"
   },
   {
    "duration": 273,
    "start_time": "2022-05-15T19:29:27.263Z"
   },
   {
    "duration": 398,
    "start_time": "2022-05-15T19:29:27.539Z"
   },
   {
    "duration": 67,
    "start_time": "2022-05-15T19:29:27.940Z"
   },
   {
    "duration": 158,
    "start_time": "2022-05-15T19:29:28.013Z"
   },
   {
    "duration": 262,
    "start_time": "2022-05-15T19:29:28.195Z"
   },
   {
    "duration": 2025,
    "start_time": "2022-05-15T19:29:28.460Z"
   },
   {
    "duration": 39,
    "start_time": "2022-05-15T19:29:30.493Z"
   },
   {
    "duration": 73,
    "start_time": "2022-05-15T19:29:30.535Z"
   },
   {
    "duration": 138,
    "start_time": "2022-05-15T19:29:30.611Z"
   },
   {
    "duration": 22,
    "start_time": "2022-05-15T19:29:30.752Z"
   },
   {
    "duration": 25,
    "start_time": "2022-05-15T19:29:30.777Z"
   },
   {
    "duration": 96,
    "start_time": "2022-05-15T19:29:30.805Z"
   },
   {
    "duration": 143,
    "start_time": "2022-05-15T19:29:30.904Z"
   },
   {
    "duration": 196,
    "start_time": "2022-05-15T19:29:31.050Z"
   },
   {
    "duration": 292,
    "start_time": "2022-05-15T19:29:31.248Z"
   },
   {
    "duration": 238,
    "start_time": "2022-05-15T19:29:31.543Z"
   },
   {
    "duration": 661,
    "start_time": "2022-05-15T19:29:31.784Z"
   },
   {
    "duration": 54,
    "start_time": "2022-05-15T19:29:32.448Z"
   },
   {
    "duration": 235,
    "start_time": "2022-05-15T19:29:32.508Z"
   },
   {
    "duration": 100,
    "start_time": "2022-05-15T19:29:32.745Z"
   },
   {
    "duration": 1212,
    "start_time": "2022-05-15T19:29:32.848Z"
   },
   {
    "duration": 68,
    "start_time": "2022-05-15T19:29:34.062Z"
   },
   {
    "duration": 116,
    "start_time": "2022-05-15T19:29:34.138Z"
   },
   {
    "duration": 1286,
    "start_time": "2022-05-15T19:29:34.256Z"
   },
   {
    "duration": 12144,
    "start_time": "2022-05-15T19:29:35.545Z"
   },
   {
    "duration": 152,
    "start_time": "2022-05-15T19:29:47.692Z"
   },
   {
    "duration": 532,
    "start_time": "2022-05-15T19:29:47.895Z"
   },
   {
    "duration": 3,
    "start_time": "2022-05-15T19:29:48.429Z"
   },
   {
    "duration": 2361,
    "start_time": "2022-05-15T19:39:27.708Z"
   },
   {
    "duration": 1668,
    "start_time": "2022-05-15T19:39:30.072Z"
   },
   {
    "duration": 312,
    "start_time": "2022-05-15T19:39:31.750Z"
   },
   {
    "duration": 890,
    "start_time": "2022-05-15T19:39:32.064Z"
   },
   {
    "duration": 1361,
    "start_time": "2022-05-15T19:39:32.958Z"
   },
   {
    "duration": 208,
    "start_time": "2022-05-15T19:39:34.322Z"
   },
   {
    "duration": 407,
    "start_time": "2022-05-15T19:39:34.532Z"
   },
   {
    "duration": 80,
    "start_time": "2022-05-15T19:39:34.948Z"
   },
   {
    "duration": 181,
    "start_time": "2022-05-15T19:39:35.038Z"
   },
   {
    "duration": 286,
    "start_time": "2022-05-15T19:39:35.222Z"
   },
   {
    "duration": 2256,
    "start_time": "2022-05-15T19:39:35.511Z"
   },
   {
    "duration": 40,
    "start_time": "2022-05-15T19:39:37.769Z"
   },
   {
    "duration": 63,
    "start_time": "2022-05-15T19:39:37.819Z"
   },
   {
    "duration": 151,
    "start_time": "2022-05-15T19:39:37.889Z"
   },
   {
    "duration": 23,
    "start_time": "2022-05-15T19:39:38.046Z"
   },
   {
    "duration": 8,
    "start_time": "2022-05-15T19:39:38.071Z"
   },
   {
    "duration": 67,
    "start_time": "2022-05-15T19:39:38.104Z"
   },
   {
    "duration": 150,
    "start_time": "2022-05-15T19:39:38.173Z"
   },
   {
    "duration": 217,
    "start_time": "2022-05-15T19:39:38.326Z"
   },
   {
    "duration": 259,
    "start_time": "2022-05-15T19:39:38.546Z"
   },
   {
    "duration": 244,
    "start_time": "2022-05-15T19:39:38.808Z"
   },
   {
    "duration": 666,
    "start_time": "2022-05-15T19:39:39.055Z"
   },
   {
    "duration": 49,
    "start_time": "2022-05-15T19:39:39.724Z"
   },
   {
    "duration": 253,
    "start_time": "2022-05-15T19:39:39.775Z"
   },
   {
    "duration": 87,
    "start_time": "2022-05-15T19:39:40.036Z"
   },
   {
    "duration": 962,
    "start_time": "2022-05-15T19:39:40.125Z"
   },
   {
    "duration": 66,
    "start_time": "2022-05-15T19:39:41.089Z"
   },
   {
    "duration": 112,
    "start_time": "2022-05-15T19:39:41.158Z"
   },
   {
    "duration": 1008,
    "start_time": "2022-05-15T19:39:41.272Z"
   },
   {
    "duration": 11270,
    "start_time": "2022-05-15T19:39:42.282Z"
   },
   {
    "duration": 159,
    "start_time": "2022-05-15T19:39:53.554Z"
   },
   {
    "duration": 647,
    "start_time": "2022-05-15T19:39:53.715Z"
   },
   {
    "duration": 4,
    "start_time": "2022-05-15T19:39:54.368Z"
   },
   {
    "duration": 222404,
    "start_time": "2022-05-15T19:39:54.374Z"
   },
   {
    "duration": 0,
    "start_time": "2022-05-15T19:43:36.780Z"
   },
   {
    "duration": 459,
    "start_time": "2022-05-15T19:43:41.261Z"
   },
   {
    "duration": 372,
    "start_time": "2022-05-15T19:43:50.946Z"
   },
   {
    "duration": 2713,
    "start_time": "2022-05-15T19:44:07.856Z"
   },
   {
    "duration": 1940,
    "start_time": "2022-05-15T19:44:10.571Z"
   },
   {
    "duration": 340,
    "start_time": "2022-05-15T19:44:12.515Z"
   },
   {
    "duration": 1062,
    "start_time": "2022-05-15T19:44:12.859Z"
   },
   {
    "duration": 1478,
    "start_time": "2022-05-15T19:44:13.924Z"
   },
   {
    "duration": 280,
    "start_time": "2022-05-15T19:44:15.406Z"
   },
   {
    "duration": 467,
    "start_time": "2022-05-15T19:44:15.688Z"
   },
   {
    "duration": 73,
    "start_time": "2022-05-15T19:44:16.159Z"
   },
   {
    "duration": 214,
    "start_time": "2022-05-15T19:44:16.235Z"
   },
   {
    "duration": 363,
    "start_time": "2022-05-15T19:44:16.455Z"
   },
   {
    "duration": 2534,
    "start_time": "2022-05-15T19:44:16.824Z"
   },
   {
    "duration": 41,
    "start_time": "2022-05-15T19:44:19.361Z"
   },
   {
    "duration": 66,
    "start_time": "2022-05-15T19:44:19.405Z"
   },
   {
    "duration": 180,
    "start_time": "2022-05-15T19:44:19.477Z"
   },
   {
    "duration": 28,
    "start_time": "2022-05-15T19:44:19.660Z"
   },
   {
    "duration": 13,
    "start_time": "2022-05-15T19:44:19.691Z"
   },
   {
    "duration": 124,
    "start_time": "2022-05-15T19:44:19.709Z"
   },
   {
    "duration": 203,
    "start_time": "2022-05-15T19:44:19.836Z"
   },
   {
    "duration": 383,
    "start_time": "2022-05-15T19:44:20.043Z"
   },
   {
    "duration": 315,
    "start_time": "2022-05-15T19:44:20.429Z"
   },
   {
    "duration": 392,
    "start_time": "2022-05-15T19:44:20.748Z"
   },
   {
    "duration": 889,
    "start_time": "2022-05-15T19:44:21.148Z"
   },
   {
    "duration": 62,
    "start_time": "2022-05-15T19:44:22.040Z"
   },
   {
    "duration": 278,
    "start_time": "2022-05-15T19:44:22.105Z"
   },
   {
    "duration": 92,
    "start_time": "2022-05-15T19:44:22.393Z"
   },
   {
    "duration": 1140,
    "start_time": "2022-05-15T19:44:22.488Z"
   },
   {
    "duration": 73,
    "start_time": "2022-05-15T19:44:23.636Z"
   },
   {
    "duration": 124,
    "start_time": "2022-05-15T19:44:23.716Z"
   },
   {
    "duration": 1414,
    "start_time": "2022-05-15T19:44:23.843Z"
   },
   {
    "duration": 12278,
    "start_time": "2022-05-15T19:44:25.263Z"
   },
   {
    "duration": 269,
    "start_time": "2022-05-15T19:44:37.544Z"
   },
   {
    "duration": 508,
    "start_time": "2022-05-15T19:44:37.844Z"
   },
   {
    "duration": 8,
    "start_time": "2022-05-15T19:44:38.362Z"
   },
   {
    "duration": 2486,
    "start_time": "2022-05-15T19:46:30.753Z"
   },
   {
    "duration": 1516,
    "start_time": "2022-05-15T19:46:33.245Z"
   },
   {
    "duration": 301,
    "start_time": "2022-05-15T19:46:34.763Z"
   },
   {
    "duration": 851,
    "start_time": "2022-05-15T19:46:35.067Z"
   },
   {
    "duration": 1287,
    "start_time": "2022-05-15T19:46:35.921Z"
   },
   {
    "duration": 225,
    "start_time": "2022-05-15T19:46:37.216Z"
   },
   {
    "duration": 375,
    "start_time": "2022-05-15T19:46:37.444Z"
   },
   {
    "duration": 58,
    "start_time": "2022-05-15T19:46:37.821Z"
   },
   {
    "duration": 186,
    "start_time": "2022-05-15T19:46:37.882Z"
   },
   {
    "duration": 250,
    "start_time": "2022-05-15T19:46:38.072Z"
   },
   {
    "duration": 2039,
    "start_time": "2022-05-15T19:46:38.325Z"
   },
   {
    "duration": 45,
    "start_time": "2022-05-15T19:46:40.367Z"
   },
   {
    "duration": 57,
    "start_time": "2022-05-15T19:46:40.416Z"
   },
   {
    "duration": 161,
    "start_time": "2022-05-15T19:46:40.475Z"
   },
   {
    "duration": 21,
    "start_time": "2022-05-15T19:46:40.639Z"
   },
   {
    "duration": 11,
    "start_time": "2022-05-15T19:46:40.663Z"
   },
   {
    "duration": 71,
    "start_time": "2022-05-15T19:46:40.697Z"
   },
   {
    "duration": 145,
    "start_time": "2022-05-15T19:46:40.770Z"
   },
   {
    "duration": 236,
    "start_time": "2022-05-15T19:46:40.919Z"
   },
   {
    "duration": 269,
    "start_time": "2022-05-15T19:46:41.157Z"
   },
   {
    "duration": 250,
    "start_time": "2022-05-15T19:46:41.429Z"
   },
   {
    "duration": 867,
    "start_time": "2022-05-15T19:46:41.682Z"
   },
   {
    "duration": 77,
    "start_time": "2022-05-15T19:46:42.552Z"
   },
   {
    "duration": 339,
    "start_time": "2022-05-15T19:46:42.631Z"
   },
   {
    "duration": 107,
    "start_time": "2022-05-15T19:46:42.973Z"
   },
   {
    "duration": 1043,
    "start_time": "2022-05-15T19:46:43.082Z"
   },
   {
    "duration": 74,
    "start_time": "2022-05-15T19:46:44.128Z"
   },
   {
    "duration": 107,
    "start_time": "2022-05-15T19:46:44.212Z"
   },
   {
    "duration": 1189,
    "start_time": "2022-05-15T19:46:44.322Z"
   },
   {
    "duration": 9,
    "start_time": "2022-05-15T19:46:45.514Z"
   },
   {
    "duration": 0,
    "start_time": "2022-05-15T19:46:45.527Z"
   },
   {
    "duration": 0,
    "start_time": "2022-05-15T19:46:45.528Z"
   },
   {
    "duration": 0,
    "start_time": "2022-05-15T19:46:45.531Z"
   },
   {
    "duration": 0,
    "start_time": "2022-05-15T19:46:45.533Z"
   },
   {
    "duration": 2549,
    "start_time": "2022-05-15T19:49:36.335Z"
   },
   {
    "duration": 1640,
    "start_time": "2022-05-15T19:49:38.887Z"
   },
   {
    "duration": 318,
    "start_time": "2022-05-15T19:49:40.530Z"
   },
   {
    "duration": 1084,
    "start_time": "2022-05-15T19:49:40.852Z"
   },
   {
    "duration": 1359,
    "start_time": "2022-05-15T19:49:41.940Z"
   },
   {
    "duration": 251,
    "start_time": "2022-05-15T19:49:43.303Z"
   },
   {
    "duration": 474,
    "start_time": "2022-05-15T19:49:43.558Z"
   },
   {
    "duration": 87,
    "start_time": "2022-05-15T19:49:44.037Z"
   },
   {
    "duration": 193,
    "start_time": "2022-05-15T19:49:44.126Z"
   },
   {
    "duration": 265,
    "start_time": "2022-05-15T19:49:44.326Z"
   },
   {
    "duration": 2188,
    "start_time": "2022-05-15T19:49:44.600Z"
   },
   {
    "duration": 34,
    "start_time": "2022-05-15T19:49:46.793Z"
   },
   {
    "duration": 76,
    "start_time": "2022-05-15T19:49:46.831Z"
   },
   {
    "duration": 162,
    "start_time": "2022-05-15T19:49:46.910Z"
   },
   {
    "duration": 39,
    "start_time": "2022-05-15T19:49:47.075Z"
   },
   {
    "duration": 13,
    "start_time": "2022-05-15T19:49:47.116Z"
   },
   {
    "duration": 92,
    "start_time": "2022-05-15T19:49:47.132Z"
   },
   {
    "duration": 174,
    "start_time": "2022-05-15T19:49:47.227Z"
   },
   {
    "duration": 253,
    "start_time": "2022-05-15T19:49:47.410Z"
   },
   {
    "duration": 301,
    "start_time": "2022-05-15T19:49:47.666Z"
   },
   {
    "duration": 273,
    "start_time": "2022-05-15T19:49:47.970Z"
   },
   {
    "duration": 723,
    "start_time": "2022-05-15T19:49:48.247Z"
   },
   {
    "duration": 65,
    "start_time": "2022-05-15T19:49:48.973Z"
   },
   {
    "duration": 261,
    "start_time": "2022-05-15T19:49:49.041Z"
   },
   {
    "duration": 95,
    "start_time": "2022-05-15T19:49:49.305Z"
   },
   {
    "duration": 1025,
    "start_time": "2022-05-15T19:49:49.403Z"
   },
   {
    "duration": 68,
    "start_time": "2022-05-15T19:49:50.432Z"
   },
   {
    "duration": 121,
    "start_time": "2022-05-15T19:49:50.507Z"
   },
   {
    "duration": 1163,
    "start_time": "2022-05-15T19:49:50.636Z"
   },
   {
    "duration": 12779,
    "start_time": "2022-05-15T19:49:51.802Z"
   },
   {
    "duration": 281,
    "start_time": "2022-05-15T19:50:04.583Z"
   },
   {
    "duration": 592,
    "start_time": "2022-05-15T19:50:04.870Z"
   },
   {
    "duration": 5,
    "start_time": "2022-05-15T19:50:05.465Z"
   },
   {
    "duration": 87451,
    "start_time": "2022-05-15T19:50:05.473Z"
   },
   {
    "duration": 2696009,
    "start_time": "2022-05-15T19:55:26.387Z"
   },
   {
    "duration": 2165,
    "start_time": "2022-05-16T03:52:20.668Z"
   },
   {
    "duration": 1295,
    "start_time": "2022-05-16T03:52:22.837Z"
   },
   {
    "duration": 259,
    "start_time": "2022-05-16T03:52:24.157Z"
   },
   {
    "duration": 708,
    "start_time": "2022-05-16T03:52:24.419Z"
   },
   {
    "duration": 979,
    "start_time": "2022-05-16T03:52:25.129Z"
   },
   {
    "duration": 158,
    "start_time": "2022-05-16T03:52:26.110Z"
   },
   {
    "duration": 291,
    "start_time": "2022-05-16T03:52:26.270Z"
   },
   {
    "duration": 51,
    "start_time": "2022-05-16T03:52:26.563Z"
   },
   {
    "duration": 149,
    "start_time": "2022-05-16T03:52:26.616Z"
   },
   {
    "duration": 213,
    "start_time": "2022-05-16T03:52:26.768Z"
   },
   {
    "duration": 1755,
    "start_time": "2022-05-16T03:52:26.984Z"
   },
   {
    "duration": 33,
    "start_time": "2022-05-16T03:52:28.741Z"
   },
   {
    "duration": 46,
    "start_time": "2022-05-16T03:52:28.776Z"
   },
   {
    "duration": 134,
    "start_time": "2022-05-16T03:52:28.824Z"
   },
   {
    "duration": 10,
    "start_time": "2022-05-16T03:52:28.961Z"
   },
   {
    "duration": 26,
    "start_time": "2022-05-16T03:52:28.973Z"
   },
   {
    "duration": 80,
    "start_time": "2022-05-16T03:52:29.002Z"
   },
   {
    "duration": 104,
    "start_time": "2022-05-16T03:52:29.085Z"
   },
   {
    "duration": 172,
    "start_time": "2022-05-16T03:52:29.192Z"
   },
   {
    "duration": 232,
    "start_time": "2022-05-16T03:52:29.366Z"
   },
   {
    "duration": 198,
    "start_time": "2022-05-16T03:52:29.600Z"
   },
   {
    "duration": 515,
    "start_time": "2022-05-16T03:52:29.800Z"
   },
   {
    "duration": 51,
    "start_time": "2022-05-16T03:52:30.317Z"
   },
   {
    "duration": 204,
    "start_time": "2022-05-16T03:52:30.371Z"
   },
   {
    "duration": 81,
    "start_time": "2022-05-16T03:52:30.577Z"
   },
   {
    "duration": 674,
    "start_time": "2022-05-16T03:52:30.660Z"
   },
   {
    "duration": 56,
    "start_time": "2022-05-16T03:52:31.337Z"
   },
   {
    "duration": 107,
    "start_time": "2022-05-16T03:52:31.397Z"
   },
   {
    "duration": 761,
    "start_time": "2022-05-16T03:52:31.507Z"
   },
   {
    "duration": 8319,
    "start_time": "2022-05-16T03:52:32.271Z"
   },
   {
    "duration": 171,
    "start_time": "2022-05-16T03:52:40.593Z"
   },
   {
    "duration": 503,
    "start_time": "2022-05-16T03:52:40.766Z"
   },
   {
    "duration": 3,
    "start_time": "2022-05-16T03:52:41.271Z"
   },
   {
    "duration": 95295,
    "start_time": "2022-05-16T03:52:41.276Z"
   },
   {
    "duration": 167228,
    "start_time": "2022-05-16T04:00:32.042Z"
   },
   {
    "duration": 270087,
    "start_time": "2022-05-16T04:12:26.580Z"
   },
   {
    "duration": 4,
    "start_time": "2022-05-18T03:43:54.048Z"
   },
   {
    "duration": 3,
    "start_time": "2022-05-18T03:43:55.878Z"
   },
   {
    "duration": 1004,
    "start_time": "2022-05-18T03:43:58.268Z"
   },
   {
    "duration": 29,
    "start_time": "2022-05-18T03:44:01.945Z"
   },
   {
    "duration": 524,
    "start_time": "2022-05-18T03:49:07.625Z"
   },
   {
    "duration": 4,
    "start_time": "2022-05-18T03:49:14.256Z"
   },
   {
    "duration": 1140,
    "start_time": "2022-05-18T03:49:14.265Z"
   },
   {
    "duration": 29,
    "start_time": "2022-05-18T03:49:15.407Z"
   },
   {
    "duration": 479,
    "start_time": "2022-05-18T03:49:15.441Z"
   },
   {
    "duration": 788,
    "start_time": "2022-05-18T03:49:15.931Z"
   },
   {
    "duration": 166,
    "start_time": "2022-05-18T03:49:16.722Z"
   },
   {
    "duration": 235,
    "start_time": "2022-05-18T03:49:16.890Z"
   },
   {
    "duration": 31,
    "start_time": "2022-05-18T03:49:17.127Z"
   },
   {
    "duration": 111,
    "start_time": "2022-05-18T03:49:17.161Z"
   },
   {
    "duration": 142,
    "start_time": "2022-05-18T03:49:17.274Z"
   },
   {
    "duration": 1621,
    "start_time": "2022-05-18T03:49:17.420Z"
   },
   {
    "duration": 19,
    "start_time": "2022-05-18T03:49:19.042Z"
   },
   {
    "duration": 22,
    "start_time": "2022-05-18T03:49:19.062Z"
   },
   {
    "duration": 107,
    "start_time": "2022-05-18T03:49:19.086Z"
   },
   {
    "duration": 11,
    "start_time": "2022-05-18T03:49:19.195Z"
   },
   {
    "duration": 29,
    "start_time": "2022-05-18T03:49:19.207Z"
   },
   {
    "duration": 38,
    "start_time": "2022-05-18T03:49:19.243Z"
   },
   {
    "duration": 95,
    "start_time": "2022-05-18T03:49:19.283Z"
   },
   {
    "duration": 180,
    "start_time": "2022-05-18T03:49:19.380Z"
   },
   {
    "duration": 171,
    "start_time": "2022-05-18T03:49:19.562Z"
   },
   {
    "duration": 146,
    "start_time": "2022-05-18T03:49:19.736Z"
   },
   {
    "duration": 339,
    "start_time": "2022-05-18T03:49:19.885Z"
   },
   {
    "duration": 39,
    "start_time": "2022-05-18T03:49:20.226Z"
   },
   {
    "duration": 150,
    "start_time": "2022-05-18T03:49:20.266Z"
   },
   {
    "duration": 174,
    "start_time": "2022-05-18T03:49:20.418Z"
   },
   {
    "duration": 60,
    "start_time": "2022-05-18T03:49:20.593Z"
   },
   {
    "duration": 700,
    "start_time": "2022-05-18T03:49:20.655Z"
   },
   {
    "duration": 40,
    "start_time": "2022-05-18T03:49:21.356Z"
   },
   {
    "duration": 89,
    "start_time": "2022-05-18T03:49:21.400Z"
   },
   {
    "duration": 1354,
    "start_time": "2022-05-18T03:49:21.491Z"
   },
   {
    "duration": 92302,
    "start_time": "2022-05-18T03:49:22.849Z"
   },
   {
    "duration": 106,
    "start_time": "2022-05-18T03:50:55.152Z"
   },
   {
    "duration": 341,
    "start_time": "2022-05-18T03:50:55.330Z"
   },
   {
    "duration": 3,
    "start_time": "2022-05-18T03:50:55.673Z"
   },
   {
    "duration": 12559,
    "start_time": "2022-05-18T03:50:55.677Z"
   },
   {
    "duration": 6,
    "start_time": "2022-05-18T03:52:27.244Z"
   },
   {
    "duration": 896,
    "start_time": "2022-05-18T03:52:27.265Z"
   },
   {
    "duration": 16,
    "start_time": "2022-05-18T03:52:28.163Z"
   },
   {
    "duration": 418,
    "start_time": "2022-05-18T03:52:28.181Z"
   },
   {
    "duration": 669,
    "start_time": "2022-05-18T03:52:28.601Z"
   },
   {
    "duration": 155,
    "start_time": "2022-05-18T03:52:29.273Z"
   },
   {
    "duration": 220,
    "start_time": "2022-05-18T03:52:29.430Z"
   },
   {
    "duration": 31,
    "start_time": "2022-05-18T03:52:29.651Z"
   },
   {
    "duration": 106,
    "start_time": "2022-05-18T03:52:29.683Z"
   },
   {
    "duration": 137,
    "start_time": "2022-05-18T03:52:29.791Z"
   },
   {
    "duration": 1235,
    "start_time": "2022-05-18T03:52:29.930Z"
   },
   {
    "duration": 14,
    "start_time": "2022-05-18T03:52:31.167Z"
   },
   {
    "duration": 19,
    "start_time": "2022-05-18T03:52:31.184Z"
   },
   {
    "duration": 102,
    "start_time": "2022-05-18T03:52:31.205Z"
   },
   {
    "duration": 21,
    "start_time": "2022-05-18T03:52:31.310Z"
   },
   {
    "duration": 12,
    "start_time": "2022-05-18T03:52:31.332Z"
   },
   {
    "duration": 54,
    "start_time": "2022-05-18T03:52:31.345Z"
   },
   {
    "duration": 112,
    "start_time": "2022-05-18T03:52:31.401Z"
   },
   {
    "duration": 107,
    "start_time": "2022-05-18T03:52:31.515Z"
   },
   {
    "duration": 137,
    "start_time": "2022-05-18T03:52:31.623Z"
   },
   {
    "duration": 138,
    "start_time": "2022-05-18T03:52:31.761Z"
   },
   {
    "duration": 333,
    "start_time": "2022-05-18T03:52:31.900Z"
   },
   {
    "duration": 28,
    "start_time": "2022-05-18T03:52:32.235Z"
   },
   {
    "duration": 141,
    "start_time": "2022-05-18T03:52:32.264Z"
   },
   {
    "duration": 153,
    "start_time": "2022-05-18T03:52:32.406Z"
   },
   {
    "duration": 242,
    "start_time": "2022-05-18T03:52:32.561Z"
   },
   {
    "duration": 36,
    "start_time": "2022-05-18T03:52:32.806Z"
   },
   {
    "duration": 405,
    "start_time": "2022-05-18T03:52:32.844Z"
   },
   {
    "duration": 36,
    "start_time": "2022-05-18T03:52:33.251Z"
   },
   {
    "duration": 81,
    "start_time": "2022-05-18T03:52:33.289Z"
   },
   {
    "duration": 1058,
    "start_time": "2022-05-18T03:52:33.372Z"
   },
   {
    "duration": 74964,
    "start_time": "2022-05-18T03:52:34.431Z"
   },
   {
    "duration": 130,
    "start_time": "2022-05-18T03:53:49.397Z"
   },
   {
    "duration": 307,
    "start_time": "2022-05-18T03:53:49.530Z"
   },
   {
    "duration": 2,
    "start_time": "2022-05-18T03:53:49.839Z"
   },
   {
    "duration": 10303,
    "start_time": "2022-05-18T03:53:49.843Z"
   },
   {
    "duration": 33,
    "start_time": "2022-05-18T04:02:39.056Z"
   },
   {
    "duration": 1834,
    "start_time": "2022-05-18T05:01:03.847Z"
   },
   {
    "duration": 1175,
    "start_time": "2022-05-18T05:01:05.683Z"
   },
   {
    "duration": 22,
    "start_time": "2022-05-18T05:01:06.859Z"
   },
   {
    "duration": 536,
    "start_time": "2022-05-18T05:01:06.883Z"
   },
   {
    "duration": 753,
    "start_time": "2022-05-18T05:01:07.421Z"
   },
   {
    "duration": 117,
    "start_time": "2022-05-18T05:01:08.176Z"
   },
   {
    "duration": 219,
    "start_time": "2022-05-18T05:01:08.295Z"
   },
   {
    "duration": 38,
    "start_time": "2022-05-18T05:01:08.516Z"
   },
   {
    "duration": 108,
    "start_time": "2022-05-18T05:01:08.556Z"
   },
   {
    "duration": 134,
    "start_time": "2022-05-18T05:01:08.667Z"
   },
   {
    "duration": 1152,
    "start_time": "2022-05-18T05:01:08.803Z"
   },
   {
    "duration": 19,
    "start_time": "2022-05-18T05:01:09.957Z"
   },
   {
    "duration": 49,
    "start_time": "2022-05-18T05:01:09.978Z"
   },
   {
    "duration": 84,
    "start_time": "2022-05-18T05:01:10.029Z"
   },
   {
    "duration": 17,
    "start_time": "2022-05-18T05:01:10.114Z"
   },
   {
    "duration": 7,
    "start_time": "2022-05-18T05:01:10.132Z"
   },
   {
    "duration": 36,
    "start_time": "2022-05-18T05:01:10.141Z"
   },
   {
    "duration": 100,
    "start_time": "2022-05-18T05:01:10.179Z"
   },
   {
    "duration": 122,
    "start_time": "2022-05-18T05:01:10.281Z"
   },
   {
    "duration": 141,
    "start_time": "2022-05-18T05:01:10.405Z"
   },
   {
    "duration": 131,
    "start_time": "2022-05-18T05:01:10.547Z"
   },
   {
    "duration": 299,
    "start_time": "2022-05-18T05:01:10.679Z"
   },
   {
    "duration": 31,
    "start_time": "2022-05-18T05:01:10.980Z"
   },
   {
    "duration": 159,
    "start_time": "2022-05-18T05:01:11.013Z"
   },
   {
    "duration": 183,
    "start_time": "2022-05-18T05:01:11.175Z"
   },
   {
    "duration": 252,
    "start_time": "2022-05-18T05:01:11.360Z"
   },
   {
    "duration": 34,
    "start_time": "2022-05-18T05:01:11.614Z"
   },
   {
    "duration": 585,
    "start_time": "2022-05-18T05:01:11.652Z"
   },
   {
    "duration": 39,
    "start_time": "2022-05-18T05:01:12.238Z"
   },
   {
    "duration": 82,
    "start_time": "2022-05-18T05:01:12.279Z"
   },
   {
    "duration": 1146,
    "start_time": "2022-05-18T05:01:12.363Z"
   },
   {
    "duration": 77489,
    "start_time": "2022-05-18T05:01:13.510Z"
   },
   {
    "duration": 68,
    "start_time": "2022-05-18T05:02:31.000Z"
   },
   {
    "duration": 304,
    "start_time": "2022-05-18T05:02:31.129Z"
   },
   {
    "duration": 9911,
    "start_time": "2022-05-18T05:02:31.434Z"
   },
   {
    "duration": 58,
    "start_time": "2022-05-19T07:12:39.105Z"
   },
   {
    "duration": 105,
    "start_time": "2022-05-19T18:48:48.099Z"
   },
   {
    "duration": 1565,
    "start_time": "2022-05-19T18:49:06.657Z"
   },
   {
    "duration": 1248,
    "start_time": "2022-05-19T18:49:08.224Z"
   },
   {
    "duration": 25,
    "start_time": "2022-05-19T18:49:09.474Z"
   },
   {
    "duration": 520,
    "start_time": "2022-05-19T18:49:09.501Z"
   },
   {
    "duration": 724,
    "start_time": "2022-05-19T18:49:10.023Z"
   },
   {
    "duration": 104,
    "start_time": "2022-05-19T18:49:10.751Z"
   },
   {
    "duration": 177,
    "start_time": "2022-05-19T18:49:10.857Z"
   },
   {
    "duration": 44,
    "start_time": "2022-05-19T18:49:11.036Z"
   },
   {
    "duration": 92,
    "start_time": "2022-05-19T18:49:11.081Z"
   },
   {
    "duration": 140,
    "start_time": "2022-05-19T18:49:11.177Z"
   },
   {
    "duration": 1182,
    "start_time": "2022-05-19T18:49:11.320Z"
   },
   {
    "duration": 19,
    "start_time": "2022-05-19T18:49:12.504Z"
   },
   {
    "duration": 39,
    "start_time": "2022-05-19T18:49:12.525Z"
   },
   {
    "duration": 99,
    "start_time": "2022-05-19T18:49:12.566Z"
   },
   {
    "duration": 10,
    "start_time": "2022-05-19T18:49:12.667Z"
   },
   {
    "duration": 17,
    "start_time": "2022-05-19T18:49:12.678Z"
   },
   {
    "duration": 34,
    "start_time": "2022-05-19T18:49:12.697Z"
   },
   {
    "duration": 97,
    "start_time": "2022-05-19T18:49:12.733Z"
   },
   {
    "duration": 99,
    "start_time": "2022-05-19T18:49:12.831Z"
   },
   {
    "duration": 141,
    "start_time": "2022-05-19T18:49:12.932Z"
   },
   {
    "duration": 115,
    "start_time": "2022-05-19T18:49:13.074Z"
   },
   {
    "duration": 300,
    "start_time": "2022-05-19T18:49:13.191Z"
   },
   {
    "duration": 24,
    "start_time": "2022-05-19T18:49:13.492Z"
   },
   {
    "duration": 129,
    "start_time": "2022-05-19T18:49:13.518Z"
   },
   {
    "duration": 151,
    "start_time": "2022-05-19T18:49:13.651Z"
   },
   {
    "duration": 233,
    "start_time": "2022-05-19T18:49:13.803Z"
   },
   {
    "duration": 32,
    "start_time": "2022-05-19T18:49:14.037Z"
   },
   {
    "duration": 385,
    "start_time": "2022-05-19T18:49:14.072Z"
   },
   {
    "duration": 36,
    "start_time": "2022-05-19T18:49:14.459Z"
   },
   {
    "duration": 80,
    "start_time": "2022-05-19T18:49:14.497Z"
   },
   {
    "duration": 1088,
    "start_time": "2022-05-19T18:49:14.578Z"
   },
   {
    "duration": 74687,
    "start_time": "2022-05-19T18:49:15.668Z"
   },
   {
    "duration": 112,
    "start_time": "2022-05-19T18:50:30.357Z"
   },
   {
    "duration": 212,
    "start_time": "2022-05-19T18:50:30.470Z"
   },
   {
    "duration": 10277,
    "start_time": "2022-05-19T18:50:30.683Z"
   },
   {
    "duration": 50,
    "start_time": "2022-05-19T18:55:37.536Z"
   },
   {
    "duration": 128,
    "start_time": "2022-05-19T18:55:42.671Z"
   },
   {
    "duration": 10,
    "start_time": "2022-05-19T18:55:52.050Z"
   },
   {
    "duration": 896,
    "start_time": "2022-05-19T18:55:52.062Z"
   },
   {
    "duration": 17,
    "start_time": "2022-05-19T18:55:52.965Z"
   },
   {
    "duration": 396,
    "start_time": "2022-05-19T18:55:52.984Z"
   },
   {
    "duration": 584,
    "start_time": "2022-05-19T18:55:53.382Z"
   },
   {
    "duration": 101,
    "start_time": "2022-05-19T18:55:53.967Z"
   },
   {
    "duration": 188,
    "start_time": "2022-05-19T18:55:54.070Z"
   },
   {
    "duration": 23,
    "start_time": "2022-05-19T18:55:54.259Z"
   },
   {
    "duration": 89,
    "start_time": "2022-05-19T18:55:54.284Z"
   },
   {
    "duration": 127,
    "start_time": "2022-05-19T18:55:54.374Z"
   },
   {
    "duration": 1274,
    "start_time": "2022-05-19T18:55:54.504Z"
   },
   {
    "duration": 14,
    "start_time": "2022-05-19T18:55:55.779Z"
   },
   {
    "duration": 20,
    "start_time": "2022-05-19T18:55:55.794Z"
   },
   {
    "duration": 91,
    "start_time": "2022-05-19T18:55:55.816Z"
   },
   {
    "duration": 7,
    "start_time": "2022-05-19T18:55:55.909Z"
   },
   {
    "duration": 6,
    "start_time": "2022-05-19T18:55:55.918Z"
   },
   {
    "duration": 47,
    "start_time": "2022-05-19T18:55:55.925Z"
   },
   {
    "duration": 66,
    "start_time": "2022-05-19T18:55:55.974Z"
   },
   {
    "duration": 89,
    "start_time": "2022-05-19T18:55:56.059Z"
   },
   {
    "duration": 122,
    "start_time": "2022-05-19T18:55:56.158Z"
   },
   {
    "duration": 123,
    "start_time": "2022-05-19T18:55:56.282Z"
   },
   {
    "duration": 296,
    "start_time": "2022-05-19T18:55:56.407Z"
   },
   {
    "duration": 25,
    "start_time": "2022-05-19T18:55:56.705Z"
   },
   {
    "duration": 134,
    "start_time": "2022-05-19T18:55:56.732Z"
   },
   {
    "duration": 153,
    "start_time": "2022-05-19T18:55:56.867Z"
   },
   {
    "duration": 213,
    "start_time": "2022-05-19T18:55:57.022Z"
   },
   {
    "duration": 33,
    "start_time": "2022-05-19T18:55:57.236Z"
   },
   {
    "duration": 396,
    "start_time": "2022-05-19T18:55:57.270Z"
   },
   {
    "duration": 33,
    "start_time": "2022-05-19T18:55:57.670Z"
   },
   {
    "duration": 60,
    "start_time": "2022-05-19T18:55:57.704Z"
   },
   {
    "duration": 1028,
    "start_time": "2022-05-19T18:55:57.765Z"
   },
   {
    "duration": 76709,
    "start_time": "2022-05-19T18:55:58.794Z"
   },
   {
    "duration": 73,
    "start_time": "2022-05-19T18:57:15.506Z"
   },
   {
    "duration": 4,
    "start_time": "2022-05-19T18:57:33.273Z"
   },
   {
    "duration": 885,
    "start_time": "2022-05-19T18:57:33.282Z"
   },
   {
    "duration": 18,
    "start_time": "2022-05-19T18:57:34.169Z"
   },
   {
    "duration": 444,
    "start_time": "2022-05-19T18:57:34.188Z"
   },
   {
    "duration": 661,
    "start_time": "2022-05-19T18:57:34.633Z"
   },
   {
    "duration": 137,
    "start_time": "2022-05-19T18:57:35.295Z"
   },
   {
    "duration": 210,
    "start_time": "2022-05-19T18:57:35.434Z"
   },
   {
    "duration": 29,
    "start_time": "2022-05-19T18:57:35.646Z"
   },
   {
    "duration": 91,
    "start_time": "2022-05-19T18:57:35.680Z"
   },
   {
    "duration": 138,
    "start_time": "2022-05-19T18:57:35.773Z"
   },
   {
    "duration": 1291,
    "start_time": "2022-05-19T18:57:35.914Z"
   },
   {
    "duration": 15,
    "start_time": "2022-05-19T18:57:37.207Z"
   },
   {
    "duration": 45,
    "start_time": "2022-05-19T18:57:37.223Z"
   },
   {
    "duration": 72,
    "start_time": "2022-05-19T18:57:37.270Z"
   },
   {
    "duration": 22,
    "start_time": "2022-05-19T18:57:37.344Z"
   },
   {
    "duration": 12,
    "start_time": "2022-05-19T18:57:37.369Z"
   },
   {
    "duration": 37,
    "start_time": "2022-05-19T18:57:37.383Z"
   },
   {
    "duration": 78,
    "start_time": "2022-05-19T18:57:37.422Z"
   },
   {
    "duration": 118,
    "start_time": "2022-05-19T18:57:37.502Z"
   },
   {
    "duration": 168,
    "start_time": "2022-05-19T18:57:37.622Z"
   },
   {
    "duration": 114,
    "start_time": "2022-05-19T18:57:37.792Z"
   },
   {
    "duration": 340,
    "start_time": "2022-05-19T18:57:37.908Z"
   },
   {
    "duration": 30,
    "start_time": "2022-05-19T18:57:38.250Z"
   },
   {
    "duration": 144,
    "start_time": "2022-05-19T18:57:38.281Z"
   },
   {
    "duration": 158,
    "start_time": "2022-05-19T18:57:38.426Z"
   },
   {
    "duration": 237,
    "start_time": "2022-05-19T18:57:38.586Z"
   },
   {
    "duration": 41,
    "start_time": "2022-05-19T18:57:38.825Z"
   },
   {
    "duration": 402,
    "start_time": "2022-05-19T18:57:38.868Z"
   },
   {
    "duration": 32,
    "start_time": "2022-05-19T18:57:39.273Z"
   },
   {
    "duration": 75,
    "start_time": "2022-05-19T18:57:39.307Z"
   },
   {
    "duration": 1083,
    "start_time": "2022-05-19T18:57:39.384Z"
   },
   {
    "duration": 74727,
    "start_time": "2022-05-19T18:57:40.468Z"
   },
   {
    "duration": 28,
    "start_time": "2022-05-19T19:07:15.033Z"
   },
   {
    "duration": 68,
    "start_time": "2022-05-19T19:11:09.010Z"
   },
   {
    "duration": 4,
    "start_time": "2022-05-19T19:11:13.595Z"
   },
   {
    "duration": 843,
    "start_time": "2022-05-19T19:11:13.602Z"
   },
   {
    "duration": 28,
    "start_time": "2022-05-19T19:11:14.447Z"
   },
   {
    "duration": 422,
    "start_time": "2022-05-19T19:11:14.476Z"
   },
   {
    "duration": 694,
    "start_time": "2022-05-19T19:11:14.900Z"
   },
   {
    "duration": 111,
    "start_time": "2022-05-19T19:11:15.595Z"
   },
   {
    "duration": 205,
    "start_time": "2022-05-19T19:11:15.708Z"
   },
   {
    "duration": 24,
    "start_time": "2022-05-19T19:11:15.915Z"
   },
   {
    "duration": 92,
    "start_time": "2022-05-19T19:11:15.941Z"
   },
   {
    "duration": 159,
    "start_time": "2022-05-19T19:11:16.035Z"
   },
   {
    "duration": 1235,
    "start_time": "2022-05-19T19:11:16.198Z"
   },
   {
    "duration": 28,
    "start_time": "2022-05-19T19:11:17.435Z"
   },
   {
    "duration": 19,
    "start_time": "2022-05-19T19:11:17.465Z"
   },
   {
    "duration": 83,
    "start_time": "2022-05-19T19:11:17.486Z"
   },
   {
    "duration": 11,
    "start_time": "2022-05-19T19:11:17.571Z"
   },
   {
    "duration": 8,
    "start_time": "2022-05-19T19:11:17.584Z"
   },
   {
    "duration": 22,
    "start_time": "2022-05-19T19:11:17.594Z"
   },
   {
    "duration": 89,
    "start_time": "2022-05-19T19:11:17.617Z"
   },
   {
    "duration": 109,
    "start_time": "2022-05-19T19:11:17.708Z"
   },
   {
    "duration": 139,
    "start_time": "2022-05-19T19:11:17.819Z"
   },
   {
    "duration": 117,
    "start_time": "2022-05-19T19:11:17.960Z"
   },
   {
    "duration": 312,
    "start_time": "2022-05-19T19:11:18.079Z"
   },
   {
    "duration": 23,
    "start_time": "2022-05-19T19:11:18.393Z"
   },
   {
    "duration": 116,
    "start_time": "2022-05-19T19:11:18.418Z"
   },
   {
    "duration": 157,
    "start_time": "2022-05-19T19:11:18.535Z"
   },
   {
    "duration": 215,
    "start_time": "2022-05-19T19:11:18.693Z"
   },
   {
    "duration": 27,
    "start_time": "2022-05-19T19:11:18.910Z"
   },
   {
    "duration": 428,
    "start_time": "2022-05-19T19:11:18.938Z"
   },
   {
    "duration": 32,
    "start_time": "2022-05-19T19:11:19.370Z"
   },
   {
    "duration": 73,
    "start_time": "2022-05-19T19:11:19.403Z"
   },
   {
    "duration": 1064,
    "start_time": "2022-05-19T19:11:19.479Z"
   },
   {
    "duration": 75568,
    "start_time": "2022-05-19T19:11:20.545Z"
   },
   {
    "duration": 75,
    "start_time": "2022-05-19T19:12:36.116Z"
   },
   {
    "duration": 63,
    "start_time": "2022-05-19T19:12:56.778Z"
   },
   {
    "duration": 6,
    "start_time": "2022-05-19T19:13:07.462Z"
   },
   {
    "duration": 891,
    "start_time": "2022-05-19T19:13:07.471Z"
   },
   {
    "duration": 16,
    "start_time": "2022-05-19T19:13:08.364Z"
   },
   {
    "duration": 438,
    "start_time": "2022-05-19T19:13:08.382Z"
   },
   {
    "duration": 619,
    "start_time": "2022-05-19T19:13:08.822Z"
   },
   {
    "duration": 123,
    "start_time": "2022-05-19T19:13:09.443Z"
   },
   {
    "duration": 197,
    "start_time": "2022-05-19T19:13:09.571Z"
   },
   {
    "duration": 30,
    "start_time": "2022-05-19T19:13:09.770Z"
   },
   {
    "duration": 88,
    "start_time": "2022-05-19T19:13:09.801Z"
   },
   {
    "duration": 167,
    "start_time": "2022-05-19T19:13:09.892Z"
   },
   {
    "duration": 1172,
    "start_time": "2022-05-19T19:13:10.068Z"
   },
   {
    "duration": 23,
    "start_time": "2022-05-19T19:13:11.241Z"
   },
   {
    "duration": 17,
    "start_time": "2022-05-19T19:13:11.271Z"
   },
   {
    "duration": 76,
    "start_time": "2022-05-19T19:13:11.290Z"
   },
   {
    "duration": 12,
    "start_time": "2022-05-19T19:13:11.369Z"
   },
   {
    "duration": 7,
    "start_time": "2022-05-19T19:13:11.383Z"
   },
   {
    "duration": 38,
    "start_time": "2022-05-19T19:13:11.391Z"
   },
   {
    "duration": 102,
    "start_time": "2022-05-19T19:13:11.431Z"
   },
   {
    "duration": 106,
    "start_time": "2022-05-19T19:13:11.535Z"
   },
   {
    "duration": 175,
    "start_time": "2022-05-19T19:13:11.643Z"
   },
   {
    "duration": 145,
    "start_time": "2022-05-19T19:13:11.820Z"
   },
   {
    "duration": 347,
    "start_time": "2022-05-19T19:13:11.969Z"
   },
   {
    "duration": 23,
    "start_time": "2022-05-19T19:13:12.317Z"
   },
   {
    "duration": 159,
    "start_time": "2022-05-19T19:13:12.341Z"
   },
   {
    "duration": 179,
    "start_time": "2022-05-19T19:13:12.502Z"
   },
   {
    "duration": 232,
    "start_time": "2022-05-19T19:13:12.684Z"
   },
   {
    "duration": 41,
    "start_time": "2022-05-19T19:13:12.918Z"
   },
   {
    "duration": 381,
    "start_time": "2022-05-19T19:13:12.963Z"
   },
   {
    "duration": 38,
    "start_time": "2022-05-19T19:13:13.348Z"
   },
   {
    "duration": 69,
    "start_time": "2022-05-19T19:13:13.388Z"
   },
   {
    "duration": 1050,
    "start_time": "2022-05-19T19:13:13.459Z"
   },
   {
    "duration": 74479,
    "start_time": "2022-05-19T19:13:14.511Z"
   },
   {
    "duration": 4,
    "start_time": "2022-05-19T19:18:15.145Z"
   },
   {
    "duration": 909,
    "start_time": "2022-05-19T19:18:15.151Z"
   },
   {
    "duration": 17,
    "start_time": "2022-05-19T19:18:16.062Z"
   },
   {
    "duration": 424,
    "start_time": "2022-05-19T19:18:16.081Z"
   },
   {
    "duration": 582,
    "start_time": "2022-05-19T19:18:16.508Z"
   },
   {
    "duration": 100,
    "start_time": "2022-05-19T19:18:17.092Z"
   },
   {
    "duration": 181,
    "start_time": "2022-05-19T19:18:17.193Z"
   },
   {
    "duration": 27,
    "start_time": "2022-05-19T19:18:17.376Z"
   },
   {
    "duration": 91,
    "start_time": "2022-05-19T19:18:17.405Z"
   },
   {
    "duration": 190,
    "start_time": "2022-05-19T19:18:17.498Z"
   },
   {
    "duration": 1226,
    "start_time": "2022-05-19T19:18:17.691Z"
   },
   {
    "duration": 14,
    "start_time": "2022-05-19T19:18:18.919Z"
   },
   {
    "duration": 43,
    "start_time": "2022-05-19T19:18:18.934Z"
   },
   {
    "duration": 80,
    "start_time": "2022-05-19T19:18:18.979Z"
   },
   {
    "duration": 7,
    "start_time": "2022-05-19T19:18:19.061Z"
   },
   {
    "duration": 8,
    "start_time": "2022-05-19T19:18:19.070Z"
   },
   {
    "duration": 22,
    "start_time": "2022-05-19T19:18:19.080Z"
   },
   {
    "duration": 96,
    "start_time": "2022-05-19T19:18:19.104Z"
   },
   {
    "duration": 105,
    "start_time": "2022-05-19T19:18:19.202Z"
   },
   {
    "duration": 157,
    "start_time": "2022-05-19T19:18:19.310Z"
   },
   {
    "duration": 123,
    "start_time": "2022-05-19T19:18:19.469Z"
   },
   {
    "duration": 304,
    "start_time": "2022-05-19T19:18:19.594Z"
   },
   {
    "duration": 23,
    "start_time": "2022-05-19T19:18:19.900Z"
   },
   {
    "duration": 127,
    "start_time": "2022-05-19T19:18:19.925Z"
   },
   {
    "duration": 159,
    "start_time": "2022-05-19T19:18:20.053Z"
   },
   {
    "duration": 203,
    "start_time": "2022-05-19T19:18:20.214Z"
   },
   {
    "duration": 34,
    "start_time": "2022-05-19T19:18:20.418Z"
   },
   {
    "duration": 386,
    "start_time": "2022-05-19T19:18:20.454Z"
   },
   {
    "duration": 34,
    "start_time": "2022-05-19T19:18:20.851Z"
   },
   {
    "duration": 76,
    "start_time": "2022-05-19T19:18:20.886Z"
   },
   {
    "duration": 1109,
    "start_time": "2022-05-19T19:18:20.965Z"
   },
   {
    "duration": 70991,
    "start_time": "2022-05-19T19:18:22.076Z"
   },
   {
    "duration": 45,
    "start_time": "2022-05-19T19:19:33.069Z"
   },
   {
    "duration": 55,
    "start_time": "2022-05-19T19:20:13.824Z"
   },
   {
    "duration": 202,
    "start_time": "2022-05-19T19:21:57.887Z"
   },
   {
    "duration": 5,
    "start_time": "2022-05-19T19:39:23.548Z"
   },
   {
    "duration": 89,
    "start_time": "2022-05-19T19:41:54.211Z"
   },
   {
    "duration": 62,
    "start_time": "2022-05-19T19:42:17.877Z"
   },
   {
    "duration": 256,
    "start_time": "2022-05-19T19:43:38.770Z"
   },
   {
    "duration": 232,
    "start_time": "2022-05-19T19:43:52.844Z"
   },
   {
    "duration": 4,
    "start_time": "2022-05-19T19:44:43.135Z"
   },
   {
    "duration": 894,
    "start_time": "2022-05-19T19:44:43.144Z"
   },
   {
    "duration": 32,
    "start_time": "2022-05-19T19:44:44.039Z"
   },
   {
    "duration": 396,
    "start_time": "2022-05-19T19:44:44.072Z"
   },
   {
    "duration": 576,
    "start_time": "2022-05-19T19:44:44.470Z"
   },
   {
    "duration": 122,
    "start_time": "2022-05-19T19:44:45.047Z"
   },
   {
    "duration": 237,
    "start_time": "2022-05-19T19:44:45.171Z"
   },
   {
    "duration": 27,
    "start_time": "2022-05-19T19:44:45.410Z"
   },
   {
    "duration": 115,
    "start_time": "2022-05-19T19:44:45.438Z"
   },
   {
    "duration": 136,
    "start_time": "2022-05-19T19:44:45.555Z"
   },
   {
    "duration": 1230,
    "start_time": "2022-05-19T19:44:45.694Z"
   },
   {
    "duration": 13,
    "start_time": "2022-05-19T19:44:46.926Z"
   },
   {
    "duration": 32,
    "start_time": "2022-05-19T19:44:46.940Z"
   },
   {
    "duration": 83,
    "start_time": "2022-05-19T19:44:46.973Z"
   },
   {
    "duration": 9,
    "start_time": "2022-05-19T19:44:47.060Z"
   },
   {
    "duration": 11,
    "start_time": "2022-05-19T19:44:47.071Z"
   },
   {
    "duration": 38,
    "start_time": "2022-05-19T19:44:47.083Z"
   },
   {
    "duration": 77,
    "start_time": "2022-05-19T19:44:47.123Z"
   },
   {
    "duration": 108,
    "start_time": "2022-05-19T19:44:47.202Z"
   },
   {
    "duration": 155,
    "start_time": "2022-05-19T19:44:47.311Z"
   },
   {
    "duration": 116,
    "start_time": "2022-05-19T19:44:47.467Z"
   },
   {
    "duration": 308,
    "start_time": "2022-05-19T19:44:47.584Z"
   },
   {
    "duration": 24,
    "start_time": "2022-05-19T19:44:47.894Z"
   },
   {
    "duration": 126,
    "start_time": "2022-05-19T19:44:47.920Z"
   },
   {
    "duration": 168,
    "start_time": "2022-05-19T19:44:48.048Z"
   },
   {
    "duration": 214,
    "start_time": "2022-05-19T19:44:48.218Z"
   },
   {
    "duration": 35,
    "start_time": "2022-05-19T19:44:48.433Z"
   },
   {
    "duration": 379,
    "start_time": "2022-05-19T19:44:48.469Z"
   },
   {
    "duration": 38,
    "start_time": "2022-05-19T19:44:48.852Z"
   },
   {
    "duration": 72,
    "start_time": "2022-05-19T19:44:48.892Z"
   },
   {
    "duration": 1035,
    "start_time": "2022-05-19T19:44:48.969Z"
   },
   {
    "duration": 74804,
    "start_time": "2022-05-19T19:44:50.005Z"
   },
   {
    "duration": 58,
    "start_time": "2022-05-19T19:46:04.811Z"
   },
   {
    "duration": 62,
    "start_time": "2022-05-19T19:53:10.611Z"
   },
   {
    "duration": 1432,
    "start_time": "2022-05-20T04:11:23.859Z"
   },
   {
    "duration": 1263,
    "start_time": "2022-05-20T04:11:25.293Z"
   },
   {
    "duration": 20,
    "start_time": "2022-05-20T04:11:26.558Z"
   },
   {
    "duration": 481,
    "start_time": "2022-05-20T04:11:26.580Z"
   },
   {
    "duration": 667,
    "start_time": "2022-05-20T04:11:27.063Z"
   },
   {
    "duration": 115,
    "start_time": "2022-05-20T04:11:27.732Z"
   },
   {
    "duration": 210,
    "start_time": "2022-05-20T04:11:27.849Z"
   },
   {
    "duration": 31,
    "start_time": "2022-05-20T04:11:28.060Z"
   },
   {
    "duration": 102,
    "start_time": "2022-05-20T04:11:28.093Z"
   },
   {
    "duration": 121,
    "start_time": "2022-05-20T04:11:28.198Z"
   },
   {
    "duration": 1053,
    "start_time": "2022-05-20T04:11:28.327Z"
   },
   {
    "duration": 16,
    "start_time": "2022-05-20T04:11:29.382Z"
   },
   {
    "duration": 40,
    "start_time": "2022-05-20T04:11:29.399Z"
   },
   {
    "duration": 86,
    "start_time": "2022-05-20T04:11:29.441Z"
   },
   {
    "duration": 7,
    "start_time": "2022-05-20T04:11:29.529Z"
   },
   {
    "duration": 22,
    "start_time": "2022-05-20T04:11:29.537Z"
   },
   {
    "duration": 31,
    "start_time": "2022-05-20T04:11:29.561Z"
   },
   {
    "duration": 79,
    "start_time": "2022-05-20T04:11:29.594Z"
   },
   {
    "duration": 109,
    "start_time": "2022-05-20T04:11:29.675Z"
   },
   {
    "duration": 122,
    "start_time": "2022-05-20T04:11:29.786Z"
   },
   {
    "duration": 113,
    "start_time": "2022-05-20T04:11:29.927Z"
   },
   {
    "duration": 270,
    "start_time": "2022-05-20T04:11:30.041Z"
   },
   {
    "duration": 27,
    "start_time": "2022-05-20T04:11:30.312Z"
   },
   {
    "duration": 137,
    "start_time": "2022-05-20T04:11:30.340Z"
   },
   {
    "duration": 144,
    "start_time": "2022-05-20T04:11:30.479Z"
   },
   {
    "duration": 225,
    "start_time": "2022-05-20T04:11:30.627Z"
   },
   {
    "duration": 25,
    "start_time": "2022-05-20T04:11:30.853Z"
   },
   {
    "duration": 390,
    "start_time": "2022-05-20T04:11:30.881Z"
   },
   {
    "duration": 38,
    "start_time": "2022-05-20T04:11:31.273Z"
   },
   {
    "duration": 72,
    "start_time": "2022-05-20T04:11:31.313Z"
   },
   {
    "duration": 1012,
    "start_time": "2022-05-20T04:11:31.387Z"
   },
   {
    "duration": 69337,
    "start_time": "2022-05-20T04:11:32.401Z"
   },
   {
    "duration": 1191,
    "start_time": "2022-05-20T04:12:41.740Z"
   },
   {
    "duration": 283,
    "start_time": "2022-05-20T04:12:42.933Z"
   },
   {
    "duration": 8944,
    "start_time": "2022-05-20T04:12:43.217Z"
   },
   {
    "duration": 1443,
    "start_time": "2022-05-22T19:05:06.775Z"
   },
   {
    "duration": 2834,
    "start_time": "2022-05-22T19:05:08.220Z"
   },
   {
    "duration": 17,
    "start_time": "2022-05-22T19:05:11.056Z"
   },
   {
    "duration": 399,
    "start_time": "2022-05-22T19:05:11.075Z"
   },
   {
    "duration": 645,
    "start_time": "2022-05-22T19:05:11.475Z"
   },
   {
    "duration": 121,
    "start_time": "2022-05-22T19:05:12.122Z"
   },
   {
    "duration": 202,
    "start_time": "2022-05-22T19:05:12.245Z"
   },
   {
    "duration": 32,
    "start_time": "2022-05-22T19:05:12.448Z"
   },
   {
    "duration": 99,
    "start_time": "2022-05-22T19:05:12.482Z"
   },
   {
    "duration": 117,
    "start_time": "2022-05-22T19:05:12.583Z"
   },
   {
    "duration": 954,
    "start_time": "2022-05-22T19:05:12.701Z"
   },
   {
    "duration": 18,
    "start_time": "2022-05-22T19:05:13.660Z"
   },
   {
    "duration": 31,
    "start_time": "2022-05-22T19:05:13.680Z"
   },
   {
    "duration": 107,
    "start_time": "2022-05-22T19:05:13.713Z"
   },
   {
    "duration": 8,
    "start_time": "2022-05-22T19:05:13.821Z"
   },
   {
    "duration": 6,
    "start_time": "2022-05-22T19:05:13.831Z"
   },
   {
    "duration": 48,
    "start_time": "2022-05-22T19:05:13.838Z"
   },
   {
    "duration": 79,
    "start_time": "2022-05-22T19:05:13.888Z"
   },
   {
    "duration": 106,
    "start_time": "2022-05-22T19:05:13.969Z"
   },
   {
    "duration": 118,
    "start_time": "2022-05-22T19:05:14.077Z"
   },
   {
    "duration": 110,
    "start_time": "2022-05-22T19:05:14.196Z"
   },
   {
    "duration": 258,
    "start_time": "2022-05-22T19:05:14.307Z"
   },
   {
    "duration": 23,
    "start_time": "2022-05-22T19:05:14.567Z"
   },
   {
    "duration": 132,
    "start_time": "2022-05-22T19:05:14.591Z"
   },
   {
    "duration": 132,
    "start_time": "2022-05-22T19:05:14.724Z"
   },
   {
    "duration": 226,
    "start_time": "2022-05-22T19:05:14.859Z"
   },
   {
    "duration": 25,
    "start_time": "2022-05-22T19:05:15.087Z"
   },
   {
    "duration": 367,
    "start_time": "2022-05-22T19:05:15.115Z"
   },
   {
    "duration": 33,
    "start_time": "2022-05-22T19:05:15.484Z"
   },
   {
    "duration": 69,
    "start_time": "2022-05-22T19:05:15.519Z"
   },
   {
    "duration": 939,
    "start_time": "2022-05-22T19:05:15.590Z"
   },
   {
    "duration": 64917,
    "start_time": "2022-05-22T19:05:16.530Z"
   },
   {
    "duration": 1211,
    "start_time": "2022-05-22T19:06:21.449Z"
   },
   {
    "duration": 194,
    "start_time": "2022-05-22T19:06:22.661Z"
   },
   {
    "duration": 8625,
    "start_time": "2022-05-22T19:06:22.859Z"
   },
   {
    "duration": 181,
    "start_time": "2022-05-22T19:13:38.303Z"
   },
   {
    "duration": 92,
    "start_time": "2022-05-22T19:14:19.507Z"
   },
   {
    "duration": 5,
    "start_time": "2022-05-22T19:14:30.259Z"
   },
   {
    "duration": 908,
    "start_time": "2022-05-22T19:14:30.268Z"
   },
   {
    "duration": 17,
    "start_time": "2022-05-22T19:14:31.178Z"
   },
   {
    "duration": 427,
    "start_time": "2022-05-22T19:14:31.196Z"
   },
   {
    "duration": 625,
    "start_time": "2022-05-22T19:14:31.626Z"
   },
   {
    "duration": 112,
    "start_time": "2022-05-22T19:14:32.253Z"
   },
   {
    "duration": 197,
    "start_time": "2022-05-22T19:14:32.366Z"
   },
   {
    "duration": 22,
    "start_time": "2022-05-22T19:14:32.565Z"
   },
   {
    "duration": 94,
    "start_time": "2022-05-22T19:14:32.589Z"
   },
   {
    "duration": 125,
    "start_time": "2022-05-22T19:14:32.684Z"
   },
   {
    "duration": 1087,
    "start_time": "2022-05-22T19:14:32.811Z"
   },
   {
    "duration": 13,
    "start_time": "2022-05-22T19:14:33.899Z"
   },
   {
    "duration": 19,
    "start_time": "2022-05-22T19:14:33.914Z"
   },
   {
    "duration": 95,
    "start_time": "2022-05-22T19:14:33.934Z"
   },
   {
    "duration": 7,
    "start_time": "2022-05-22T19:14:34.030Z"
   },
   {
    "duration": 23,
    "start_time": "2022-05-22T19:14:34.039Z"
   },
   {
    "duration": 21,
    "start_time": "2022-05-22T19:14:34.064Z"
   },
   {
    "duration": 84,
    "start_time": "2022-05-22T19:14:34.087Z"
   },
   {
    "duration": 102,
    "start_time": "2022-05-22T19:14:34.173Z"
   },
   {
    "duration": 130,
    "start_time": "2022-05-22T19:14:34.276Z"
   },
   {
    "duration": 122,
    "start_time": "2022-05-22T19:14:34.407Z"
   },
   {
    "duration": 268,
    "start_time": "2022-05-22T19:14:34.530Z"
   },
   {
    "duration": 25,
    "start_time": "2022-05-22T19:14:34.799Z"
   },
   {
    "duration": 134,
    "start_time": "2022-05-22T19:14:34.825Z"
   },
   {
    "duration": 156,
    "start_time": "2022-05-22T19:14:34.961Z"
   },
   {
    "duration": 209,
    "start_time": "2022-05-22T19:14:35.119Z"
   },
   {
    "duration": 34,
    "start_time": "2022-05-22T19:14:35.330Z"
   },
   {
    "duration": 382,
    "start_time": "2022-05-22T19:14:35.366Z"
   },
   {
    "duration": 36,
    "start_time": "2022-05-22T19:14:35.751Z"
   },
   {
    "duration": 51,
    "start_time": "2022-05-22T19:14:35.788Z"
   },
   {
    "duration": 955,
    "start_time": "2022-05-22T19:14:35.841Z"
   },
   {
    "duration": 68272,
    "start_time": "2022-05-22T19:14:36.797Z"
   },
   {
    "duration": 67,
    "start_time": "2022-05-22T19:18:07.296Z"
   },
   {
    "duration": 1222,
    "start_time": "2022-05-22T19:18:49.672Z"
   },
   {
    "duration": 945,
    "start_time": "2022-05-22T19:18:50.896Z"
   },
   {
    "duration": 35,
    "start_time": "2022-05-22T19:18:51.843Z"
   },
   {
    "duration": 507,
    "start_time": "2022-05-22T19:18:51.881Z"
   },
   {
    "duration": 738,
    "start_time": "2022-05-22T19:18:52.389Z"
   },
   {
    "duration": 134,
    "start_time": "2022-05-22T19:18:53.129Z"
   },
   {
    "duration": 236,
    "start_time": "2022-05-22T19:18:53.265Z"
   },
   {
    "duration": 33,
    "start_time": "2022-05-22T19:18:53.503Z"
   },
   {
    "duration": 106,
    "start_time": "2022-05-22T19:18:53.538Z"
   },
   {
    "duration": 133,
    "start_time": "2022-05-22T19:18:53.646Z"
   },
   {
    "duration": 1884,
    "start_time": "2022-05-22T19:18:53.781Z"
   },
   {
    "duration": 21,
    "start_time": "2022-05-22T19:18:55.667Z"
   },
   {
    "duration": 93,
    "start_time": "2022-05-22T19:18:55.691Z"
   },
   {
    "duration": 200,
    "start_time": "2022-05-22T19:18:55.786Z"
   },
   {
    "duration": 7,
    "start_time": "2022-05-22T19:18:55.988Z"
   },
   {
    "duration": 62,
    "start_time": "2022-05-22T19:18:55.997Z"
   },
   {
    "duration": 39,
    "start_time": "2022-05-22T19:18:56.061Z"
   },
   {
    "duration": 189,
    "start_time": "2022-05-22T19:18:56.102Z"
   },
   {
    "duration": 217,
    "start_time": "2022-05-22T19:18:56.293Z"
   },
   {
    "duration": 223,
    "start_time": "2022-05-22T19:18:56.511Z"
   },
   {
    "duration": 141,
    "start_time": "2022-05-22T19:18:56.736Z"
   },
   {
    "duration": 288,
    "start_time": "2022-05-22T19:18:56.879Z"
   },
   {
    "duration": 28,
    "start_time": "2022-05-22T19:18:57.168Z"
   },
   {
    "duration": 153,
    "start_time": "2022-05-22T19:18:57.198Z"
   },
   {
    "duration": 163,
    "start_time": "2022-05-22T19:18:57.353Z"
   },
   {
    "duration": 376,
    "start_time": "2022-05-22T19:18:57.518Z"
   },
   {
    "duration": 33,
    "start_time": "2022-05-22T19:18:57.896Z"
   },
   {
    "duration": 502,
    "start_time": "2022-05-22T19:18:57.933Z"
   },
   {
    "duration": 48,
    "start_time": "2022-05-22T19:18:58.437Z"
   },
   {
    "duration": 86,
    "start_time": "2022-05-22T19:18:58.487Z"
   },
   {
    "duration": 1007,
    "start_time": "2022-05-22T19:18:58.575Z"
   },
   {
    "duration": 69080,
    "start_time": "2022-05-22T19:18:59.584Z"
   },
   {
    "duration": 1104,
    "start_time": "2022-05-22T19:20:08.667Z"
   },
   {
    "duration": 322,
    "start_time": "2022-05-22T19:20:09.773Z"
   },
   {
    "duration": 9007,
    "start_time": "2022-05-22T19:20:10.096Z"
   },
   {
    "duration": 1259,
    "start_time": "2022-05-22T19:20:31.794Z"
   },
   {
    "duration": 913,
    "start_time": "2022-05-22T19:20:33.055Z"
   },
   {
    "duration": 18,
    "start_time": "2022-05-22T19:20:33.970Z"
   },
   {
    "duration": 459,
    "start_time": "2022-05-22T19:20:33.990Z"
   },
   {
    "duration": 628,
    "start_time": "2022-05-22T19:20:34.451Z"
   },
   {
    "duration": 112,
    "start_time": "2022-05-22T19:20:35.081Z"
   },
   {
    "duration": 203,
    "start_time": "2022-05-22T19:20:35.195Z"
   },
   {
    "duration": 30,
    "start_time": "2022-05-22T19:20:35.400Z"
   },
   {
    "duration": 95,
    "start_time": "2022-05-22T19:20:35.432Z"
   },
   {
    "duration": 121,
    "start_time": "2022-05-22T19:20:35.529Z"
   },
   {
    "duration": 1033,
    "start_time": "2022-05-22T19:20:35.651Z"
   },
   {
    "duration": 15,
    "start_time": "2022-05-22T19:20:36.686Z"
   },
   {
    "duration": 27,
    "start_time": "2022-05-22T19:20:36.702Z"
   },
   {
    "duration": 96,
    "start_time": "2022-05-22T19:20:36.730Z"
   },
   {
    "duration": 6,
    "start_time": "2022-05-22T19:20:36.828Z"
   },
   {
    "duration": 6,
    "start_time": "2022-05-22T19:20:36.836Z"
   },
   {
    "duration": 29,
    "start_time": "2022-05-22T19:20:36.859Z"
   },
   {
    "duration": 82,
    "start_time": "2022-05-22T19:20:36.890Z"
   },
   {
    "duration": 109,
    "start_time": "2022-05-22T19:20:36.973Z"
   },
   {
    "duration": 125,
    "start_time": "2022-05-22T19:20:37.084Z"
   },
   {
    "duration": 123,
    "start_time": "2022-05-22T19:20:37.211Z"
   },
   {
    "duration": 280,
    "start_time": "2022-05-22T19:20:37.336Z"
   },
   {
    "duration": 24,
    "start_time": "2022-05-22T19:20:37.618Z"
   },
   {
    "duration": 172,
    "start_time": "2022-05-22T19:20:37.644Z"
   },
   {
    "duration": 170,
    "start_time": "2022-05-22T19:20:37.818Z"
   },
   {
    "duration": 244,
    "start_time": "2022-05-22T19:20:37.989Z"
   },
   {
    "duration": 33,
    "start_time": "2022-05-22T19:20:38.235Z"
   },
   {
    "duration": 366,
    "start_time": "2022-05-22T19:20:38.271Z"
   },
   {
    "duration": 43,
    "start_time": "2022-05-22T19:20:38.639Z"
   },
   {
    "duration": 59,
    "start_time": "2022-05-22T19:20:38.683Z"
   },
   {
    "duration": 972,
    "start_time": "2022-05-22T19:20:38.744Z"
   },
   {
    "duration": 69818,
    "start_time": "2022-05-22T19:20:39.718Z"
   },
   {
    "duration": 1232,
    "start_time": "2022-05-22T19:21:49.538Z"
   },
   {
    "duration": 359,
    "start_time": "2022-05-22T19:21:50.772Z"
   },
   {
    "duration": 10026,
    "start_time": "2022-05-22T19:21:51.137Z"
   },
   {
    "duration": 20,
    "start_time": "2022-05-22T19:28:15.985Z"
   },
   {
    "duration": 27,
    "start_time": "2022-05-22T19:29:11.677Z"
   },
   {
    "duration": 499,
    "start_time": "2022-05-22T19:30:57.904Z"
   },
   {
    "duration": 525,
    "start_time": "2022-05-22T19:31:49.392Z"
   },
   {
    "duration": 3,
    "start_time": "2022-05-22T19:33:12.220Z"
   },
   {
    "duration": 22,
    "start_time": "2022-05-22T19:33:58.392Z"
   },
   {
    "duration": 107,
    "start_time": "2022-05-22T19:34:14.488Z"
   },
   {
    "duration": 222,
    "start_time": "2022-05-22T19:34:20.978Z"
   },
   {
    "duration": 545,
    "start_time": "2022-05-22T19:41:33.158Z"
   },
   {
    "duration": 611,
    "start_time": "2022-05-22T19:42:51.877Z"
   },
   {
    "duration": 826,
    "start_time": "2022-05-22T19:42:57.437Z"
   },
   {
    "duration": 685,
    "start_time": "2022-05-22T19:43:29.646Z"
   },
   {
    "duration": 746,
    "start_time": "2022-05-22T19:43:39.377Z"
   },
   {
    "duration": 721,
    "start_time": "2022-05-22T19:43:45.619Z"
   },
   {
    "duration": 767,
    "start_time": "2022-05-22T19:43:53.413Z"
   },
   {
    "duration": 816,
    "start_time": "2022-05-22T19:44:20.916Z"
   },
   {
    "duration": 420,
    "start_time": "2022-05-22T19:45:45.520Z"
   },
   {
    "duration": 122574,
    "start_time": "2022-05-22T19:46:12.299Z"
   },
   {
    "duration": 28407,
    "start_time": "2022-05-22T20:00:28.893Z"
   },
   {
    "duration": 1415,
    "start_time": "2022-05-23T03:41:42.775Z"
   },
   {
    "duration": 1114,
    "start_time": "2022-05-23T03:41:44.192Z"
   },
   {
    "duration": 27,
    "start_time": "2022-05-23T03:41:45.308Z"
   },
   {
    "duration": 466,
    "start_time": "2022-05-23T03:41:45.338Z"
   },
   {
    "duration": 621,
    "start_time": "2022-05-23T03:41:45.806Z"
   },
   {
    "duration": 98,
    "start_time": "2022-05-23T03:41:46.429Z"
   },
   {
    "duration": 172,
    "start_time": "2022-05-23T03:41:46.529Z"
   },
   {
    "duration": 30,
    "start_time": "2022-05-23T03:41:46.703Z"
   },
   {
    "duration": 89,
    "start_time": "2022-05-23T03:41:46.735Z"
   },
   {
    "duration": 132,
    "start_time": "2022-05-23T03:41:46.827Z"
   },
   {
    "duration": 1027,
    "start_time": "2022-05-23T03:41:46.961Z"
   },
   {
    "duration": 15,
    "start_time": "2022-05-23T03:41:47.990Z"
   },
   {
    "duration": 46,
    "start_time": "2022-05-23T03:41:48.006Z"
   },
   {
    "duration": 68,
    "start_time": "2022-05-23T03:41:48.054Z"
   },
   {
    "duration": 8,
    "start_time": "2022-05-23T03:41:48.124Z"
   },
   {
    "duration": 8,
    "start_time": "2022-05-23T03:41:48.153Z"
   },
   {
    "duration": 31,
    "start_time": "2022-05-23T03:41:48.162Z"
   },
   {
    "duration": 82,
    "start_time": "2022-05-23T03:41:48.195Z"
   },
   {
    "duration": 101,
    "start_time": "2022-05-23T03:41:48.279Z"
   },
   {
    "duration": 128,
    "start_time": "2022-05-23T03:41:48.382Z"
   },
   {
    "duration": 113,
    "start_time": "2022-05-23T03:41:48.512Z"
   },
   {
    "duration": 286,
    "start_time": "2022-05-23T03:41:48.627Z"
   },
   {
    "duration": 24,
    "start_time": "2022-05-23T03:41:48.915Z"
   },
   {
    "duration": 127,
    "start_time": "2022-05-23T03:41:48.940Z"
   },
   {
    "duration": 147,
    "start_time": "2022-05-23T03:41:49.069Z"
   },
   {
    "duration": 227,
    "start_time": "2022-05-23T03:41:49.218Z"
   },
   {
    "duration": 29,
    "start_time": "2022-05-23T03:41:49.447Z"
   },
   {
    "duration": 427,
    "start_time": "2022-05-23T03:41:49.479Z"
   },
   {
    "duration": 47,
    "start_time": "2022-05-23T03:41:49.908Z"
   },
   {
    "duration": 64,
    "start_time": "2022-05-23T03:41:49.957Z"
   },
   {
    "duration": 1037,
    "start_time": "2022-05-23T03:41:50.023Z"
   },
   {
    "duration": 66339,
    "start_time": "2022-05-23T03:41:51.061Z"
   },
   {
    "duration": 535,
    "start_time": "2022-05-23T03:42:57.402Z"
   },
   {
    "duration": 411,
    "start_time": "2022-05-23T03:42:57.939Z"
   },
   {
    "duration": 17902,
    "start_time": "2022-05-23T03:42:58.351Z"
   },
   {
    "duration": 266598,
    "start_time": "2022-05-23T03:43:16.254Z"
   },
   {
    "duration": 283,
    "start_time": "2022-05-23T03:47:42.854Z"
   },
   {
    "duration": 9114,
    "start_time": "2022-05-23T03:47:43.139Z"
   },
   {
    "duration": 15222,
    "start_time": "2022-05-23T03:51:48.863Z"
   },
   {
    "duration": 1320,
    "start_time": "2022-05-23T04:24:22.782Z"
   },
   {
    "duration": 986,
    "start_time": "2022-05-23T04:24:24.104Z"
   },
   {
    "duration": 19,
    "start_time": "2022-05-23T04:24:25.092Z"
   },
   {
    "duration": 576,
    "start_time": "2022-05-23T04:24:25.114Z"
   },
   {
    "duration": 729,
    "start_time": "2022-05-23T04:24:25.691Z"
   },
   {
    "duration": 109,
    "start_time": "2022-05-23T04:24:26.422Z"
   },
   {
    "duration": 207,
    "start_time": "2022-05-23T04:24:26.533Z"
   },
   {
    "duration": 41,
    "start_time": "2022-05-23T04:24:26.742Z"
   },
   {
    "duration": 87,
    "start_time": "2022-05-23T04:24:26.784Z"
   },
   {
    "duration": 135,
    "start_time": "2022-05-23T04:24:26.874Z"
   },
   {
    "duration": 1239,
    "start_time": "2022-05-23T04:24:27.011Z"
   },
   {
    "duration": 21,
    "start_time": "2022-05-23T04:24:28.252Z"
   },
   {
    "duration": 52,
    "start_time": "2022-05-23T04:24:28.275Z"
   },
   {
    "duration": 88,
    "start_time": "2022-05-23T04:24:28.328Z"
   },
   {
    "duration": 7,
    "start_time": "2022-05-23T04:24:28.418Z"
   },
   {
    "duration": 17,
    "start_time": "2022-05-23T04:24:28.427Z"
   },
   {
    "duration": 44,
    "start_time": "2022-05-23T04:24:28.446Z"
   },
   {
    "duration": 82,
    "start_time": "2022-05-23T04:24:28.491Z"
   },
   {
    "duration": 120,
    "start_time": "2022-05-23T04:24:28.578Z"
   },
   {
    "duration": 152,
    "start_time": "2022-05-23T04:24:28.700Z"
   },
   {
    "duration": 140,
    "start_time": "2022-05-23T04:24:28.853Z"
   },
   {
    "duration": 341,
    "start_time": "2022-05-23T04:24:28.995Z"
   },
   {
    "duration": 35,
    "start_time": "2022-05-23T04:24:29.338Z"
   },
   {
    "duration": 143,
    "start_time": "2022-05-23T04:24:29.375Z"
   },
   {
    "duration": 170,
    "start_time": "2022-05-23T04:24:29.519Z"
   },
   {
    "duration": 254,
    "start_time": "2022-05-23T04:24:29.690Z"
   },
   {
    "duration": 35,
    "start_time": "2022-05-23T04:24:29.946Z"
   },
   {
    "duration": 484,
    "start_time": "2022-05-23T04:24:29.985Z"
   },
   {
    "duration": 41,
    "start_time": "2022-05-23T04:24:30.472Z"
   },
   {
    "duration": 81,
    "start_time": "2022-05-23T04:24:30.515Z"
   },
   {
    "duration": 1211,
    "start_time": "2022-05-23T04:24:30.598Z"
   },
   {
    "duration": 75722,
    "start_time": "2022-05-23T04:24:31.810Z"
   },
   {
    "duration": 634,
    "start_time": "2022-05-23T04:25:47.533Z"
   },
   {
    "duration": 422,
    "start_time": "2022-05-23T04:25:48.169Z"
   },
   {
    "duration": 21662,
    "start_time": "2022-05-23T04:25:48.593Z"
   },
   {
    "duration": 301600,
    "start_time": "2022-05-23T04:26:10.260Z"
   },
   {
    "duration": 307,
    "start_time": "2022-05-23T04:31:11.863Z"
   },
   {
    "duration": 210,
    "start_time": "2022-05-23T04:31:12.172Z"
   },
   {
    "duration": 0,
    "start_time": "2022-05-23T04:31:12.384Z"
   },
   {
    "duration": 0,
    "start_time": "2022-05-23T04:31:12.385Z"
   },
   {
    "duration": 0,
    "start_time": "2022-05-23T04:31:12.386Z"
   },
   {
    "duration": 0,
    "start_time": "2022-05-23T04:31:12.387Z"
   },
   {
    "duration": 0,
    "start_time": "2022-05-23T04:31:12.388Z"
   },
   {
    "duration": 1680,
    "start_time": "2022-05-23T18:13:45.517Z"
   },
   {
    "duration": 1428,
    "start_time": "2022-05-23T18:14:10.614Z"
   },
   {
    "duration": 1094,
    "start_time": "2022-05-23T18:14:12.044Z"
   },
   {
    "duration": 20,
    "start_time": "2022-05-23T18:14:13.140Z"
   },
   {
    "duration": 583,
    "start_time": "2022-05-23T18:14:13.162Z"
   },
   {
    "duration": 887,
    "start_time": "2022-05-23T18:14:13.747Z"
   },
   {
    "duration": 158,
    "start_time": "2022-05-23T18:14:14.636Z"
   },
   {
    "duration": 247,
    "start_time": "2022-05-23T18:14:14.796Z"
   },
   {
    "duration": 68,
    "start_time": "2022-05-23T18:14:15.045Z"
   },
   {
    "duration": 103,
    "start_time": "2022-05-23T18:14:15.115Z"
   },
   {
    "duration": 146,
    "start_time": "2022-05-23T18:14:15.222Z"
   },
   {
    "duration": 1265,
    "start_time": "2022-05-23T18:14:15.370Z"
   },
   {
    "duration": 18,
    "start_time": "2022-05-23T18:14:16.637Z"
   },
   {
    "duration": 64,
    "start_time": "2022-05-23T18:14:16.657Z"
   },
   {
    "duration": 116,
    "start_time": "2022-05-23T18:14:16.723Z"
   },
   {
    "duration": 9,
    "start_time": "2022-05-23T18:14:16.841Z"
   },
   {
    "duration": 7,
    "start_time": "2022-05-23T18:14:16.854Z"
   },
   {
    "duration": 68,
    "start_time": "2022-05-23T18:14:16.862Z"
   },
   {
    "duration": 109,
    "start_time": "2022-05-23T18:14:16.932Z"
   },
   {
    "duration": 119,
    "start_time": "2022-05-23T18:14:17.042Z"
   },
   {
    "duration": 171,
    "start_time": "2022-05-23T18:14:17.163Z"
   },
   {
    "duration": 137,
    "start_time": "2022-05-23T18:14:17.336Z"
   },
   {
    "duration": 365,
    "start_time": "2022-05-23T18:14:17.474Z"
   },
   {
    "duration": 28,
    "start_time": "2022-05-23T18:14:17.840Z"
   },
   {
    "duration": 189,
    "start_time": "2022-05-23T18:14:17.869Z"
   },
   {
    "duration": 210,
    "start_time": "2022-05-23T18:14:18.061Z"
   },
   {
    "duration": 307,
    "start_time": "2022-05-23T18:14:18.283Z"
   },
   {
    "duration": 39,
    "start_time": "2022-05-23T18:14:18.592Z"
   },
   {
    "duration": 459,
    "start_time": "2022-05-23T18:14:18.634Z"
   },
   {
    "duration": 44,
    "start_time": "2022-05-23T18:14:19.094Z"
   },
   {
    "duration": 85,
    "start_time": "2022-05-23T18:14:19.140Z"
   },
   {
    "duration": 1204,
    "start_time": "2022-05-23T18:14:19.226Z"
   },
   {
    "duration": 82611,
    "start_time": "2022-05-23T18:14:20.432Z"
   },
   {
    "duration": 744,
    "start_time": "2022-05-23T18:15:43.046Z"
   },
   {
    "duration": 493,
    "start_time": "2022-05-23T18:15:43.792Z"
   },
   {
    "duration": 37007,
    "start_time": "2022-05-23T18:15:44.295Z"
   },
   {
    "duration": 397385,
    "start_time": "2022-05-23T18:16:21.304Z"
   },
   {
    "duration": 217,
    "start_time": "2022-05-23T18:22:58.691Z"
   },
   {
    "duration": 196,
    "start_time": "2022-05-23T18:22:58.910Z"
   },
   {
    "duration": 0,
    "start_time": "2022-05-23T18:22:59.107Z"
   },
   {
    "duration": 0,
    "start_time": "2022-05-23T18:22:59.108Z"
   },
   {
    "duration": 0,
    "start_time": "2022-05-23T18:22:59.110Z"
   },
   {
    "duration": 0,
    "start_time": "2022-05-23T18:22:59.111Z"
   },
   {
    "duration": 0,
    "start_time": "2022-05-23T18:22:59.112Z"
   },
   {
    "duration": 314,
    "start_time": "2022-05-23T18:30:41.701Z"
   },
   {
    "duration": 342,
    "start_time": "2022-05-23T18:31:01.108Z"
   },
   {
    "duration": 13238,
    "start_time": "2022-05-23T18:31:29.305Z"
   },
   {
    "duration": 14047,
    "start_time": "2022-05-23T18:32:31.277Z"
   },
   {
    "duration": 16,
    "start_time": "2022-05-23T18:32:45.327Z"
   },
   {
    "duration": 0,
    "start_time": "2022-05-23T18:32:45.345Z"
   },
   {
    "duration": 0,
    "start_time": "2022-05-23T18:32:45.347Z"
   },
   {
    "duration": 0,
    "start_time": "2022-05-23T18:32:45.349Z"
   },
   {
    "duration": 0,
    "start_time": "2022-05-23T18:32:45.350Z"
   },
   {
    "duration": 5,
    "start_time": "2022-05-23T18:33:18.922Z"
   },
   {
    "duration": 5,
    "start_time": "2022-05-23T18:33:38.135Z"
   },
   {
    "duration": 1733,
    "start_time": "2022-05-23T18:33:45.107Z"
   },
   {
    "duration": 1255,
    "start_time": "2022-05-23T18:35:50.326Z"
   },
   {
    "duration": 1069,
    "start_time": "2022-05-23T18:35:51.582Z"
   },
   {
    "duration": 20,
    "start_time": "2022-05-23T18:35:52.653Z"
   },
   {
    "duration": 519,
    "start_time": "2022-05-23T18:35:52.684Z"
   },
   {
    "duration": 741,
    "start_time": "2022-05-23T18:35:53.204Z"
   },
   {
    "duration": 150,
    "start_time": "2022-05-23T18:35:53.947Z"
   },
   {
    "duration": 221,
    "start_time": "2022-05-23T18:35:54.104Z"
   },
   {
    "duration": 36,
    "start_time": "2022-05-23T18:35:54.327Z"
   },
   {
    "duration": 126,
    "start_time": "2022-05-23T18:35:54.364Z"
   },
   {
    "duration": 132,
    "start_time": "2022-05-23T18:35:54.494Z"
   },
   {
    "duration": 1121,
    "start_time": "2022-05-23T18:35:54.628Z"
   },
   {
    "duration": 18,
    "start_time": "2022-05-23T18:35:55.751Z"
   },
   {
    "duration": 46,
    "start_time": "2022-05-23T18:35:55.771Z"
   },
   {
    "duration": 102,
    "start_time": "2022-05-23T18:35:55.819Z"
   },
   {
    "duration": 7,
    "start_time": "2022-05-23T18:35:55.923Z"
   },
   {
    "duration": 6,
    "start_time": "2022-05-23T18:35:55.932Z"
   },
   {
    "duration": 60,
    "start_time": "2022-05-23T18:35:55.940Z"
   },
   {
    "duration": 115,
    "start_time": "2022-05-23T18:35:56.005Z"
   },
   {
    "duration": 135,
    "start_time": "2022-05-23T18:35:56.122Z"
   },
   {
    "duration": 160,
    "start_time": "2022-05-23T18:35:56.259Z"
   },
   {
    "duration": 133,
    "start_time": "2022-05-23T18:35:56.421Z"
   },
   {
    "duration": 324,
    "start_time": "2022-05-23T18:35:56.556Z"
   },
   {
    "duration": 34,
    "start_time": "2022-05-23T18:35:56.883Z"
   },
   {
    "duration": 153,
    "start_time": "2022-05-23T18:35:56.919Z"
   },
   {
    "duration": 169,
    "start_time": "2022-05-23T18:35:57.073Z"
   },
   {
    "duration": 270,
    "start_time": "2022-05-23T18:35:57.244Z"
   },
   {
    "duration": 28,
    "start_time": "2022-05-23T18:35:57.517Z"
   },
   {
    "duration": 458,
    "start_time": "2022-05-23T18:35:57.549Z"
   },
   {
    "duration": 52,
    "start_time": "2022-05-23T18:35:58.009Z"
   },
   {
    "duration": 93,
    "start_time": "2022-05-23T18:35:58.063Z"
   },
   {
    "duration": 1084,
    "start_time": "2022-05-23T18:35:58.159Z"
   },
   {
    "duration": 75783,
    "start_time": "2022-05-23T18:35:59.244Z"
   },
   {
    "duration": 701,
    "start_time": "2022-05-23T18:37:15.029Z"
   },
   {
    "duration": 448,
    "start_time": "2022-05-23T18:37:15.732Z"
   },
   {
    "duration": 44205,
    "start_time": "2022-05-23T18:37:16.184Z"
   },
   {
    "duration": 392704,
    "start_time": "2022-05-23T18:38:00.391Z"
   },
   {
    "duration": 273,
    "start_time": "2022-05-23T18:44:33.097Z"
   },
   {
    "duration": 10315,
    "start_time": "2022-05-23T18:44:33.372Z"
   },
   {
    "duration": 1707,
    "start_time": "2022-05-23T18:44:43.689Z"
   },
   {
    "duration": 120687,
    "start_time": "2022-05-23T18:44:45.400Z"
   },
   {
    "duration": 0,
    "start_time": "2022-05-23T18:46:46.093Z"
   },
   {
    "duration": 0,
    "start_time": "2022-05-23T18:46:46.094Z"
   },
   {
    "duration": 0,
    "start_time": "2022-05-23T18:46:46.095Z"
   },
   {
    "duration": 0,
    "start_time": "2022-05-23T18:51:59.302Z"
   },
   {
    "duration": 0,
    "start_time": "2022-05-23T18:51:59.303Z"
   },
   {
    "duration": 0,
    "start_time": "2022-05-23T18:51:59.304Z"
   },
   {
    "duration": 0,
    "start_time": "2022-05-23T18:51:59.306Z"
   },
   {
    "duration": 1734,
    "start_time": "2022-05-23T18:52:53.385Z"
   },
   {
    "duration": 120503,
    "start_time": "2022-05-23T18:52:55.122Z"
   },
   {
    "duration": 12,
    "start_time": "2022-05-23T18:54:55.627Z"
   },
   {
    "duration": 0,
    "start_time": "2022-05-23T18:54:55.641Z"
   },
   {
    "duration": 0,
    "start_time": "2022-05-23T18:54:55.642Z"
   },
   {
    "duration": 77693,
    "start_time": "2022-05-23T18:56:19.803Z"
   },
   {
    "duration": 33148,
    "start_time": "2022-05-23T18:57:37.583Z"
   },
   {
    "duration": 14,
    "start_time": "2022-05-23T18:58:10.733Z"
   },
   {
    "duration": 9,
    "start_time": "2022-05-23T19:00:25.946Z"
   },
   {
    "duration": 11,
    "start_time": "2022-05-23T19:01:53.657Z"
   },
   {
    "duration": 10,
    "start_time": "2022-05-23T19:02:09.667Z"
   },
   {
    "duration": 1400,
    "start_time": "2022-05-23T19:15:01.064Z"
   },
   {
    "duration": 993,
    "start_time": "2022-05-23T19:15:02.466Z"
   },
   {
    "duration": 41,
    "start_time": "2022-05-23T19:15:03.461Z"
   },
   {
    "duration": 552,
    "start_time": "2022-05-23T19:15:03.505Z"
   },
   {
    "duration": 768,
    "start_time": "2022-05-23T19:15:04.059Z"
   },
   {
    "duration": 132,
    "start_time": "2022-05-23T19:15:04.829Z"
   },
   {
    "duration": 230,
    "start_time": "2022-05-23T19:15:04.962Z"
   },
   {
    "duration": 37,
    "start_time": "2022-05-23T19:15:05.197Z"
   },
   {
    "duration": 110,
    "start_time": "2022-05-23T19:15:05.236Z"
   },
   {
    "duration": 145,
    "start_time": "2022-05-23T19:15:05.348Z"
   },
   {
    "duration": 1076,
    "start_time": "2022-05-23T19:15:05.494Z"
   },
   {
    "duration": 28,
    "start_time": "2022-05-23T19:15:06.571Z"
   },
   {
    "duration": 31,
    "start_time": "2022-05-23T19:15:06.600Z"
   },
   {
    "duration": 105,
    "start_time": "2022-05-23T19:15:06.634Z"
   },
   {
    "duration": 8,
    "start_time": "2022-05-23T19:15:06.741Z"
   },
   {
    "duration": 9,
    "start_time": "2022-05-23T19:15:06.751Z"
   },
   {
    "duration": 50,
    "start_time": "2022-05-23T19:15:06.788Z"
   },
   {
    "duration": 98,
    "start_time": "2022-05-23T19:15:06.840Z"
   },
   {
    "duration": 128,
    "start_time": "2022-05-23T19:15:06.940Z"
   },
   {
    "duration": 146,
    "start_time": "2022-05-23T19:15:07.069Z"
   },
   {
    "duration": 122,
    "start_time": "2022-05-23T19:15:07.217Z"
   },
   {
    "duration": 318,
    "start_time": "2022-05-23T19:15:07.341Z"
   },
   {
    "duration": 34,
    "start_time": "2022-05-23T19:15:07.661Z"
   },
   {
    "duration": 155,
    "start_time": "2022-05-23T19:15:07.703Z"
   },
   {
    "duration": 200,
    "start_time": "2022-05-23T19:15:07.860Z"
   },
   {
    "duration": 284,
    "start_time": "2022-05-23T19:15:08.063Z"
   },
   {
    "duration": 51,
    "start_time": "2022-05-23T19:15:08.349Z"
   },
   {
    "duration": 401,
    "start_time": "2022-05-23T19:15:08.401Z"
   },
   {
    "duration": 38,
    "start_time": "2022-05-23T19:15:08.804Z"
   },
   {
    "duration": 80,
    "start_time": "2022-05-23T19:15:08.844Z"
   },
   {
    "duration": 1038,
    "start_time": "2022-05-23T19:15:08.926Z"
   },
   {
    "duration": 74264,
    "start_time": "2022-05-23T19:15:09.966Z"
   },
   {
    "duration": 667,
    "start_time": "2022-05-23T19:16:24.233Z"
   },
   {
    "duration": 452,
    "start_time": "2022-05-23T19:16:24.901Z"
   },
   {
    "duration": 41643,
    "start_time": "2022-05-23T19:16:25.355Z"
   },
   {
    "duration": 405089,
    "start_time": "2022-05-23T19:17:07.001Z"
   },
   {
    "duration": 291,
    "start_time": "2022-05-23T19:23:52.102Z"
   },
   {
    "duration": 13432,
    "start_time": "2022-05-23T19:23:52.395Z"
   },
   {
    "duration": 1979,
    "start_time": "2022-05-23T19:24:05.829Z"
   },
   {
    "duration": 128291,
    "start_time": "2022-05-23T19:24:07.810Z"
   },
   {
    "duration": 88322,
    "start_time": "2022-05-23T19:26:16.106Z"
   },
   {
    "duration": 32254,
    "start_time": "2022-05-23T19:27:44.485Z"
   },
   {
    "duration": 12,
    "start_time": "2022-05-23T19:28:16.740Z"
   },
   {
    "duration": 1577,
    "start_time": "2022-05-24T08:12:59.377Z"
   },
   {
    "duration": 3525,
    "start_time": "2022-05-24T08:13:00.956Z"
   },
   {
    "duration": 33,
    "start_time": "2022-05-24T08:13:04.483Z"
   },
   {
    "duration": 524,
    "start_time": "2022-05-24T08:13:04.518Z"
   },
   {
    "duration": 713,
    "start_time": "2022-05-24T08:13:05.044Z"
   },
   {
    "duration": 128,
    "start_time": "2022-05-24T08:13:05.758Z"
   },
   {
    "duration": 220,
    "start_time": "2022-05-24T08:13:05.888Z"
   },
   {
    "duration": 35,
    "start_time": "2022-05-24T08:13:06.110Z"
   },
   {
    "duration": 125,
    "start_time": "2022-05-24T08:13:06.147Z"
   },
   {
    "duration": 160,
    "start_time": "2022-05-24T08:13:06.275Z"
   },
   {
    "duration": 1227,
    "start_time": "2022-05-24T08:13:06.437Z"
   },
   {
    "duration": 23,
    "start_time": "2022-05-24T08:13:07.666Z"
   },
   {
    "duration": 32,
    "start_time": "2022-05-24T08:13:07.691Z"
   },
   {
    "duration": 133,
    "start_time": "2022-05-24T08:13:07.725Z"
   },
   {
    "duration": 23,
    "start_time": "2022-05-24T08:13:07.862Z"
   },
   {
    "duration": 8,
    "start_time": "2022-05-24T08:13:07.887Z"
   },
   {
    "duration": 43,
    "start_time": "2022-05-24T08:13:07.896Z"
   },
   {
    "duration": 158,
    "start_time": "2022-05-24T08:13:07.941Z"
   },
   {
    "duration": 142,
    "start_time": "2022-05-24T08:13:08.102Z"
   },
   {
    "duration": 147,
    "start_time": "2022-05-24T08:13:08.245Z"
   },
   {
    "duration": 147,
    "start_time": "2022-05-24T08:13:08.394Z"
   },
   {
    "duration": 338,
    "start_time": "2022-05-24T08:13:08.542Z"
   },
   {
    "duration": 28,
    "start_time": "2022-05-24T08:13:08.882Z"
   },
   {
    "duration": 177,
    "start_time": "2022-05-24T08:13:08.912Z"
   },
   {
    "duration": 165,
    "start_time": "2022-05-24T08:13:09.091Z"
   },
   {
    "duration": 286,
    "start_time": "2022-05-24T08:13:09.258Z"
   },
   {
    "duration": 27,
    "start_time": "2022-05-24T08:13:09.545Z"
   },
   {
    "duration": 431,
    "start_time": "2022-05-24T08:13:09.586Z"
   },
   {
    "duration": 39,
    "start_time": "2022-05-24T08:13:10.020Z"
   },
   {
    "duration": 83,
    "start_time": "2022-05-24T08:13:10.061Z"
   },
   {
    "duration": 1084,
    "start_time": "2022-05-24T08:13:10.146Z"
   },
   {
    "duration": 78998,
    "start_time": "2022-05-24T08:13:11.231Z"
   },
   {
    "duration": 802,
    "start_time": "2022-05-24T08:14:30.231Z"
   },
   {
    "duration": 465,
    "start_time": "2022-05-24T08:14:31.035Z"
   },
   {
    "duration": 52399,
    "start_time": "2022-05-24T08:14:31.509Z"
   },
   {
    "duration": 418585,
    "start_time": "2022-05-24T08:15:23.909Z"
   },
   {
    "duration": 455,
    "start_time": "2022-05-24T08:22:22.496Z"
   },
   {
    "duration": 12465,
    "start_time": "2022-05-24T08:22:22.953Z"
   },
   {
    "duration": 393,
    "start_time": "2022-05-24T08:22:35.420Z"
   },
   {
    "duration": 28078,
    "start_time": "2022-05-24T08:22:35.816Z"
   },
   {
    "duration": 25102,
    "start_time": "2022-05-24T08:23:03.895Z"
   },
   {
    "duration": 7022,
    "start_time": "2022-05-24T08:23:28.999Z"
   },
   {
    "duration": 61,
    "start_time": "2022-05-24T08:23:36.023Z"
   },
   {
    "duration": 1398,
    "start_time": "2022-05-24T08:34:36.400Z"
   },
   {
    "duration": 1223,
    "start_time": "2022-05-24T08:34:37.801Z"
   },
   {
    "duration": 26,
    "start_time": "2022-05-24T08:34:39.026Z"
   },
   {
    "duration": 560,
    "start_time": "2022-05-24T08:34:39.055Z"
   },
   {
    "duration": 761,
    "start_time": "2022-05-24T08:34:39.617Z"
   },
   {
    "duration": 124,
    "start_time": "2022-05-24T08:34:40.382Z"
   },
   {
    "duration": 244,
    "start_time": "2022-05-24T08:34:40.508Z"
   },
   {
    "duration": 47,
    "start_time": "2022-05-24T08:34:40.755Z"
   },
   {
    "duration": 104,
    "start_time": "2022-05-24T08:34:40.805Z"
   },
   {
    "duration": 149,
    "start_time": "2022-05-24T08:34:40.912Z"
   },
   {
    "duration": 1153,
    "start_time": "2022-05-24T08:34:41.063Z"
   },
   {
    "duration": 23,
    "start_time": "2022-05-24T08:34:42.218Z"
   },
   {
    "duration": 52,
    "start_time": "2022-05-24T08:34:42.243Z"
   },
   {
    "duration": 102,
    "start_time": "2022-05-24T08:34:42.298Z"
   },
   {
    "duration": 10,
    "start_time": "2022-05-24T08:34:42.402Z"
   },
   {
    "duration": 8,
    "start_time": "2022-05-24T08:34:42.415Z"
   },
   {
    "duration": 75,
    "start_time": "2022-05-24T08:34:42.425Z"
   },
   {
    "duration": 91,
    "start_time": "2022-05-24T08:34:42.502Z"
   },
   {
    "duration": 188,
    "start_time": "2022-05-24T08:34:42.595Z"
   },
   {
    "duration": 175,
    "start_time": "2022-05-24T08:34:42.786Z"
   },
   {
    "duration": 198,
    "start_time": "2022-05-24T08:34:42.963Z"
   },
   {
    "duration": 292,
    "start_time": "2022-05-24T08:34:43.163Z"
   },
   {
    "duration": 32,
    "start_time": "2022-05-24T08:34:43.457Z"
   },
   {
    "duration": 147,
    "start_time": "2022-05-24T08:34:43.491Z"
   },
   {
    "duration": 170,
    "start_time": "2022-05-24T08:34:43.641Z"
   },
   {
    "duration": 258,
    "start_time": "2022-05-24T08:34:43.813Z"
   },
   {
    "duration": 40,
    "start_time": "2022-05-24T08:34:44.073Z"
   },
   {
    "duration": 440,
    "start_time": "2022-05-24T08:34:44.116Z"
   },
   {
    "duration": 51,
    "start_time": "2022-05-24T08:34:44.558Z"
   },
   {
    "duration": 104,
    "start_time": "2022-05-24T08:34:44.611Z"
   },
   {
    "duration": 1144,
    "start_time": "2022-05-24T08:34:44.717Z"
   },
   {
    "duration": 86089,
    "start_time": "2022-05-24T08:34:45.864Z"
   },
   {
    "duration": 787,
    "start_time": "2022-05-24T08:36:11.954Z"
   },
   {
    "duration": 492,
    "start_time": "2022-05-24T08:36:12.743Z"
   },
   {
    "duration": 33247,
    "start_time": "2022-05-24T08:36:13.238Z"
   },
   {
    "duration": 379898,
    "start_time": "2022-05-24T08:36:46.487Z"
   },
   {
    "duration": 196,
    "start_time": "2022-05-24T08:43:06.388Z"
   },
   {
    "duration": 16111,
    "start_time": "2022-05-24T08:43:06.586Z"
   },
   {
    "duration": 378,
    "start_time": "2022-05-24T08:43:22.700Z"
   },
   {
    "duration": 23986,
    "start_time": "2022-05-24T08:43:23.080Z"
   },
   {
    "duration": 10017,
    "start_time": "2022-05-24T08:43:47.067Z"
   },
   {
    "duration": 9415,
    "start_time": "2022-05-24T08:43:57.086Z"
   },
   {
    "duration": 11,
    "start_time": "2022-05-24T08:44:06.503Z"
   },
   {
    "duration": 1390,
    "start_time": "2022-05-24T09:01:58.604Z"
   },
   {
    "duration": 1114,
    "start_time": "2022-05-24T09:01:59.997Z"
   },
   {
    "duration": 24,
    "start_time": "2022-05-24T09:02:01.113Z"
   },
   {
    "duration": 604,
    "start_time": "2022-05-24T09:02:01.140Z"
   },
   {
    "duration": 843,
    "start_time": "2022-05-24T09:02:01.747Z"
   },
   {
    "duration": 135,
    "start_time": "2022-05-24T09:02:02.593Z"
   },
   {
    "duration": 227,
    "start_time": "2022-05-24T09:02:02.731Z"
   },
   {
    "duration": 43,
    "start_time": "2022-05-24T09:02:02.960Z"
   },
   {
    "duration": 111,
    "start_time": "2022-05-24T09:02:03.005Z"
   },
   {
    "duration": 146,
    "start_time": "2022-05-24T09:02:03.120Z"
   },
   {
    "duration": 1251,
    "start_time": "2022-05-24T09:02:03.268Z"
   },
   {
    "duration": 25,
    "start_time": "2022-05-24T09:02:04.521Z"
   },
   {
    "duration": 43,
    "start_time": "2022-05-24T09:02:04.549Z"
   },
   {
    "duration": 96,
    "start_time": "2022-05-24T09:02:04.594Z"
   },
   {
    "duration": 8,
    "start_time": "2022-05-24T09:02:04.692Z"
   },
   {
    "duration": 8,
    "start_time": "2022-05-24T09:02:04.701Z"
   },
   {
    "duration": 33,
    "start_time": "2022-05-24T09:02:04.711Z"
   },
   {
    "duration": 116,
    "start_time": "2022-05-24T09:02:04.746Z"
   },
   {
    "duration": 128,
    "start_time": "2022-05-24T09:02:04.865Z"
   },
   {
    "duration": 138,
    "start_time": "2022-05-24T09:02:04.995Z"
   },
   {
    "duration": 161,
    "start_time": "2022-05-24T09:02:05.135Z"
   },
   {
    "duration": 300,
    "start_time": "2022-05-24T09:02:05.298Z"
   },
   {
    "duration": 26,
    "start_time": "2022-05-24T09:02:05.600Z"
   },
   {
    "duration": 188,
    "start_time": "2022-05-24T09:02:05.628Z"
   },
   {
    "duration": 159,
    "start_time": "2022-05-24T09:02:05.818Z"
   },
   {
    "duration": 247,
    "start_time": "2022-05-24T09:02:05.978Z"
   },
   {
    "duration": 27,
    "start_time": "2022-05-24T09:02:06.227Z"
   },
   {
    "duration": 405,
    "start_time": "2022-05-24T09:02:06.257Z"
   },
   {
    "duration": 49,
    "start_time": "2022-05-24T09:02:06.664Z"
   },
   {
    "duration": 78,
    "start_time": "2022-05-24T09:02:06.715Z"
   },
   {
    "duration": 1213,
    "start_time": "2022-05-24T09:02:06.795Z"
   },
   {
    "duration": 79432,
    "start_time": "2022-05-24T09:02:08.011Z"
   },
   {
    "duration": 719,
    "start_time": "2022-05-24T09:03:27.445Z"
   },
   {
    "duration": 462,
    "start_time": "2022-05-24T09:03:28.166Z"
   },
   {
    "duration": 37155,
    "start_time": "2022-05-24T09:03:28.630Z"
   },
   {
    "duration": 287001,
    "start_time": "2022-05-24T09:04:05.787Z"
   },
   {
    "duration": 276,
    "start_time": "2022-05-24T09:08:52.792Z"
   },
   {
    "duration": 27625,
    "start_time": "2022-05-24T09:08:53.070Z"
   },
   {
    "duration": 340,
    "start_time": "2022-05-24T09:09:20.698Z"
   },
   {
    "duration": 23778,
    "start_time": "2022-05-24T09:09:21.040Z"
   },
   {
    "duration": 14069,
    "start_time": "2022-05-24T09:09:44.820Z"
   },
   {
    "duration": 16850,
    "start_time": "2022-05-24T09:09:58.891Z"
   },
   {
    "duration": 9,
    "start_time": "2022-05-24T09:10:15.743Z"
   },
   {
    "duration": 1315,
    "start_time": "2022-05-24T09:13:45.549Z"
   },
   {
    "duration": 934,
    "start_time": "2022-05-24T09:13:46.866Z"
   },
   {
    "duration": 20,
    "start_time": "2022-05-24T09:13:47.801Z"
   },
   {
    "duration": 569,
    "start_time": "2022-05-24T09:13:47.823Z"
   },
   {
    "duration": 697,
    "start_time": "2022-05-24T09:13:48.395Z"
   },
   {
    "duration": 119,
    "start_time": "2022-05-24T09:13:49.094Z"
   },
   {
    "duration": 208,
    "start_time": "2022-05-24T09:13:49.215Z"
   },
   {
    "duration": 35,
    "start_time": "2022-05-24T09:13:49.425Z"
   },
   {
    "duration": 106,
    "start_time": "2022-05-24T09:13:49.462Z"
   },
   {
    "duration": 129,
    "start_time": "2022-05-24T09:13:49.570Z"
   },
   {
    "duration": 1055,
    "start_time": "2022-05-24T09:13:49.702Z"
   },
   {
    "duration": 25,
    "start_time": "2022-05-24T09:13:50.759Z"
   },
   {
    "duration": 30,
    "start_time": "2022-05-24T09:13:50.785Z"
   },
   {
    "duration": 90,
    "start_time": "2022-05-24T09:13:50.818Z"
   },
   {
    "duration": 21,
    "start_time": "2022-05-24T09:13:50.910Z"
   },
   {
    "duration": 9,
    "start_time": "2022-05-24T09:13:50.933Z"
   },
   {
    "duration": 55,
    "start_time": "2022-05-24T09:13:50.943Z"
   },
   {
    "duration": 83,
    "start_time": "2022-05-24T09:13:51.000Z"
   },
   {
    "duration": 106,
    "start_time": "2022-05-24T09:13:51.085Z"
   },
   {
    "duration": 131,
    "start_time": "2022-05-24T09:13:51.193Z"
   },
   {
    "duration": 132,
    "start_time": "2022-05-24T09:13:51.326Z"
   },
   {
    "duration": 294,
    "start_time": "2022-05-24T09:13:51.460Z"
   },
   {
    "duration": 45,
    "start_time": "2022-05-24T09:13:51.756Z"
   },
   {
    "duration": 154,
    "start_time": "2022-05-24T09:13:51.803Z"
   },
   {
    "duration": 156,
    "start_time": "2022-05-24T09:13:51.959Z"
   },
   {
    "duration": 213,
    "start_time": "2022-05-24T09:13:52.117Z"
   },
   {
    "duration": 26,
    "start_time": "2022-05-24T09:13:52.332Z"
   },
   {
    "duration": 395,
    "start_time": "2022-05-24T09:13:52.359Z"
   },
   {
    "duration": 46,
    "start_time": "2022-05-24T09:13:52.755Z"
   },
   {
    "duration": 63,
    "start_time": "2022-05-24T09:13:52.803Z"
   },
   {
    "duration": 1482,
    "start_time": "2022-05-24T09:13:52.868Z"
   },
   {
    "duration": 102951,
    "start_time": "2022-05-24T09:13:54.352Z"
   },
   {
    "duration": 652,
    "start_time": "2022-05-24T09:15:37.305Z"
   },
   {
    "duration": 461,
    "start_time": "2022-05-24T09:15:37.960Z"
   },
   {
    "duration": 25374,
    "start_time": "2022-05-24T09:15:38.423Z"
   },
   {
    "duration": 293602,
    "start_time": "2022-05-24T09:16:03.885Z"
   },
   {
    "duration": 191,
    "start_time": "2022-05-24T09:20:57.583Z"
   },
   {
    "duration": 25723,
    "start_time": "2022-05-24T09:20:57.776Z"
   },
   {
    "duration": 529,
    "start_time": "2022-05-24T09:21:23.501Z"
   },
   {
    "duration": 37109,
    "start_time": "2022-05-24T09:21:24.032Z"
   },
   {
    "duration": 8051,
    "start_time": "2022-05-24T09:22:01.145Z"
   },
   {
    "duration": 17463,
    "start_time": "2022-05-24T09:22:09.286Z"
   },
   {
    "duration": 15,
    "start_time": "2022-05-24T09:22:26.751Z"
   },
   {
    "duration": 1577,
    "start_time": "2022-05-24T10:26:27.945Z"
   },
   {
    "duration": 1304,
    "start_time": "2022-05-24T10:26:29.525Z"
   },
   {
    "duration": 22,
    "start_time": "2022-05-24T10:26:30.832Z"
   },
   {
    "duration": 617,
    "start_time": "2022-05-24T10:26:30.856Z"
   },
   {
    "duration": 894,
    "start_time": "2022-05-24T10:26:31.475Z"
   },
   {
    "duration": 148,
    "start_time": "2022-05-24T10:26:32.371Z"
   },
   {
    "duration": 246,
    "start_time": "2022-05-24T10:26:32.522Z"
   },
   {
    "duration": 44,
    "start_time": "2022-05-24T10:26:32.770Z"
   },
   {
    "duration": 123,
    "start_time": "2022-05-24T10:26:32.817Z"
   },
   {
    "duration": 164,
    "start_time": "2022-05-24T10:26:32.943Z"
   },
   {
    "duration": 1328,
    "start_time": "2022-05-24T10:26:33.110Z"
   },
   {
    "duration": 17,
    "start_time": "2022-05-24T10:26:34.439Z"
   },
   {
    "duration": 54,
    "start_time": "2022-05-24T10:26:34.458Z"
   },
   {
    "duration": 115,
    "start_time": "2022-05-24T10:26:34.514Z"
   },
   {
    "duration": 20,
    "start_time": "2022-05-24T10:26:34.631Z"
   },
   {
    "duration": 8,
    "start_time": "2022-05-24T10:26:34.653Z"
   },
   {
    "duration": 80,
    "start_time": "2022-05-24T10:26:34.662Z"
   },
   {
    "duration": 97,
    "start_time": "2022-05-24T10:26:34.744Z"
   },
   {
    "duration": 142,
    "start_time": "2022-05-24T10:26:34.843Z"
   },
   {
    "duration": 170,
    "start_time": "2022-05-24T10:26:34.989Z"
   },
   {
    "duration": 166,
    "start_time": "2022-05-24T10:26:35.161Z"
   },
   {
    "duration": 335,
    "start_time": "2022-05-24T10:26:35.329Z"
   },
   {
    "duration": 35,
    "start_time": "2022-05-24T10:26:35.666Z"
   },
   {
    "duration": 165,
    "start_time": "2022-05-24T10:26:35.703Z"
   },
   {
    "duration": 183,
    "start_time": "2022-05-24T10:26:35.870Z"
   },
   {
    "duration": 283,
    "start_time": "2022-05-24T10:26:36.055Z"
   },
   {
    "duration": 28,
    "start_time": "2022-05-24T10:26:36.340Z"
   },
   {
    "duration": 463,
    "start_time": "2022-05-24T10:26:36.383Z"
   },
   {
    "duration": 46,
    "start_time": "2022-05-24T10:26:36.848Z"
   },
   {
    "duration": 101,
    "start_time": "2022-05-24T10:26:36.896Z"
   },
   {
    "duration": 3095,
    "start_time": "2022-05-24T10:26:37.000Z"
   },
   {
    "duration": 214913,
    "start_time": "2022-05-24T10:26:40.098Z"
   },
   {
    "duration": 741,
    "start_time": "2022-05-24T10:30:15.013Z"
   },
   {
    "duration": 505,
    "start_time": "2022-05-24T10:30:15.755Z"
   },
   {
    "duration": 19033,
    "start_time": "2022-05-24T10:30:16.261Z"
   },
   {
    "duration": 410801,
    "start_time": "2022-05-24T10:30:35.390Z"
   },
   {
    "duration": 343,
    "start_time": "2022-05-24T10:37:26.201Z"
   },
   {
    "duration": 40538,
    "start_time": "2022-05-24T10:37:26.546Z"
   },
   {
    "duration": 1044,
    "start_time": "2022-05-24T10:38:07.087Z"
   },
   {
    "duration": 70436,
    "start_time": "2022-05-24T10:38:08.134Z"
   },
   {
    "duration": 20012,
    "start_time": "2022-05-24T10:39:18.572Z"
   },
   {
    "duration": 25600,
    "start_time": "2022-05-24T10:39:38.587Z"
   },
   {
    "duration": 20,
    "start_time": "2022-05-24T10:40:04.190Z"
   },
   {
    "duration": 1452,
    "start_time": "2022-05-24T11:11:53.247Z"
   },
   {
    "duration": 1156,
    "start_time": "2022-05-24T11:11:54.701Z"
   },
   {
    "duration": 32,
    "start_time": "2022-05-24T11:11:55.859Z"
   },
   {
    "duration": 582,
    "start_time": "2022-05-24T11:11:55.894Z"
   },
   {
    "duration": 814,
    "start_time": "2022-05-24T11:11:56.478Z"
   },
   {
    "duration": 160,
    "start_time": "2022-05-24T11:11:57.294Z"
   },
   {
    "duration": 256,
    "start_time": "2022-05-24T11:11:57.455Z"
   },
   {
    "duration": 36,
    "start_time": "2022-05-24T11:11:57.713Z"
   },
   {
    "duration": 139,
    "start_time": "2022-05-24T11:11:57.751Z"
   },
   {
    "duration": 190,
    "start_time": "2022-05-24T11:11:57.896Z"
   },
   {
    "duration": 1400,
    "start_time": "2022-05-24T11:11:58.090Z"
   },
   {
    "duration": 20,
    "start_time": "2022-05-24T11:11:59.493Z"
   },
   {
    "duration": 35,
    "start_time": "2022-05-24T11:11:59.515Z"
   },
   {
    "duration": 117,
    "start_time": "2022-05-24T11:11:59.551Z"
   },
   {
    "duration": 21,
    "start_time": "2022-05-24T11:11:59.669Z"
   },
   {
    "duration": 8,
    "start_time": "2022-05-24T11:11:59.692Z"
   },
   {
    "duration": 39,
    "start_time": "2022-05-24T11:11:59.703Z"
   },
   {
    "duration": 113,
    "start_time": "2022-05-24T11:11:59.744Z"
   },
   {
    "duration": 125,
    "start_time": "2022-05-24T11:11:59.859Z"
   },
   {
    "duration": 168,
    "start_time": "2022-05-24T11:11:59.986Z"
   },
   {
    "duration": 178,
    "start_time": "2022-05-24T11:12:00.156Z"
   },
   {
    "duration": 390,
    "start_time": "2022-05-24T11:12:00.337Z"
   },
   {
    "duration": 30,
    "start_time": "2022-05-24T11:12:00.729Z"
   },
   {
    "duration": 176,
    "start_time": "2022-05-24T11:12:00.761Z"
   },
   {
    "duration": 188,
    "start_time": "2022-05-24T11:12:00.940Z"
   },
   {
    "duration": 278,
    "start_time": "2022-05-24T11:12:01.131Z"
   },
   {
    "duration": 32,
    "start_time": "2022-05-24T11:12:01.411Z"
   },
   {
    "duration": 482,
    "start_time": "2022-05-24T11:12:01.446Z"
   },
   {
    "duration": 55,
    "start_time": "2022-05-24T11:12:01.931Z"
   },
   {
    "duration": 76,
    "start_time": "2022-05-24T11:12:01.990Z"
   },
   {
    "duration": 3120,
    "start_time": "2022-05-24T11:12:02.068Z"
   },
   {
    "duration": 194436,
    "start_time": "2022-05-24T11:12:05.190Z"
   },
   {
    "duration": 691,
    "start_time": "2022-05-24T11:15:19.627Z"
   },
   {
    "duration": 447,
    "start_time": "2022-05-24T11:15:20.319Z"
   },
   {
    "duration": 26317,
    "start_time": "2022-05-24T11:15:20.767Z"
   },
   {
    "duration": 369098,
    "start_time": "2022-05-24T11:15:47.087Z"
   },
   {
    "duration": 305,
    "start_time": "2022-05-24T11:21:56.188Z"
   },
   {
    "duration": 52308,
    "start_time": "2022-05-24T11:21:56.496Z"
   },
   {
    "duration": 852,
    "start_time": "2022-05-24T11:22:48.807Z"
   },
   {
    "duration": 60494,
    "start_time": "2022-05-24T11:22:49.660Z"
   },
   {
    "duration": 9036,
    "start_time": "2022-05-24T11:23:50.156Z"
   },
   {
    "duration": 27704,
    "start_time": "2022-05-24T11:23:59.195Z"
   },
   {
    "duration": 12,
    "start_time": "2022-05-24T11:24:26.901Z"
   },
   {
    "duration": 1373,
    "start_time": "2022-05-24T11:40:43.786Z"
   },
   {
    "duration": 1030,
    "start_time": "2022-05-24T11:40:45.161Z"
   },
   {
    "duration": 22,
    "start_time": "2022-05-24T11:40:46.193Z"
   },
   {
    "duration": 554,
    "start_time": "2022-05-24T11:40:46.217Z"
   },
   {
    "duration": 780,
    "start_time": "2022-05-24T11:40:46.773Z"
   },
   {
    "duration": 130,
    "start_time": "2022-05-24T11:40:47.556Z"
   },
   {
    "duration": 238,
    "start_time": "2022-05-24T11:40:47.688Z"
   },
   {
    "duration": 42,
    "start_time": "2022-05-24T11:40:47.928Z"
   },
   {
    "duration": 159,
    "start_time": "2022-05-24T11:40:47.973Z"
   },
   {
    "duration": 158,
    "start_time": "2022-05-24T11:40:48.136Z"
   },
   {
    "duration": 1158,
    "start_time": "2022-05-24T11:40:48.296Z"
   },
   {
    "duration": 17,
    "start_time": "2022-05-24T11:40:49.455Z"
   },
   {
    "duration": 41,
    "start_time": "2022-05-24T11:40:49.473Z"
   },
   {
    "duration": 94,
    "start_time": "2022-05-24T11:40:49.516Z"
   },
   {
    "duration": 7,
    "start_time": "2022-05-24T11:40:49.612Z"
   },
   {
    "duration": 11,
    "start_time": "2022-05-24T11:40:49.621Z"
   },
   {
    "duration": 57,
    "start_time": "2022-05-24T11:40:49.634Z"
   },
   {
    "duration": 78,
    "start_time": "2022-05-24T11:40:49.693Z"
   },
   {
    "duration": 115,
    "start_time": "2022-05-24T11:40:49.788Z"
   },
   {
    "duration": 143,
    "start_time": "2022-05-24T11:40:49.905Z"
   },
   {
    "duration": 140,
    "start_time": "2022-05-24T11:40:50.050Z"
   },
   {
    "duration": 308,
    "start_time": "2022-05-24T11:40:50.192Z"
   },
   {
    "duration": 28,
    "start_time": "2022-05-24T11:40:50.502Z"
   },
   {
    "duration": 145,
    "start_time": "2022-05-24T11:40:50.532Z"
   },
   {
    "duration": 156,
    "start_time": "2022-05-24T11:40:50.684Z"
   },
   {
    "duration": 243,
    "start_time": "2022-05-24T11:40:50.842Z"
   },
   {
    "duration": 29,
    "start_time": "2022-05-24T11:40:51.087Z"
   },
   {
    "duration": 412,
    "start_time": "2022-05-24T11:40:51.119Z"
   },
   {
    "duration": 59,
    "start_time": "2022-05-24T11:40:51.532Z"
   },
   {
    "duration": 69,
    "start_time": "2022-05-24T11:40:51.593Z"
   },
   {
    "duration": 1169,
    "start_time": "2022-05-24T11:40:51.665Z"
   },
   {
    "duration": 80016,
    "start_time": "2022-05-24T11:40:52.836Z"
   },
   {
    "duration": 699,
    "start_time": "2022-05-24T11:42:12.854Z"
   },
   {
    "duration": 451,
    "start_time": "2022-05-24T11:42:13.555Z"
   },
   {
    "duration": 27480,
    "start_time": "2022-05-24T11:42:14.008Z"
   },
   {
    "duration": 302405,
    "start_time": "2022-05-24T11:42:41.583Z"
   },
   {
    "duration": 285,
    "start_time": "2022-05-24T11:47:43.994Z"
   },
   {
    "duration": 38939,
    "start_time": "2022-05-24T11:47:44.283Z"
   },
   {
    "duration": 389,
    "start_time": "2022-05-24T11:48:23.224Z"
   },
   {
    "duration": 25487,
    "start_time": "2022-05-24T11:48:23.615Z"
   },
   {
    "duration": 19381,
    "start_time": "2022-05-24T11:48:49.105Z"
   },
   {
    "duration": 26137,
    "start_time": "2022-05-24T11:49:08.488Z"
   },
   {
    "duration": 12,
    "start_time": "2022-05-24T11:49:34.627Z"
   },
   {
    "duration": 1423,
    "start_time": "2022-05-24T12:01:30.642Z"
   },
   {
    "duration": 1047,
    "start_time": "2022-05-24T12:01:32.067Z"
   },
   {
    "duration": 26,
    "start_time": "2022-05-24T12:01:33.119Z"
   },
   {
    "duration": 527,
    "start_time": "2022-05-24T12:01:33.147Z"
   },
   {
    "duration": 729,
    "start_time": "2022-05-24T12:01:33.676Z"
   },
   {
    "duration": 121,
    "start_time": "2022-05-24T12:01:34.406Z"
   },
   {
    "duration": 210,
    "start_time": "2022-05-24T12:01:34.529Z"
   },
   {
    "duration": 31,
    "start_time": "2022-05-24T12:01:34.740Z"
   },
   {
    "duration": 99,
    "start_time": "2022-05-24T12:01:34.773Z"
   },
   {
    "duration": 126,
    "start_time": "2022-05-24T12:01:34.885Z"
   },
   {
    "duration": 1116,
    "start_time": "2022-05-24T12:01:35.013Z"
   },
   {
    "duration": 17,
    "start_time": "2022-05-24T12:01:36.131Z"
   },
   {
    "duration": 45,
    "start_time": "2022-05-24T12:01:36.151Z"
   },
   {
    "duration": 89,
    "start_time": "2022-05-24T12:01:36.198Z"
   },
   {
    "duration": 8,
    "start_time": "2022-05-24T12:01:36.289Z"
   },
   {
    "duration": 7,
    "start_time": "2022-05-24T12:01:36.299Z"
   },
   {
    "duration": 37,
    "start_time": "2022-05-24T12:01:36.308Z"
   },
   {
    "duration": 112,
    "start_time": "2022-05-24T12:01:36.347Z"
   },
   {
    "duration": 115,
    "start_time": "2022-05-24T12:01:36.461Z"
   },
   {
    "duration": 147,
    "start_time": "2022-05-24T12:01:36.583Z"
   },
   {
    "duration": 139,
    "start_time": "2022-05-24T12:01:36.732Z"
   },
   {
    "duration": 299,
    "start_time": "2022-05-24T12:01:36.873Z"
   },
   {
    "duration": 29,
    "start_time": "2022-05-24T12:01:37.174Z"
   },
   {
    "duration": 154,
    "start_time": "2022-05-24T12:01:37.205Z"
   },
   {
    "duration": 165,
    "start_time": "2022-05-24T12:01:37.360Z"
   },
   {
    "duration": 245,
    "start_time": "2022-05-24T12:01:37.527Z"
   },
   {
    "duration": 33,
    "start_time": "2022-05-24T12:01:37.774Z"
   },
   {
    "duration": 485,
    "start_time": "2022-05-24T12:01:37.809Z"
   },
   {
    "duration": 36,
    "start_time": "2022-05-24T12:01:38.296Z"
   },
   {
    "duration": 81,
    "start_time": "2022-05-24T12:01:38.334Z"
   },
   {
    "duration": 1141,
    "start_time": "2022-05-24T12:01:38.417Z"
   },
   {
    "duration": 78846,
    "start_time": "2022-05-24T12:01:39.561Z"
   },
   {
    "duration": 716,
    "start_time": "2022-05-24T12:02:58.409Z"
   },
   {
    "duration": 442,
    "start_time": "2022-05-24T12:02:59.127Z"
   },
   {
    "duration": 26520,
    "start_time": "2022-05-24T12:02:59.572Z"
   },
   {
    "duration": 316093,
    "start_time": "2022-05-24T12:03:26.094Z"
   },
   {
    "duration": 300,
    "start_time": "2022-05-24T12:08:42.190Z"
   },
   {
    "duration": 87119,
    "start_time": "2022-05-24T12:08:42.492Z"
   },
   {
    "duration": 386,
    "start_time": "2022-05-24T12:10:09.613Z"
   },
   {
    "duration": 25054,
    "start_time": "2022-05-24T12:10:10.002Z"
   },
   {
    "duration": 7038,
    "start_time": "2022-05-24T12:10:35.058Z"
   },
   {
    "duration": 51521,
    "start_time": "2022-05-24T12:10:42.098Z"
   },
   {
    "duration": 15,
    "start_time": "2022-05-24T12:11:33.621Z"
   },
   {
    "duration": 1387,
    "start_time": "2022-05-24T12:13:32.801Z"
   },
   {
    "duration": 1038,
    "start_time": "2022-05-24T12:13:34.190Z"
   },
   {
    "duration": 23,
    "start_time": "2022-05-24T12:13:35.230Z"
   },
   {
    "duration": 517,
    "start_time": "2022-05-24T12:13:35.254Z"
   },
   {
    "duration": 719,
    "start_time": "2022-05-24T12:13:35.774Z"
   },
   {
    "duration": 132,
    "start_time": "2022-05-24T12:13:36.494Z"
   },
   {
    "duration": 235,
    "start_time": "2022-05-24T12:13:36.628Z"
   },
   {
    "duration": 37,
    "start_time": "2022-05-24T12:13:36.864Z"
   },
   {
    "duration": 95,
    "start_time": "2022-05-24T12:13:36.903Z"
   },
   {
    "duration": 139,
    "start_time": "2022-05-24T12:13:37.001Z"
   },
   {
    "duration": 1277,
    "start_time": "2022-05-24T12:13:37.142Z"
   },
   {
    "duration": 16,
    "start_time": "2022-05-24T12:13:38.421Z"
   },
   {
    "duration": 47,
    "start_time": "2022-05-24T12:13:38.439Z"
   },
   {
    "duration": 83,
    "start_time": "2022-05-24T12:13:38.488Z"
   },
   {
    "duration": 14,
    "start_time": "2022-05-24T12:13:38.573Z"
   },
   {
    "duration": 6,
    "start_time": "2022-05-24T12:13:38.589Z"
   },
   {
    "duration": 33,
    "start_time": "2022-05-24T12:13:38.597Z"
   },
   {
    "duration": 101,
    "start_time": "2022-05-24T12:13:38.631Z"
   },
   {
    "duration": 115,
    "start_time": "2022-05-24T12:13:38.734Z"
   },
   {
    "duration": 151,
    "start_time": "2022-05-24T12:13:38.850Z"
   },
   {
    "duration": 126,
    "start_time": "2022-05-24T12:13:39.002Z"
   },
   {
    "duration": 297,
    "start_time": "2022-05-24T12:13:39.129Z"
   },
   {
    "duration": 30,
    "start_time": "2022-05-24T12:13:39.429Z"
   },
   {
    "duration": 165,
    "start_time": "2022-05-24T12:13:39.461Z"
   },
   {
    "duration": 167,
    "start_time": "2022-05-24T12:13:39.629Z"
   },
   {
    "duration": 272,
    "start_time": "2022-05-24T12:13:39.798Z"
   },
   {
    "duration": 35,
    "start_time": "2022-05-24T12:13:40.072Z"
   },
   {
    "duration": 402,
    "start_time": "2022-05-24T12:13:40.111Z"
   },
   {
    "duration": 38,
    "start_time": "2022-05-24T12:13:40.515Z"
   },
   {
    "duration": 78,
    "start_time": "2022-05-24T12:13:40.554Z"
   },
   {
    "duration": 1100,
    "start_time": "2022-05-24T12:13:40.633Z"
   },
   {
    "duration": 79649,
    "start_time": "2022-05-24T12:13:41.735Z"
   },
   {
    "duration": 770,
    "start_time": "2022-05-24T12:15:01.385Z"
   },
   {
    "duration": 448,
    "start_time": "2022-05-24T12:15:02.157Z"
   },
   {
    "duration": 28985,
    "start_time": "2022-05-24T12:15:02.607Z"
   },
   {
    "duration": 355401,
    "start_time": "2022-05-24T12:15:31.691Z"
   },
   {
    "duration": 271,
    "start_time": "2022-05-24T12:21:27.184Z"
   },
   {
    "duration": 38753,
    "start_time": "2022-05-24T12:21:27.457Z"
   },
   {
    "duration": 375,
    "start_time": "2022-05-24T12:22:06.212Z"
   },
   {
    "duration": 25690,
    "start_time": "2022-05-24T12:22:06.588Z"
   },
   {
    "duration": 9708,
    "start_time": "2022-05-24T12:22:32.280Z"
   },
   {
    "duration": 23155,
    "start_time": "2022-05-24T12:22:41.991Z"
   },
   {
    "duration": 11,
    "start_time": "2022-05-24T12:23:05.149Z"
   },
   {
    "duration": 1414,
    "start_time": "2022-05-25T08:00:55.186Z"
   },
   {
    "duration": 2962,
    "start_time": "2022-05-25T08:00:56.602Z"
   },
   {
    "duration": 21,
    "start_time": "2022-05-25T08:00:59.566Z"
   },
   {
    "duration": 528,
    "start_time": "2022-05-25T08:00:59.589Z"
   },
   {
    "duration": 679,
    "start_time": "2022-05-25T08:01:00.119Z"
   },
   {
    "duration": 120,
    "start_time": "2022-05-25T08:01:00.800Z"
   },
   {
    "duration": 203,
    "start_time": "2022-05-25T08:01:00.922Z"
   },
   {
    "duration": 37,
    "start_time": "2022-05-25T08:01:01.127Z"
   },
   {
    "duration": 101,
    "start_time": "2022-05-25T08:01:01.165Z"
   },
   {
    "duration": 125,
    "start_time": "2022-05-25T08:01:01.267Z"
   },
   {
    "duration": 1144,
    "start_time": "2022-05-25T08:01:01.394Z"
   },
   {
    "duration": 17,
    "start_time": "2022-05-25T08:01:02.542Z"
   },
   {
    "duration": 31,
    "start_time": "2022-05-25T08:01:02.562Z"
   },
   {
    "duration": 104,
    "start_time": "2022-05-25T08:01:02.597Z"
   },
   {
    "duration": 7,
    "start_time": "2022-05-25T08:01:02.702Z"
   },
   {
    "duration": 10,
    "start_time": "2022-05-25T08:01:02.711Z"
   },
   {
    "duration": 30,
    "start_time": "2022-05-25T08:01:02.742Z"
   },
   {
    "duration": 102,
    "start_time": "2022-05-25T08:01:02.774Z"
   },
   {
    "duration": 117,
    "start_time": "2022-05-25T08:01:02.877Z"
   },
   {
    "duration": 150,
    "start_time": "2022-05-25T08:01:02.995Z"
   },
   {
    "duration": 122,
    "start_time": "2022-05-25T08:01:03.147Z"
   },
   {
    "duration": 276,
    "start_time": "2022-05-25T08:01:03.271Z"
   },
   {
    "duration": 25,
    "start_time": "2022-05-25T08:01:03.549Z"
   },
   {
    "duration": 154,
    "start_time": "2022-05-25T08:01:03.575Z"
   },
   {
    "duration": 151,
    "start_time": "2022-05-25T08:01:03.731Z"
   },
   {
    "duration": 265,
    "start_time": "2022-05-25T08:01:03.884Z"
   },
   {
    "duration": 25,
    "start_time": "2022-05-25T08:01:04.150Z"
   },
   {
    "duration": 382,
    "start_time": "2022-05-25T08:01:04.178Z"
   },
   {
    "duration": 49,
    "start_time": "2022-05-25T08:01:04.562Z"
   },
   {
    "duration": 77,
    "start_time": "2022-05-25T08:01:04.612Z"
   },
   {
    "duration": 1013,
    "start_time": "2022-05-25T08:01:04.691Z"
   },
   {
    "duration": 73625,
    "start_time": "2022-05-25T08:01:05.706Z"
   },
   {
    "duration": 802,
    "start_time": "2022-05-25T08:02:19.333Z"
   },
   {
    "duration": 435,
    "start_time": "2022-05-25T08:02:20.141Z"
   },
   {
    "duration": 36674,
    "start_time": "2022-05-25T08:02:20.578Z"
   },
   {
    "duration": 385209,
    "start_time": "2022-05-25T08:02:57.254Z"
   },
   {
    "duration": 300,
    "start_time": "2022-05-25T08:09:22.542Z"
   },
   {
    "duration": 38323,
    "start_time": "2022-05-25T08:09:22.845Z"
   },
   {
    "duration": 1218,
    "start_time": "2022-05-25T08:10:01.169Z"
   },
   {
    "duration": 80383,
    "start_time": "2022-05-25T08:10:02.389Z"
   },
   {
    "duration": 81266,
    "start_time": "2022-05-25T08:11:22.776Z"
   },
   {
    "duration": 43171,
    "start_time": "2022-05-25T08:12:44.044Z"
   },
   {
    "duration": 13,
    "start_time": "2022-05-25T08:13:27.217Z"
   }
  ],
  "kernelspec": {
   "display_name": "Python 3 (ipykernel)",
   "language": "python",
   "name": "python3"
  },
  "language_info": {
   "codemirror_mode": {
    "name": "ipython",
    "version": 3
   },
   "file_extension": ".py",
   "mimetype": "text/x-python",
   "name": "python",
   "nbconvert_exporter": "python",
   "pygments_lexer": "ipython3",
   "version": "3.9.5"
  },
  "toc": {
   "base_numbering": 1,
   "nav_menu": {},
   "number_sections": true,
   "sideBar": true,
   "skip_h1_title": true,
   "title_cell": "Table of Contents",
   "title_sidebar": "Contents",
   "toc_cell": false,
   "toc_position": {
    "height": "calc(100% - 180px)",
    "left": "10px",
    "top": "150px",
    "width": "165px"
   },
   "toc_section_display": true,
   "toc_window_display": true
  }
 },
 "nbformat": 4,
 "nbformat_minor": 2
}
